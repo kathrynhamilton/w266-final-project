{
 "cells": [
  {
   "cell_type": "code",
   "execution_count": 1,
   "metadata": {},
   "outputs": [],
   "source": [
    "import spacy\n",
    "from spacy import displacy\n",
    "from spacy_lookup import Entity # use for dict NER\n",
    "import pandas as pd\n",
    "import glob\n",
    "from importlib import reload"
   ]
  },
  {
   "cell_type": "markdown",
   "metadata": {},
   "source": [
    "#### Ingredients"
   ]
  },
  {
   "cell_type": "code",
   "execution_count": 2,
   "metadata": {},
   "outputs": [],
   "source": [
    "diary = ['butter','buttermilk','butterfat','casein','cheese','cream','creamer',\n",
    "         'creme','curd','custard','dairy','dulce','egg','eggnog','gelato',\n",
    "         'ghee','ice cream','kefir','milk','paneer','soft serve','sour cream',\n",
    "         'whey','whey protein','whipped cream','whites','yogurt','yolks',\n",
    "         'mayonnaise','mayo']\n",
    "\n",
    "fruits = ['acai','apple','apples','apricot','apricots','banana','bananas',\n",
    "          'berries','berry','blackberries','blackberry','blackcurrant',\n",
    "          'blueberries','blueberry','cantaloupe','cherries','cherry',\n",
    "          'clementine','clementines','coconut','coconuts','cranberries',\n",
    "          'cranberry','currant','currants','date','dates','dragonfruit',\n",
    "          'fig','figs','fruit','fruits','grape','grapefruit','grapes','guava',\n",
    "          'honeydew','kiwi','kiwis','lemon','lemons','lime','limes','lychee',\n",
    "          'mandarine','mandarines','mango','mangos','melon','melons',\n",
    "          'nectarine','nectarines','olive','olives','orange','oranges',\n",
    "          'papaya','papayas','passionfruit','peach','peaches','pear','pears',\n",
    "          'pineapple','plum','plums','pomegranate','pomelo','pomelos','prune',\n",
    "          'prunes','raisin','raisins','raspberries','raspberry','strawberries',\n",
    "          'strawberry','tangerine','tangerines','watermelon']\n",
    "\n",
    "grains = ['angel hair','baking powder','baking soda','barley','bread',\n",
    "          'buckwheat','bulgur','bun','buns','campanelle','cappelletti',\n",
    "          'cereal','cornmeal','couscous','crackers','dough','fettuccine',\n",
    "          'flaxseed','flour','fusilli','grain','grano','grits','lasagna',\n",
    "          'lasagne','linguine','loaf','macaroni','manicotti','millet','muesli',\n",
    "          'muffins','muffins','noodle','noodles','oatmeal','oats','orzo',\n",
    "          'pappardelle','pasta','penne','pita','popcorn','pretzel','pretzels',\n",
    "          'quinoa','ravioli','rice','rigate','rigatoni','rocchetti','rolls',\n",
    "          'rotini','rye','seitan','shells','spaghetti','spelt','tortellini',\n",
    "          'tortilla','tortillas','vermicelli','yeast']\n",
    "\n",
    "protein = ['abalone','anchovy','arctic char','bacon','barracuda','barramundi',\n",
    "        'bass','bear','beef','beef heart','beef liver','beef tongue','bib',\n",
    "        'bison','black drum','bluefish','bluenose','bone','breast','brisket',\n",
    "        'buffalo','bullhead','butterfish','calf liver','calimari','capelin',\n",
    "        'caribou','carp','catfish','caviar','char','chicken','chicken liver',\n",
    "        'chilean seabass','chub','chuck','clam','cobia','cockle','cod','coho',\n",
    "        'coley','conch','cornish game hen','corvina','crab','crab brown',\n",
    "        'crawfish','crayfish','croaker','cusk','cuttle fish','dab','drum',\n",
    "        'duck','duck liver','eel','emu','escargot','escolar','filet','fish',\n",
    "        'flank','flounder','frog','gilthead','gizzards','goat','goose',\n",
    "        'goose liver','greater amberjack','grenadier','grouper','grouse',\n",
    "        'guinea hen','haddock','hake','halfmoon fish','halibut','ham',\n",
    "        'harvest fish','herring','horse','imitation crab','jellyfish',\n",
    "        'kangaroo','lamb','limpet slipper','lingcod','liver','lobster','loin',\n",
    "        'mackerel','mahi-mahi','manila','marlin','marrow soup','meat',\n",
    "        'monkfish','moose','mullet','muskellunge','mussel','mussels','mutton',\n",
    "        'ocean pout','octopus','opah','opaleye','opossum','orange roughy',\n",
    "        'organ meats','organs','ostrich','oyster','pangasius','parrotfish',\n",
    "        'partridge','perch','pheasant','pickerel','pike','pilchards','plaice',\n",
    "        'pollock','pollock, atlantic','pomfret','pompano','porgy','pork',\n",
    "        'poultry','pouting','prawn','protein','pumpkinseed','quail','rabbit',\n",
    "        'red snapper','rib','rockfish','rosefish','round','sablefish','salmon',\n",
    "        'sanddabs','sardine','scad','scallops','scrod','scup','sea beam',\n",
    "        'sea turtle','sea urchin','seabass','seafood','seatrout','shad',\n",
    "        'shank','shark','sheepshead','shrimp','sirloin','skate','snail',\n",
    "        'snake','sockeye','sole','spearfish','squab','squid','squirrel',\n",
    "        'striped bass','sturgeon','sucker','sunfish','swai','sweetbreads',\n",
    "        'swordfish','tatoaba','tenderloin','thigh','tilapia','tilefish',\n",
    "        'tripe','trout','tuna','turbot','turkey','turtle','veal','venison',\n",
    "        'wahoo','walleye','weakfish','whitefish','whiting','wing','wolfish',\n",
    "        'wreckfish','yellowtail'] \n",
    "\n",
    "vegetables = ['artichoke','arugula','asparagus','avocado','bean','bean sprouts',\n",
    "              'beans','beet','beetroot','beets','bell pepper','bell peppers',\n",
    "              'bok choy','broccoli','brussels sprouts','butter beans',\n",
    "              'butternut squash','cabbage','carrot','cauliflower','ceci beans',\n",
    "              'celeriac','celery','chamomile','chard','chickpea','chickpeas',\n",
    "              'chilis','collard greens','corn','cucumber','cucumbers','dill',\n",
    "              'eggplant','fennel','garlic','greens','kale','leek','leeks',\n",
    "              'legumes','lentils','lettuce','mushroom','mushrooms','onion',\n",
    "              'peas','peppers','potato','potatoes','pumpkin','radicchio',\n",
    "              'radish','radishes','scallion','scallions','shallot','shallots',\n",
    "              'snap peas','spinach','sprouts','squash','tomato','tomatoes',\n",
    "              'turnips','vegetable','yam','zucchini',] \n",
    "\n",
    "other = ['acorn','aioli','allspice','almond','almonds','anise','balm','basil',\n",
    "         'bean','beans','bourbon','broth','capers','capsicum','cardamom',\n",
    "         'cashew','cashews','chestnuts','chia','chicory','chimichurri','chives',\n",
    "         'chocolate','chutney','cilantro','cinnamon','clove','cloves',\n",
    "         'condiment','condiments','coriander','cumin','dijon','dill','dip',\n",
    "         'dressing','drizzle','fats','flower','frosting','gin','ginger',\n",
    "         'grease','guacamole','gum','habanero','hazelnut','herb','herbs',\n",
    "         'hoisin','honey','horseradish','hummus','jalapeno','jam','jasmine',\n",
    "         'jelly','ketchup','lard','lavender','leaf','lemongrass','licorice',\n",
    "         'margarine','marigold','marmite','mayo','mint','miso',\n",
    "         'mix','mole','mustard','myrtle','nut','nutella','nutmeg','nuts','oil',\n",
    "         'oils','oregano','paprika','parsley','peanut','peanuts','pecan',\n",
    "         'pecans','pepper','peppermint','pesto','pickle','pickles',\n",
    "         'pico de gallo','pistachio','pistachios','poppy','powder','preserves',\n",
    "         'reduction','relish','root','rosemary','rum','safflower','saffron',\n",
    "         'sage','salsa','salt','sassafras','sauce','sauerkraut','seasoning',\n",
    "         'seasonings','seed','seeds','sesame','shiso','shortening','spearmint',\n",
    "         'spice','spices','spread','sriracha','sugar','sunflower','syrup',\n",
    "         'tabasco','tahini','tarragon','tartar','thyme','tomato sauce',\n",
    "         'turmeric','tzatziki','tzatzki','vanilla','vegemite','vinegar',\n",
    "         'vodka','walnut','walnuts','wasabi','water','whisky','wine',\n",
    "         'wintergreen','yeast','zest','ingredient','ingredients','lemon juice',\n",
    "         'salad'] "
   ]
  },
  {
   "cell_type": "code",
   "execution_count": 3,
   "metadata": {},
   "outputs": [],
   "source": [
    "# print((diary))\n",
    "# print((fruits))\n",
    "# print((grains))\n",
    "# print((protein))\n",
    "# print((vegetables))\n",
    "# print((other))"
   ]
  },
  {
   "cell_type": "markdown",
   "metadata": {},
   "source": [
    "#### Tools"
   ]
  },
  {
   "cell_type": "code",
   "execution_count": 4,
   "metadata": {},
   "outputs": [],
   "source": [
    "# Preparation Tools & Essentials\n",
    "pte = [\"Chef's Knife\", \n",
    "'Chef Knife',       \n",
    "'Cutting Board',\n",
    "'Can Opener',\n",
    "'Measuring Cups',\n",
    "'Measuring Spoons',\n",
    "'Mixing Bowls',\n",
    "'Colander',\n",
    "'Vegetable Peeler',\n",
    "'Potato Masher',\n",
    "'Whisk',\n",
    "'Salad Spinner',\n",
    "'Grater',\n",
    "'Shears',\n",
    "'Citrus Juicer',\n",
    "'Garlic Press',\n",
    "'Paring Knife',\n",
    "'Bread Knife',\n",
    "'Honing Ceramic Rod',\n",
    "'Sharpening Ceramic Rod',\n",
    "'Knife Sharpener']\n",
    "\n",
    "# Cookware & Bakeware\n",
    "cbware = ['Stainless Steel Skillet',\n",
    "'Sauté Pan',\n",
    "'Small Saucepan',\n",
    "'Medium Saucepan',\n",
    "'Large Pot',\n",
    "'Cast Iron Skillet',\n",
    "'Grill Pan',\n",
    "'Baking Sheet Pan',\n",
    "'Casserole Dish',\n",
    "'Broiler Pan',\n",
    "'Stockpot']\n",
    "\n",
    "# Cooking Tools & Kitchen Utensils\n",
    "ctku = ['Spatula',\n",
    "'Stirring Spoon',\n",
    "'Tongs',\n",
    "'Ladle',\n",
    "'Oven Mitts',\n",
    "'Trivet',\n",
    "'Splatter Guard',\n",
    "'Thermometer']\n",
    "\n",
    "# Appliances\n",
    "appliances = ['Immersion Blender',\n",
    "             'Kitchen Scale',\n",
    "             'Blender']\n",
    "\n",
    "# Kitchen essentials\n",
    "ke = ['Food Storage Containers',\n",
    "'Aluminum Foil',\n",
    "'Parchment Paper',\n",
    "'Towels',\n",
    "'Sponges',\n",
    "'Heavy Sponges',\n",
    "'Dish Rack',\n",
    "'Ice Cube Tray',\n",
    "'Trash Bags',\n",
    "'Trash Bin']"
   ]
  },
  {
   "cell_type": "code",
   "execution_count": 5,
   "metadata": {},
   "outputs": [],
   "source": [
    "# print(pte)\n",
    "# print(ctku)\n",
    "# print(appliances)\n",
    "# print(ke)"
   ]
  },
  {
   "cell_type": "markdown",
   "metadata": {},
   "source": [
    "#### Actions"
   ]
  },
  {
   "cell_type": "code",
   "execution_count": 6,
   "metadata": {},
   "outputs": [],
   "source": [
    "actions = ['Arrange',\n",
    "'Baste',\n",
    "'Beat',\n",
    "'Blend',\n",
    "'Brown',\n",
    "'Build',\n",
    "'Bury',\n",
    "'Carve',\n",
    "'Check',\n",
    "'Chop',\n",
    "'Close',\n",
    "'Cool',\n",
    "'Correct',\n",
    "'Cover',\n",
    "'Crumple',\n",
    "'Cut',\n",
    "'Decorate',\n",
    "'Discard',\n",
    "'Divide',\n",
    "'Drape',\n",
    "'Drop',\n",
    "'Dry',\n",
    "'Film',\n",
    "'Fold',\n",
    "'Follow',\n",
    "'Form',\n",
    "'Force',\n",
    "'Glaze',\n",
    "'Insert',\n",
    "'Lay',\n",
    "'Leave',\n",
    "'Lift',\n",
    "'Make',\n",
    "'Melt',\n",
    "'Mince',\n",
    "'Mix',\n",
    "'Moisten',\n",
    "'Mound',\n",
    "'Open',\n",
    "'Pack',\n",
    "'Paint',\n",
    "'Pierce',\n",
    "'Pour',\n",
    "'Prepare',\n",
    "'Press',\n",
    "'Prick',\n",
    "'Pull',\n",
    "'Puree',\n",
    "'Push',\n",
    "'Quarter',\n",
    "'Raise',\n",
    "'Reduce',\n",
    "'Refresh',\n",
    "'Reheat',\n",
    "'Replace',\n",
    "'Return',\n",
    "'Ring',\n",
    "'Roast',\n",
    "'Roll',\n",
    "'Salt',\n",
    "'Saute',\n",
    "'Scatter',\n",
    "'Scoop',\n",
    "'Scrape',\n",
    "'Scrub',\n",
    "'Season',\n",
    "'Separate',\n",
    "'Set',\n",
    "'Settle',\n",
    "'Shave',\n",
    "'Simmer',\n",
    "'Skim',\n",
    "'Slice',\n",
    "'Slide',\n",
    "'Slip',\n",
    "'Slit',\n",
    "'Smear',\n",
    "'Soak',\n",
    "'Spoon',\n",
    "'Spread',\n",
    "'Sprinkle',\n",
    "'Stir',\n",
    "'Strain',\n",
    "'Strew',\n",
    "'Stuff',\n",
    "'Surround',\n",
    "'Taste',\n",
    "'Thin',\n",
    "'Tie',\n",
    "'Tilt',\n",
    "'Tip',\n",
    "'Top',\n",
    "'Toss',\n",
    "'Trim',\n",
    "'Turn',\n",
    "'Twist',\n",
    "'Warm',\n",
    "'Wilt',\n",
    "'Wind',\n",
    "'Wrap']"
   ]
  },
  {
   "cell_type": "code",
   "execution_count": 7,
   "metadata": {},
   "outputs": [],
   "source": [
    "#print(actions)"
   ]
  },
  {
   "cell_type": "code",
   "execution_count": 8,
   "metadata": {},
   "outputs": [],
   "source": [
    "ingredients = diary + fruits + grains + vegetables + other\n",
    "tools = pte + ctku + appliances + ke"
   ]
  },
  {
   "cell_type": "code",
   "execution_count": 9,
   "metadata": {},
   "outputs": [
    {
     "name": "stdout",
     "output_type": "stream",
     "text": [
      "('tagger', <spacy.pipeline.Tagger object at 0x7f4a83f98320>)\n",
      "('parser', <spacy.pipeline.DependencyParser object at 0x7f4a82e9c8e0>)\n",
      "('ner', <spacy.pipeline.EntityRecognizer object at 0x7f4a82e9c938>)\n",
      "('Action', <spacy_lookup.Entity object at 0x7f4a84ce6668>)\n",
      "('Ingredient', <spacy_lookup.Entity object at 0x7f4a84ce6208>)\n",
      "('Tool', <spacy_lookup.Entity object at 0x7f4a84ce6240>)\n"
     ]
    }
   ],
   "source": [
    "nlp = spacy.load('en')\n",
    "\n",
    "# add ingredients tags\n",
    "ingredients_e = Entity(keywords_list=ingredients, label='INGRD')\n",
    "\n",
    "# add tools tags\n",
    "tools_e = Entity(keywords_list=tools, label='TOOL')\n",
    "\n",
    "# add actions tags\n",
    "actions_e = Entity(keywords_list=actions, label='ACTION')\n",
    "\n",
    "# add to pipeline\n",
    "nlp.add_pipe(actions_e, last=True, name=\"Action\")\n",
    "nlp.add_pipe(ingredients_e, last=True, name=\"Ingredient\")\n",
    "nlp.add_pipe(tools_e, last=True, name=\"Tool\")\n",
    "\n",
    "for name in nlp.pipeline:\n",
    "    print(name)"
   ]
  },
  {
   "cell_type": "code",
   "execution_count": 10,
   "metadata": {},
   "outputs": [
    {
     "data": {
      "text/plain": [
       "(100000, 9)"
      ]
     },
     "execution_count": 10,
     "metadata": {},
     "output_type": "execute_result"
    }
   ],
   "source": [
    "# bring 1 json into a dataframe for analysis\n",
    "files = sorted(glob.glob('../layer1.json.[5].valid.gz'))\n",
    "df = pd.concat([pd.read_pickle(fp) for fp in files], ignore_index=True)\n",
    "df.shape"
   ]
  },
  {
   "cell_type": "code",
   "execution_count": 11,
   "metadata": {},
   "outputs": [
    {
     "data": {
      "text/plain": [
       "partition\n",
       "test     111\n",
       "train    500\n",
       "val      112\n",
       "dtype: int64"
      ]
     },
     "execution_count": 11,
     "metadata": {},
     "output_type": "execute_result"
    }
   ],
   "source": [
    "# for simplicity, let's filter out epicurious recipes with less than 5 steps\n",
    "keep_columns = ['id', 'partition', \n",
    "                'collection', 'title', \n",
    "                'ingr_count', 'instr_count', \n",
    "                'ingredients', 'instructions']\n",
    "\n",
    "epicurious = df[(df.collection == 'www.epicurious.com') \n",
    "   & (df.instr_count<=5)][keep_columns].sort_values(by=['instr_count'], ascending=False)\n",
    "\n",
    "# train, val, test counts\n",
    "epicurious.groupby('partition').size()"
   ]
  },
  {
   "cell_type": "code",
   "execution_count": 12,
   "metadata": {},
   "outputs": [
    {
     "data": {
      "text/plain": [
       "500"
      ]
     },
     "execution_count": 12,
     "metadata": {},
     "output_type": "execute_result"
    }
   ],
   "source": [
    "recipes = epicurious[(epicurious.partition=='train')].index\n",
    "len(recipes)"
   ]
  },
  {
   "cell_type": "markdown",
   "metadata": {},
   "source": [
    "#### uncomment to create json line file"
   ]
  },
  {
   "cell_type": "code",
   "execution_count": 13,
   "metadata": {},
   "outputs": [],
   "source": [
    "# import json\n",
    "# exclude_these = [\n",
    "# 'PERSON',\n",
    "# 'NORP',\n",
    "# 'FAC',\n",
    "# 'ORG',\n",
    "# 'GPE',\n",
    "# 'LOC',\n",
    "# 'PRODUCT',\n",
    "# 'EVENT',\n",
    "# 'WORK_OF_ART',\n",
    "# 'LAW',\n",
    "# 'LANGUAGE',\n",
    "# 'MONEY',\n",
    "# 'ORDINAL', \n",
    "# 'DATE',\n",
    "# 'PERCENT',    \n",
    "# 'CARDINAL'    \n",
    "# ]\n",
    "\n",
    "# nlp = spacy.load('en')\n",
    "\n",
    "# ingredients_e = Entity(keywords_list=ingredients, label='INGRD')\n",
    "# tools_e = Entity(keywords_list=tools, label='TOOL')\n",
    "# actions_e = Entity(keywords_list=actions, label='ACTION')\n",
    "\n",
    "# nlp.add_pipe(actions_e, last=True, name=\"Action\")\n",
    "# nlp.add_pipe(ingredients_e, last=True, name=\"Ingredient\")\n",
    "# nlp.add_pipe(tools_e, last=True, name=\"Tool\")\n",
    "\n",
    "# jsonl = open(\"../KH_Data/test_2_epicurious_KH_original.jsonl\", \"w\")\n",
    "# line = {}\n",
    "\n",
    "# for recipe in recipes: \n",
    "#     for each in epicurious['instructions'][recipe]:\n",
    "        \n",
    "#         try:\n",
    "#             # block raising an exception\n",
    "#             for instruction in list(each.values()):\n",
    "#                 doc = nlp(instruction)\n",
    "#                 line['text'] = doc.text\n",
    "#                 entities = []\n",
    "\n",
    "#             if (len(doc.ents) > 0):\n",
    "#                 for i in range(len(doc.ents)):\n",
    "#                     if doc.ents[i].label_ not in exclude_these:\n",
    "#                         entities.append({\"start\" : doc.ents[i].start_char,\n",
    "#                                          \"end\" : doc.ents[i].end_char,\n",
    "#                                          'label': doc.ents[i].label_ \n",
    "#                                         })\n",
    "#             line['spans'] = entities\n",
    "#             line['answer'] = 'reject'\n",
    "#             jsonl.writelines(json.dumps(line) + \"\\n\")\n",
    "\n",
    "#         except:\n",
    "#             pass # doing nothing on exception\n",
    "        \n",
    "# jsonl.close()"
   ]
  },
  {
   "cell_type": "markdown",
   "metadata": {},
   "source": [
    "#### iteration 2, boosted seeding "
   ]
  },
  {
   "cell_type": "code",
   "execution_count": 14,
   "metadata": {},
   "outputs": [],
   "source": [
    "more_tools = [\n",
    "    'aluminum foil','amphora','applicator','aspirator','auger','balisong','bandsaw',\n",
    "    'beater','blender','blenders','botle','bowl','bowls','bread knife','breadbox','breadmaker',\n",
    "    'breville','brush','caddy','cafetiere','caldron','can opener','canners','caserole','cellophane',\n",
    "    'cellotape','chef knife',\"chef's knife\",'chisels','chopstick','chopsticks','citrus juicer','cleavers','coffeemaker','coffeepot','colander','container','cosies','crimper','crimpers','crispers','crock','crockery','crockpot','cups','cutco','cutter','cutters','cutting board','demitasse','depressors','detergent','dipper','dish rack','dishcloths','dishes','dishware','dishwasher','dishwashers','disperser','disposer','dremel','drinkware','drip','drippers','dropper','electrolux','enamelware','ewers','exacto','fireplace','fireplaces','flagons','flosser','food storage containers','fork','forschner','freezer','frier','frothers','garlic press','glas','glassware','glue','goblets','grater','griddle','griddler','hand','handkerchief','hankies','heavy sponges','hemostat','hemostats','honing ceramic rod','hopper','hotpoint','ice cube tray','immersion blender','jar','joiner','jointer','juicer','kcup','kilner','kitchen scale','knife','knife sharpener','knive','ladel','ladle','ladles','lid','linens','makita','mashers','matchbooks','mazzer','measuring cups','measuring spoons','microwave','miele','mincer','minibar','mircowave','miter','mixer','mixers','mixing bowls','moulder','muddler','mugs','mylar','napkin','nesco','oven mitts','overcap','paintbrush','papertowel','parasols','parchment paper','paring knife','percolator','percolators','phials','pipecleaners','planer','plasic','plastic','plastics','polisher','portafilter','pot','potato masher','potholders','pruners','pyrex','refigerator','refridgerators','refrig','refrigerator','salad spinner','sandblaster','santoku','saucepan','saucer','sawzall','scalpels','scissors','scoville','shaker','sharpener','sharpening ceramic rod','shears','sheeter','sieve','sifter','sippies','skillets','slicer','slicers','slitter','slotter','snips','spacemaker','spatula','splatter guard','sponge','sponges','spoon','spoons','sprayer','squeezer','staplers','stein','steins','stemware','stick','stirrers','stirring spoon','stix','stopper','stove','stoves','stovetops','straws','sunbeam','switchblade','switchblades','teaware','thermometer','tinplate','toiletries','tongs','toothbrush','toothbrushes','toothpick','toweling','towels','towles','trash bags','trash bin','trays','trivet','trivets','tweezers','utensil','utensils','vase','vases','vegetable peeler','waffler','washcloth','washclothes','washcloths','washrag','waterbath','wax','whipper','whisk','whisks','wisk','wok','xacto','ziploc','ziplocs']"
   ]
  },
  {
   "cell_type": "code",
   "execution_count": 15,
   "metadata": {},
   "outputs": [],
   "source": [
    "more_actions = ['build','roll','press','surround','toss','correct','mix','discard','thin','melt','warm','fold','return','shave','spoon','divide','carve','stuff','insert','rrim','taste','drop','prepare','cool','moisten','sprinkle','skim','lift','refresh','scoop','film','decorate','pour','reduce','wilt','glaze','check','follow','pierce','set','lay','prick','strain','scatter','push','slide','beat','soak','simmer','scrape','season','blend','paint','tilt','crumple','cover','turn','close','mince','force','strew','bury','form','tip','raise','stir','pack','settle','drape','dry','saute','slit','quarter','brown','slice','ring','smear','scrub','puree','wrap','arrange','top','wind','pull','separate','twist','chop','mound','salt','reheat','roast','make','leave','slip','tie','baste','replace','spread','cut','open','pull','slice','wilt','shave','cool','tie','scrape','sprinkle','slit','roast','surround','replace','tilt','lay','film','roll','wrap','bury','saute','carve','toss','separate','crumple','spread','strain','mince','check','salt','cover','scoop','twist','prepare','refresh','smear','insert','settle','trim','stuff','brown','stir','pack','glaze','raise','slip','fold','discard','thin','wind','tip','correct','beat','mix','soak','turn','mound','simmer','blend','make','drape','quarter','open','reheat','return','strew','paint','set','prick','slide','reduce','moisten','skim','season','decorate','force','lift','divide','leave','close','ring','follow','dry','scrub','pierce','cut','scatter','press','puree','melt','form','spoon','chop','baste','arrange','drop','pour','taste','top','push','warm','build','thin','strain','drape','scrape','dry','soak','divide','prick','replace','tip','warm','roast','twist','discard','form','cut','crumple','spread','surround','scrub','skim','scoop','mound','follow','press','blend','build','strew','shave','refresh','push','decorate','slip','taste','bury','cool','fold','arrange','toss','pull','trim','lay','paint','prepare','slice','simmer','ring','film','smear','pack','tie','leave','slit','melt','close','reduce','stuff','glaze','puree','pour','roll','separate','saute','turn','mince','moisten','return','scatter','season','chop','set','mix','quarter','raise','brown','top','check','insert','carve','drop','make','beat','force','wrap','cover','tilt','pierce','correct','lift','wind','salt','slide','spoon','baste','settle','sprinkle','open','wilt','stir','reheat','scoop','baste','lay','scatter','push','wrap','surround','mound','prepare','make','set', 'peel']"
   ]
  },
  {
   "cell_type": "code",
   "execution_count": 16,
   "metadata": {},
   "outputs": [],
   "source": [
    "nlp = spacy.load('en')\n",
    "\n",
    "# add ingredients tags\n",
    "ingredients_e = Entity(keywords_list=ingredients, label='INGRD')\n",
    "\n",
    "# add tools tags\n",
    "tools_e = Entity(keywords_list=more_tools, label='TOOL')\n",
    "\n",
    "# add actions tags\n",
    "actions_e = Entity(keywords_list=more_actions, label='ACTION')\n",
    "\n",
    "# add to pipeline\n",
    "nlp.add_pipe(actions_e, last=True, name=\"Action\")\n",
    "nlp.add_pipe(ingredients_e, last=True, name=\"Ingredient\")\n",
    "nlp.add_pipe(tools_e, last=True, name=\"Tool\")"
   ]
  },
  {
   "cell_type": "code",
   "execution_count": 17,
   "metadata": {},
   "outputs": [
    {
     "data": {
      "text/html": [
       "<div class=\"entities\" style=\"line-height: 2.5\">\n",
       "<mark class=\"entity\" style=\"background: #ddd; padding: 0.45em 0.6em; margin: 0 0.25em; line-height: 1; border-radius: 0.35em; box-decoration-break: clone; -webkit-box-decoration-break: clone\">\n",
       "    peel\n",
       "    <span style=\"font-size: 0.8em; font-weight: bold; line-height: 1; border-radius: 0.35em; text-transform: uppercase; vertical-align: middle; margin-left: 0.5rem\">ACTION</span>\n",
       "</mark>\n",
       " an \n",
       "<mark class=\"entity\" style=\"background: #ddd; padding: 0.45em 0.6em; margin: 0 0.25em; line-height: 1; border-radius: 0.35em; box-decoration-break: clone; -webkit-box-decoration-break: clone\">\n",
       "    apple\n",
       "    <span style=\"font-size: 0.8em; font-weight: bold; line-height: 1; border-radius: 0.35em; text-transform: uppercase; vertical-align: middle; margin-left: 0.5rem\">INGRD</span>\n",
       "</mark>\n",
       " and put it into the \n",
       "<mark class=\"entity\" style=\"background: #ddd; padding: 0.45em 0.6em; margin: 0 0.25em; line-height: 1; border-radius: 0.35em; box-decoration-break: clone; -webkit-box-decoration-break: clone\">\n",
       "    bowl\n",
       "    <span style=\"font-size: 0.8em; font-weight: bold; line-height: 1; border-radius: 0.35em; text-transform: uppercase; vertical-align: middle; margin-left: 0.5rem\">TOOL</span>\n",
       "</mark>\n",
       "</div>"
      ],
      "text/plain": [
       "<IPython.core.display.HTML object>"
      ]
     },
     "metadata": {},
     "output_type": "display_data"
    }
   ],
   "source": [
    "displacy.render(nlp('peel an apple and put it into the bowl'), style='ent', jupyter=True)"
   ]
  },
  {
   "cell_type": "code",
   "execution_count": 18,
   "metadata": {},
   "outputs": [],
   "source": [
    "import pandas as pd"
   ]
  },
  {
   "cell_type": "code",
   "execution_count": 19,
   "metadata": {},
   "outputs": [
    {
     "data": {
      "text/plain": [
       "Index(['answer', 'spans', 'text'], dtype='object')"
      ]
     },
     "execution_count": 19,
     "metadata": {},
     "output_type": "execute_result"
    }
   ],
   "source": [
    "df = pd.read_json('../KH_Data/test_2_epicurious_KH_original.jsonl', lines=True)\n",
    "df.columns"
   ]
  },
  {
   "cell_type": "markdown",
   "metadata": {},
   "source": [
    "#### uncomment to create json line file"
   ]
  },
  {
   "cell_type": "code",
   "execution_count": 20,
   "metadata": {},
   "outputs": [],
   "source": [
    "# import json \n",
    "\n",
    "# exclude_these = [\n",
    "# 'PERSON',\n",
    "# 'NORP',\n",
    "# 'FAC',\n",
    "# 'ORG',\n",
    "# 'GPE',\n",
    "# 'LOC',\n",
    "# 'PRODUCT',\n",
    "# 'EVENT',\n",
    "# 'WORK_OF_ART',\n",
    "# 'LAW',\n",
    "# 'LANGUAGE',\n",
    "# 'MONEY',\n",
    "# 'ORDINAL', \n",
    "# 'DATE',\n",
    "# 'PERCENT',    \n",
    "# 'CARDINAL'    \n",
    "# ]\n",
    "\n",
    "# jsonl = open(\"../KH_Data/test_2_epicurious_KP_original_annot2.jsonl\", \"w\")\n",
    "# line = {}\n",
    "\n",
    "# for each in df.text:\n",
    "#     try:\n",
    "#         # block raising an exception\n",
    "#         doc = nlp(each)\n",
    "#         line['text'] = doc.text\n",
    "#         entities = []\n",
    "\n",
    "#         if (len(doc.ents) > 0):\n",
    "#             for i in range(len(doc.ents)):\n",
    "#                 if doc.ents[i].label_ not in exclude_these:\n",
    "#                     entities.append({\"start\" : doc.ents[i].start_char,\n",
    "#                                      \"end\" : doc.ents[i].end_char,\n",
    "#                                      'label': doc.ents[i].label_ \n",
    "#                                     })\n",
    "#         line['spans'] = entities\n",
    "#         line['answer'] = 'reject'\n",
    "#         jsonl.writelines(json.dumps(line) + \"\\n\")\n",
    "\n",
    "#     except:\n",
    "#         pass # doing nothing on exception\n",
    "\n",
    "# jsonl.close()"
   ]
  }
 ],
 "metadata": {
  "kernelspec": {
   "display_name": "Python 3",
   "language": "python",
   "name": "python3"
  },
  "language_info": {
   "codemirror_mode": {
    "name": "ipython",
    "version": 3
   },
   "file_extension": ".py",
   "mimetype": "text/x-python",
   "name": "python",
   "nbconvert_exporter": "python",
   "pygments_lexer": "ipython3",
   "version": "3.6.5"
  }
 },
 "nbformat": 4,
 "nbformat_minor": 2
}
