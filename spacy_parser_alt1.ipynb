{
 "cells": [
  {
   "cell_type": "code",
   "execution_count": 1,
   "metadata": {},
   "outputs": [],
   "source": [
    "import spacy\n",
    "#from spacy import displacy\n",
    "import explacy # simple parser visualization\n",
    "import pandas as pd\n",
    "import glob\n",
    "from importlib import reload"
   ]
  },
  {
   "cell_type": "code",
   "execution_count": 2,
   "metadata": {},
   "outputs": [],
   "source": [
    "nlp = spacy.load('en')"
   ]
  },
  {
   "cell_type": "code",
   "execution_count": 3,
   "metadata": {},
   "outputs": [
    {
     "data": {
      "text/plain": [
       "<module 'explacy' from '/root/w266_final/explacy.py'>"
      ]
     },
     "execution_count": 3,
     "metadata": {},
     "output_type": "execute_result"
    }
   ],
   "source": [
    "reload(explacy)"
   ]
  },
  {
   "cell_type": "code",
   "execution_count": 4,
   "metadata": {},
   "outputs": [],
   "source": [
    "# suprisingly becomes child of was, but maybe this is more correct\n",
    "# text = 'The salad was surprisingly tasty.'\n",
    "# explacy.print_parse_info(nlp, text)"
   ]
  },
  {
   "cell_type": "code",
   "execution_count": 5,
   "metadata": {},
   "outputs": [],
   "source": [
    "# this looks right... \n",
    "# text = 'The salad was unexpectedly tasty.'\n",
    "# explacy.print_parse_info(nlp, text)"
   ]
  },
  {
   "cell_type": "code",
   "execution_count": 6,
   "metadata": {},
   "outputs": [
    {
     "data": {
      "text/plain": [
       "(99999, 9)"
      ]
     },
     "execution_count": 6,
     "metadata": {},
     "output_type": "execute_result"
    }
   ],
   "source": [
    "# bring 1 json into a dataframe for analysis\n",
    "files = sorted(glob.glob('layer1.json.[0].valid.gz'))\n",
    "df = pd.concat([pd.read_pickle(fp) for fp in files], ignore_index=True)\n",
    "df.shape"
   ]
  },
  {
   "cell_type": "code",
   "execution_count": 7,
   "metadata": {},
   "outputs": [
    {
     "data": {
      "text/plain": [
       "partition\n",
       "test     111\n",
       "train    489\n",
       "val      110\n",
       "dtype: int64"
      ]
     },
     "execution_count": 7,
     "metadata": {},
     "output_type": "execute_result"
    }
   ],
   "source": [
    "# let's filter out epicurious recipes with less than 10 steps\n",
    "keep_columns = ['id', 'partition', \n",
    "                'collection', 'title', \n",
    "                'ingr_count', 'instr_count', \n",
    "                'ingredients', 'instructions']\n",
    "\n",
    "epicurious = df[(df.collection == 'www.epicurious.com') \n",
    "   & (df.instr_count<=5)][keep_columns].sort_values(by=['instr_count'], ascending=False)\n",
    "\n",
    "# train, val, test counts\n",
    "epicurious.groupby('partition').size()"
   ]
  },
  {
   "cell_type": "code",
   "execution_count": 8,
   "metadata": {},
   "outputs": [],
   "source": [
    "# for simplicity, let's look at recipes with just less than 5 steps \n",
    "test_recipes = epicurious[(epicurious.instr_count<=5)].head(10).index"
   ]
  },
  {
   "cell_type": "code",
   "execution_count": 9,
   "metadata": {},
   "outputs": [],
   "source": [
    "# Garlic Broth with Sage and Parsley, 21658\n",
    "# Grilled Corn on the Cob, 96647\n",
    "\n",
    "# for recipe in test_recipes:\n",
    "#     # title\n",
    "#     print('\\n' + epicurious['title'][recipe] + '\\n')\n",
    "    \n",
    "#     # ingredients\n",
    "#     for index, each in enumerate(epicurious['ingredients'][recipe]):\n",
    "#         print('Ingredient', index+1, ':', list(each.values())[0])\n",
    "    \n",
    "#     # instructoins    \n",
    "#     for index, each in enumerate(epicurious['instructions'][recipe]):\n",
    "#         if index == 0:\n",
    "#             print('Step', index+1, ':', list(each.values())[0])"
   ]
  },
  {
   "cell_type": "code",
   "execution_count": 10,
   "metadata": {},
   "outputs": [
    {
     "name": "stdout",
     "output_type": "stream",
     "text": [
      "\n",
      "CONFETTI SALAD WITH RANCH DRESSING\n",
      "\n",
      "1st step: Combine all vegetables in large bowl.\n",
      "Dep tree   Token      Dep   Tag Pos  \n",
      "────────── ────────── ───── ─── ─────\n",
      "┌┬──┬───── Combine    ROOT  VB  VERB \n",
      "││  │  ┌─► all        det   DT  DET  \n",
      "││  └─►└── vegetables dobj  NNS NOUN \n",
      "│└─►┌───── in         prep  IN  ADP  \n",
      "│   │  ┌─► large      amod  JJ  ADJ  \n",
      "│   └─►└── bowl       pobj  NN  NOUN \n",
      "└────────► .          punct .   PUNCT\n",
      "\n",
      "MANGO CURRY TRUFFLES\n",
      "\n",
      "1st step: Follow recipe for bittersweet chocolate truffle base , stirring curry powder into hot cream (off heat); let stand 2 minutes.\n",
      "Dep tree             Token       Dep      Tag   Pos  \n",
      "──────────────────── ─────────── ──────── ───── ─────\n",
      "                 ┌─► Follow      compound VB    VERB \n",
      "┌─►┌┬─┬┬─────────┴── recipe      nsubj    NN    NOUN \n",
      "│  ││ │└─►┌───────── for         prep     IN    ADP  \n",
      "│  ││ │   │  ┌─────► bittersweet amod     JJ    ADJ  \n",
      "│  ││ │   │  │   ┌─► chocolate   compound NN    NOUN \n",
      "│  ││ │   │  │┌─►└── truffle     compound NN    NOUN \n",
      "│  ││ │   └─►└┴───── base        pobj     NN    NOUN \n",
      "│  ││ └────────────► ,           punct    ,     PUNCT\n",
      "│  │└─►┌──────┬───── stirring    advcl    VBG   VERB \n",
      "│  │   │      │  ┌─► curry       compound NN    NOUN \n",
      "│  │   │      └─►└── powder      dobj     NN    NOUN \n",
      "│  │   └─►┌───────── into        prep     IN    ADP  \n",
      "│  │      │      ┌─► hot         amod     JJ    ADJ  \n",
      "│  │      └─►┌┬──┼── cream       pobj     NN    NOUN \n",
      "│  │         ││  └─► (           punct    -LRB- PUNCT\n",
      "│  │         │└─►┌── off         prep     IN    ADP  \n",
      "│  │         │   └─► heat        pobj     NN    NOUN \n",
      "│  │         └─────► )           punct    -RRB- PUNCT\n",
      "│  └───────────────► ;           punct    :     PUNCT\n",
      "└─────────┬┬──────── let         ROOT     VB    VERB \n",
      "          │└─►┌───── stand       ccomp    VB    VERB \n",
      "          │   │  ┌─► 2           nummod   CD    NUM  \n",
      "          │   └─►└── minutes     npadvmod NNS   NOUN \n",
      "          └────────► .           punct    .     PUNCT\n",
      "\n",
      "LABLABI\n",
      "\n",
      "1st step: Put the drained chickpeas in a pan with the water and simmer, covered, for 1 1/2 hours, until the chickpeas are very soft, adding water to keep the chickpeas covered.\n",
      "Dep tree                   Token     Dep      Tag Pos  \n",
      "────────────────────────── ───────── ──────── ─── ─────\n",
      "┌┬┬┬┬──────────────┬────── Put       ROOT     VB  VERB \n",
      "│││││              │  ┌──► the       det      DT  DET  \n",
      "│││││              │  │┌─► drained   amod     JJ  ADJ  \n",
      "│││││              └─►└┴── chickpeas dobj     NNS NOUN \n",
      "││││└─►┌────────────────── in        prep     IN  ADP  \n",
      "││││   │               ┌─► a         det      DT  DET  \n",
      "││││   └─►┌────┬───────┴── pan       pobj     NN  NOUN \n",
      "││││      │    └─►┌─────── with      prep     IN  ADP  \n",
      "││││      │       │    ┌─► the       det      DT  DET  \n",
      "││││      │       └─►┌┬┼── water     pobj     NN  NOUN \n",
      "││││      │          ││└─► and       cc       CC  CCONJ\n",
      "││││      │          │└──► simmer    conj     NN  NOUN \n",
      "││││      │          └───► ,         punct    ,   PUNCT\n",
      "││││      └─►┌┬────────┬── covered   acl      VBN VERB \n",
      "││││         ││        └─► ,         punct    ,   PUNCT\n",
      "││││         │└─►┌──────── for       prep     IN  ADP  \n",
      "││││         │   │     ┌─► 1         compound CD  NUM  \n",
      "││││         │   │  ┌─►└── 1/2       nummod   CD  NUM  \n",
      "││││         │   └─►└───── hours     pobj     NNS NOUN \n",
      "││││         └───────────► ,         punct    ,   PUNCT\n",
      "││││               ┌─────► until     mark     IN  ADP  \n",
      "││││               │   ┌─► the       det      DT  DET  \n",
      "││││               │┌─►└── chickpeas nsubj    NNS NOUN \n",
      "│││└──────────────►└┼───── are       advcl    VBP VERB \n",
      "│││                 │  ┌─► very      advmod   RB  ADV  \n",
      "│││                 └─►└── soft      acomp    JJ  ADJ  \n",
      "││└──────────────────────► ,         punct    ,   PUNCT\n",
      "│└─────────────►┌──────┬── adding    advcl    VBG VERB \n",
      "│               │      └─► water     dobj     NN  NOUN \n",
      "│               │      ┌─► to        aux      TO  PART \n",
      "│               └─►┌┬──┴── keep      xcomp    VB  VERB \n",
      "│                  ││  ┌─► the       det      DT  DET  \n",
      "│                  │└─►└── chickpeas dobj     NNS NOUN \n",
      "│                  └─────► covered   oprd     VBN VERB \n",
      "└────────────────────────► .         punct    .   PUNCT\n",
      "\n",
      "RANCH DRESSING\n",
      "\n",
      "1st step: Whisk first 3 ingredients in large bowl.\n",
      "Dep tree   Token       Dep    Tag Pos  \n",
      "────────── ─────────── ────── ─── ─────\n",
      "     ┌───► Whisk       amod   NNP PROPN\n",
      "     │┌──► first       amod   JJ  ADJ  \n",
      "     ││┌─► 3           nummod CD  NUM  \n",
      "┌┬───┴┴┴── ingredients ROOT   NNS NOUN \n",
      "│└─►┌───── in          prep   IN  ADP  \n",
      "│   │  ┌─► large       amod   JJ  ADJ  \n",
      "│   └─►└── bowl        pobj   NN  NOUN \n",
      "└────────► .           punct  .   PUNCT\n",
      "\n",
      "CHICKEN ROASTED WITH POTATOES, PEPPERS, AND SHALLOTS\n",
      "\n",
      "1st step: In a large ovenproof skillet toss together the shallots, the garlic, 2 tablespoons of the oil, the bell peppers, the chopped rosemary, the potatoes, and salt and pepper to taste.\n",
      "Dep tree                    Token       Dep      Tag Pos  \n",
      "─────────────────────────── ─────────── ──────── ─── ─────\n",
      "┌┬───────────────────────── In          ROOT     IN  ADP  \n",
      "││                    ┌───► a           det      DT  DET  \n",
      "││                    │┌──► large       amod     JJ  ADJ  \n",
      "││                    ││┌─► ovenproof   compound NN  NOUN \n",
      "││                 ┌─►└┴┴── skillet     nsubj    NN  NOUN \n",
      "│└─►┌┬─────────────┴────┬── toss        pobj     VBP VERB \n",
      "│   ││                  └─► together    advmod   RB  ADV  \n",
      "│   ││                  ┌─► the         det      DT  DET  \n",
      "│   │└─►┌────────────┬──┼── shallots    dobj     NNS NOUN \n",
      "│   │   │            │  └─► ,           punct    ,   PUNCT\n",
      "│   │   │            │  ┌─► the         det      DT  DET  \n",
      "│   │   │            └─►├── garlic      conj     NN  NOUN \n",
      "│   │   │               └─► ,           punct    ,   PUNCT\n",
      "│   │   │               ┌─► 2           nummod   CD  NUM  \n",
      "│   │   └─►┌─────┬┬─────┴── tablespoons conj     NNS NOUN \n",
      "│   │      │     │└─►┌───── of          prep     IN  ADP  \n",
      "│   │      │     │   │  ┌─► the         det      DT  DET  \n",
      "│   │      │     │   └─►└── oil         pobj     NN  NOUN \n",
      "│   │      │     └────────► ,           punct    ,   PUNCT\n",
      "│   │      │           ┌──► the         det      DT  DET  \n",
      "│   │      │           │┌─► bell        compound NN  NOUN \n",
      "│   │      └─►┌────────┴┼── peppers     conj     NNS NOUN \n",
      "│   │         │         └─► ,           punct    ,   PUNCT\n",
      "│   │         │        ┌──► the         det      DT  DET  \n",
      "│   │         │        │┌─► chopped     amod     VBN VERB \n",
      "│   │         └─►┌─────┴┼── rosemary    conj     NN  NOUN \n",
      "│   │            │      └─► ,           punct    ,   PUNCT\n",
      "│   │            │      ┌─► the         det      DT  DET  \n",
      "│   │            └─►┌──┬┼── potatoes    conj     NNS NOUN \n",
      "│   │               │  │└─► ,           punct    ,   PUNCT\n",
      "│   │               │  └──► and         cc       CC  CCONJ\n",
      "│   │               └─►┌┬── salt        conj     NN  NOUN \n",
      "│   │                  │└─► and         cc       CC  CCONJ\n",
      "│   │                  └──► pepper      conj     NN  NOUN \n",
      "│   │                   ┌─► to          aux      TO  PART \n",
      "│   └──────────────────►└── taste       advcl    VB  VERB \n",
      "└─────────────────────────► .           punct    .   PUNCT\n",
      "\n",
      "SIZZLING SAUSAGES WITH SHERRY\n",
      "\n",
      "1st step: Use kitchen shears to cut the links into 1 1/2-inch pieces.\n",
      "Dep tree       Token    Dep      Tag Pos  \n",
      "────────────── ──────── ──────── ─── ─────\n",
      "┌┬──────┬───── Use      ROOT     VB  VERB \n",
      "││      │  ┌─► kitchen  compound NN  NOUN \n",
      "││      └─►└── shears   dobj     NNS NOUN \n",
      "││         ┌─► to       aux      TO  PART \n",
      "│└─►┌───┬──┴── cut      xcomp    VB  VERB \n",
      "│   │   │  ┌─► the      det      DT  DET  \n",
      "│   │   └─►└── links    dobj     NNS NOUN \n",
      "│   └─►┌────── into     prep     IN  ADP  \n",
      "│      │  ┌──► 1        nummod   CD  NUM  \n",
      "│      │  │┌─► 1/2-inch nummod   CD  NUM  \n",
      "│      └─►└┴── pieces   pobj     NNS NOUN \n",
      "└────────────► .        punct    .   PUNCT\n",
      "\n",
      "BUBBAS BEER BISCUITS\n",
      "\n",
      "1st step: Preheat oven to 400 degrees.\n",
      "Dep tree   Token   Dep    Tag Pos  \n",
      "────────── ─────── ────── ─── ─────\n",
      "       ┌─► Preheat nsubj  VB  VERB \n",
      "┌┬─────┴── oven    ROOT   VBD VERB \n",
      "│└─►┌───── to      prep   IN  ADP  \n",
      "│   │  ┌─► 400     nummod CD  NUM  \n",
      "│   └─►└── degrees pobj   NNS NOUN \n",
      "└────────► .       punct  .   PUNCT\n",
      "\n",
      "APPLE SORBET\n",
      "\n",
      "1st step: In a large saucepan combine all ingredients and a pinch salt and simmer, uncovered, 10 minutes, or until apples are very tender.\n",
      "Dep tree       Token       Dep    Tag Pos  \n",
      "────────────── ─────────── ────── ─── ─────\n",
      "    ┌─►┌────── In          prep   IN  ADP  \n",
      "    │  │  ┌──► a           det    DT  DET  \n",
      "    │  │  │┌─► large       amod   JJ  ADJ  \n",
      "    │  └─►└┴── saucepan    pobj   NN  NOUN \n",
      "┌┬┬┬┼───────── combine     ROOT   VBP VERB \n",
      "│││││      ┌─► all         det    DT  DET  \n",
      "││││└─►┌───┼── ingredients dobj   NNS NOUN \n",
      "││││   │   └─► and         cc     CC  CCONJ\n",
      "││││   │  ┌──► a           det    DT  DET  \n",
      "││││   │  │┌─► pinch       amod   NN  NOUN \n",
      "││││   └─►├┼── salt        conj   NN  NOUN \n",
      "││││      │└─► and         cc     CC  CCONJ\n",
      "││││      └──► simmer      conj   NN  NOUN \n",
      "│││└─────────► ,           punct  ,   PUNCT\n",
      "││└─►┌┬┬┬──┬── uncovered   conj   VBN VERB \n",
      "││   ││││  └─► ,           punct  ,   PUNCT\n",
      "││   ││││  ┌─► 10          nummod CD  NUM  \n",
      "││   │││└─►└── minutes     conj   NNS NOUN \n",
      "││   ││└─────► ,           punct  ,   PUNCT\n",
      "││   │└──────► or          cc     CC  CCONJ\n",
      "││   └────►┌── until       conj   IN  ADP  \n",
      "││         └─► apples      pobj   NNS NOUN \n",
      "│└─────►┌───── are         conj   VBP VERB \n",
      "│       │  ┌─► very        advmod RB  ADV  \n",
      "│       └─►└── tender      acomp  JJ  ADJ  \n",
      "└────────────► .           punct  .   PUNCT\n",
      "\n",
      "COCONUT SORBET\n",
      "\n",
      "1st step: Combine the coconut milk with the sugar and taste; add more sugar if you like.\n",
      "Dep tree      Token   Dep   Tag Pos  \n",
      "───────────── ─────── ───── ─── ─────\n",
      "┌┬┬┬──┬────── Combine ROOT  VB  VERB \n",
      "││││  │  ┌──► the     det   DT  DET  \n",
      "││││  │  │┌─► coconut amod  NN  NOUN \n",
      "││││  └─►└┴── milk    dobj  NN  NOUN \n",
      "│││└─►┌────── with    prep  IN  ADP  \n",
      "│││   │   ┌─► the     det   DT  DET  \n",
      "│││   └─►┌┼── sugar   pobj  NN  NOUN \n",
      "│││      │└─► and     cc    CC  CCONJ\n",
      "│││      └──► taste   conj  NN  NOUN \n",
      "││└─────────► ;       punct :   PUNCT\n",
      "│└───►┌┬───── add     conj  VB  VERB \n",
      "│     ││  ┌─► more    amod  JJR ADJ  \n",
      "│     │└─►└── sugar   dobj  NN  NOUN \n",
      "│     │  ┌──► if      mark  IN  ADP  \n",
      "│     │  │┌─► you     nsubj PRP PRON \n",
      "│     └─►└┴── like    advcl VBP VERB \n",
      "└───────────► .       punct .   PUNCT\n",
      "\n",
      "ICE CREAM SUNDAES WITH CHOCOLATE-COFFEE SAUCE\n",
      "\n",
      "1st step: Combine chocolate, liqueur, and whipping cream in heavy small saucepan.\n",
      "Dep tree          Token     Dep      Tag Pos  \n",
      "───────────────── ───────── ──────── ─── ─────\n",
      "              ┌─► Combine   compound NNP PROPN\n",
      "┌┬────────────┼── chocolate ROOT     NN  NOUN \n",
      "││            └─► ,         punct    ,   PUNCT\n",
      "│└─►┌────────┬┬── liqueur   conj     NN  NOUN \n",
      "│   │        │└─► ,         punct    ,   PUNCT\n",
      "│   │        └──► and       cc       CC  CCONJ\n",
      "│   │         ┌─► whipping  compound VBG VERB \n",
      "│   └─►┌──────┴── cream     conj     NN  NOUN \n",
      "│      └─►┌────── in        prep     IN  ADP  \n",
      "│         │  ┌──► heavy     amod     JJ  ADJ  \n",
      "│         │  │┌─► small     amod     JJ  ADJ  \n",
      "│         └─►└┴── saucepan  pobj     NN  NOUN \n",
      "└───────────────► .         punct    .   PUNCT\n"
     ]
    }
   ],
   "source": [
    "# spaCy parameters under Token:\n",
    "# Text: The original word text.\n",
    "# Lemma: The base form of the word.\n",
    "# POS: The simple part-of-speech tag.\n",
    "# Tag: The detailed part-of-speech tag.\n",
    "# Dep: Syntactic dependency, i.e. the relation between tokens.\n",
    "# Shape: The word shape – capitalisation, punctuation, digits.\n",
    "# is alpha: Is the token an alpha character?\n",
    "# is stop: Is the token part of a stop list, i.e. the most common words of the language?\n",
    "\n",
    "for recipe in test_recipes:\n",
    "    # title\n",
    "    print('\\n' + epicurious['title'][recipe].upper() + '\\n')\n",
    "    \n",
    "    # instructoins    \n",
    "    for index, each in enumerate(epicurious['instructions'][recipe]):\n",
    "        if index == 0:\n",
    "            instruction = list(each.values())[0]\n",
    "            print('1st step:', instruction)\n",
    "            #displacy.render(nlp(instruction), style='ent', jupyter=True)\n",
    "            # print parser tree for each step\n",
    "            explacy.print_parse_info(nlp, instruction)"
   ]
  },
  {
   "cell_type": "code",
   "execution_count": null,
   "metadata": {},
   "outputs": [],
   "source": [
    "# for each in (epicurious['ingredients'].head(1)):\n",
    "#     for k, v in enumerate(each):\n",
    "#         doc = nlp(list(v.values())[0])\n",
    "#         print(list(v.values())[0])\n",
    "#         for chunk in doc.noun_chunks:\n",
    "#             print(chunk.root)"
   ]
  },
  {
   "cell_type": "code",
   "execution_count": null,
   "metadata": {},
   "outputs": [],
   "source": [
    "# import benepar\n",
    "# benepar.download('benepar_en')"
   ]
  },
  {
   "cell_type": "code",
   "execution_count": null,
   "metadata": {},
   "outputs": [],
   "source": [
    "# from benepar.spacy_plugin import BeneparComponent"
   ]
  },
  {
   "cell_type": "code",
   "execution_count": null,
   "metadata": {},
   "outputs": [],
   "source": [
    "# nlp = spacy.load('en')\n",
    "# nlp.add_pipe(BeneparComponent('benepar_en'))"
   ]
  },
  {
   "cell_type": "code",
   "execution_count": null,
   "metadata": {},
   "outputs": [],
   "source": [
    "# doc = nlp(\"Bring some light chicken broth to a boil with a few leaves of fresh sage.\")\n",
    "# sent = list(doc.sents)[0]"
   ]
  },
  {
   "cell_type": "code",
   "execution_count": null,
   "metadata": {},
   "outputs": [],
   "source": [
    "# for each in enumerate (sent._.children):\n",
    "#     print(each)"
   ]
  },
  {
   "cell_type": "code",
   "execution_count": null,
   "metadata": {},
   "outputs": [],
   "source": [
    "# type(sent._.children)"
   ]
  },
  {
   "cell_type": "code",
   "execution_count": null,
   "metadata": {},
   "outputs": [],
   "source": [
    "# for each in enumerate (sent._.children):\n",
    "#     # go from the start to the end of each span, returning each token in the sentence\n",
    "#     # combine each token using join()\n",
    "#     print(each.parse_string)"
   ]
  }
 ],
 "metadata": {
  "kernelspec": {
   "display_name": "Python 3",
   "language": "python",
   "name": "python3"
  },
  "language_info": {
   "codemirror_mode": {
    "name": "ipython",
    "version": 3
   },
   "file_extension": ".py",
   "mimetype": "text/x-python",
   "name": "python",
   "nbconvert_exporter": "python",
   "pygments_lexer": "ipython3",
   "version": "3.6.4"
  }
 },
 "nbformat": 4,
 "nbformat_minor": 2
}
