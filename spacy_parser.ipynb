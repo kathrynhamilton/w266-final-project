{
 "cells": [
  {
   "cell_type": "code",
   "execution_count": 1,
   "metadata": {},
   "outputs": [],
   "source": [
    "import spacy\n",
    "import explacy # simple parser visualization\n",
    "import pandas as pd\n",
    "import glob\n",
    "from importlib import reload"
   ]
  },
  {
   "cell_type": "code",
   "execution_count": 2,
   "metadata": {},
   "outputs": [],
   "source": [
    "nlp = spacy.load('en')"
   ]
  },
  {
   "cell_type": "code",
   "execution_count": 3,
   "metadata": {},
   "outputs": [
    {
     "data": {
      "text/plain": [
       "<module 'explacy' from '/root/w266_final/explacy.py'>"
      ]
     },
     "execution_count": 3,
     "metadata": {},
     "output_type": "execute_result"
    }
   ],
   "source": [
    "reload(explacy)"
   ]
  },
  {
   "cell_type": "code",
   "execution_count": 6,
   "metadata": {},
   "outputs": [],
   "source": [
    "# suprisingly becomes child of was, but maybe this is more correct\n",
    "# text = 'The salad was surprisingly tasty.'\n",
    "# explacy.print_parse_info(nlp, text)"
   ]
  },
  {
   "cell_type": "code",
   "execution_count": 7,
   "metadata": {},
   "outputs": [],
   "source": [
    "# this looks right... \n",
    "# text = 'The salad was unexpectedly tasty.'\n",
    "# explacy.print_parse_info(nlp, text)"
   ]
  },
  {
   "cell_type": "code",
   "execution_count": 8,
   "metadata": {},
   "outputs": [
    {
     "data": {
      "text/plain": [
       "(99999, 9)"
      ]
     },
     "execution_count": 8,
     "metadata": {},
     "output_type": "execute_result"
    }
   ],
   "source": [
    "# bring 1 json into a dataframe for analysis\n",
    "files = sorted(glob.glob('layer1.json.[0].valid.gz'))\n",
    "df = pd.concat([pd.read_pickle(fp) for fp in files], ignore_index=True)\n",
    "df.shape"
   ]
  },
  {
   "cell_type": "code",
   "execution_count": 9,
   "metadata": {},
   "outputs": [
    {
     "data": {
      "text/plain": [
       "partition\n",
       "test     111\n",
       "train    489\n",
       "val      110\n",
       "dtype: int64"
      ]
     },
     "execution_count": 9,
     "metadata": {},
     "output_type": "execute_result"
    }
   ],
   "source": [
    "# let's filter out epicurious recipes with less than 10 steps\n",
    "keep_columns = ['id', 'partition', \n",
    "                'collection', 'title', \n",
    "                'ingr_count', 'instr_count', \n",
    "                'ingredients', 'instructions']\n",
    "\n",
    "epicurious = df[(df.collection == 'www.epicurious.com') \n",
    "   & (df.instr_count<=5)][keep_columns].sort_values(by=['instr_count'], ascending=False)\n",
    "\n",
    "# train, val, test counts\n",
    "epicurious.groupby('partition').size()"
   ]
  },
  {
   "cell_type": "code",
   "execution_count": 60,
   "metadata": {},
   "outputs": [
    {
     "name": "stdout",
     "output_type": "stream",
     "text": [
      "Int64Index([53425, 53356, 55816, 55722, 55493, 54858, 54715, 54065, 53479,\n",
      "            53358],\n",
      "           dtype='int64')\n"
     ]
    }
   ],
   "source": [
    "# for simplicity, let's look at recipes with just less than 5 steps \n",
    "test_recipes = epicurious[(epicurious.instr_count<=5)].head(10).index"
   ]
  },
  {
   "cell_type": "code",
   "execution_count": 59,
   "metadata": {},
   "outputs": [
    {
     "name": "stdout",
     "output_type": "stream",
     "text": [
      "\n",
      "Confetti Salad with Ranch Dressing\n",
      "\n",
      "Ingredient 1 : 1 English hothouse cucumber, chopped\n",
      "Ingredient 2 : 1 16-ounce bag frozen petite peas, thawed\n",
      "Ingredient 3 : 2 bunches radishes, chopped\n",
      "Ingredient 4 : 1 cup chopped celery\n",
      "Ingredient 5 : 1/2 cup finely chopped red onion\n",
      "Ingredient 6 : Ranch Dressing\n",
      "Step 1 : Combine all vegetables in large bowl.\n",
      "Step 2 : (Can be prepared 4 hours ahead.\n",
      "Step 3 : Cover and refrigerate.)\n",
      "Step 4 : Toss salad with enough Ranch Dressing to coat.\n",
      "Step 5 : Season to taste with salt and pepper and serve.\n",
      "\n",
      "Mango Curry Truffles\n",
      "\n",
      "Ingredient 1 : bittersweet chocolate truffle base\n",
      "Ingredient 2 : 1 teaspoon mild curry powder\n",
      "Ingredient 3 : 1/2 cup mango puree (from 1 mango)\n",
      "Ingredient 4 : mango powder* or toasted finely shredded unsweetened coconut\n",
      "Ingredient 5 : *A tart powder available at Indian markets and at savoryspiceshop.com\n",
      "Step 1 : Follow recipe for bittersweet chocolate truffle base , stirring curry powder into hot cream (off heat); let stand 2 minutes.\n",
      "Step 2 : Stir in roomtemperature mango puree (from 1 mango, pureed until smooth in processor).\n",
      "Step 3 : Mix in melted chocolate; chill.\n",
      "Step 4 : Form truffles.\n",
      "Step 5 : Drop each freshly coated truffle (or justformed, uncoated truffle) into bowl of mango powder or toasted coconut; turn to coat.\n",
      "\n",
      "Lablabi\n",
      "\n",
      "Ingredient 1 : 2 cups chickpeas, soaked overnight\n",
      "Ingredient 2 : 2 quarts water\n",
      "Ingredient 3 : Salt\n",
      "Ingredient 4 : 4 or 5 cloves garlic, crushed\n",
      "Ingredient 5 : 1 teaspoon harissa (see page 464), or to taste (optional)\n",
      "Ingredient 6 : 12 teaspoons ground cumin\n",
      "Ingredient 7 : 6 slices day-old or very lightly toasted country bread\n",
      "Ingredient 8 : 34 lemons cut in wedges\n",
      "Ingredient 9 : 1/2 cup extra-virgin olive oil, or a bottle to pass around\n",
      "Step 1 : Put the drained chickpeas in a pan with the water and simmer, covered, for 1 1/2 hours, until the chickpeas are very soft, adding water to keep the chickpeas covered.\n",
      "Step 2 : Add salt, garlic, harissa, and cumin, and cook 20 minutes more.\n",
      "Step 3 : Serve in individual soup bowls.\n",
      "Step 4 : Put a slice of toasted bread in each bowl and ladle the soup on top.\n",
      "Step 5 : Give people lemon wedges to squeeze over their bowls and pass round the bottle of olive oil for them to sprinkle on.\n",
      "\n",
      "Ranch Dressing\n",
      "\n",
      "Ingredient 1 : 3/4 cup mayonnaise\n",
      "Ingredient 2 : 1/2 cup buttermilk\n",
      "Ingredient 3 : 2 tablespoons powdered cultured buttermilk blend*\n",
      "Ingredient 4 : 2 tablespoons finely chopped fresh parsley\n",
      "Ingredient 5 : 2 tablespoons finely chopped celery leaves\n",
      "Ingredient 6 : 1 1/2 teaspoons fresh lemon juice\n",
      "Ingredient 7 : 1 1/2 teaspoons Dijon mustard\n",
      "Ingredient 8 : 3/4 teaspoon onion powder\n",
      "Ingredient 9 : 1/4 teaspoon dried dillweed\n",
      "Ingredient 10 : *Available alongside the canned and powdered milk in most supermarkets.\n",
      "Step 1 : Whisk first 3 ingredients in large bowl.\n",
      "Step 2 : Mix in remaining ingredients.\n",
      "Step 3 : Cover and chill at least 1 hour to blend flavors.\n",
      "Step 4 : (Dressing can be prepared 5 days ahead.\n",
      "Step 5 : Keep refrigerated.)\n",
      "\n",
      "Chicken Roasted with Potatoes, Peppers, and Shallots\n",
      "\n",
      "Ingredient 1 : 3 large shallots, peeled, blanched in boiling water for 2 minutes, and halved lengthwise\n",
      "Ingredient 2 : 2 garlic cloves, minced\n",
      "Ingredient 3 : 2 tablespoons plus 1 teaspoon olive oil\n",
      "Ingredient 4 : 1/2 red bell pepper, cut into 1-inch pieces\n",
      "Ingredient 5 : 1/2 yellow bell pepper, cut into 1-inch pieces\n",
      "Ingredient 6 : 1 tablespoon finely chopped fresh rosemary leaves or 1 tablespoon crumbled dried, plus, if desired, rosemary sprigs for garnish\n",
      "Ingredient 7 : 3/4 pound small red potatoes, scrubbed and halved or, if large, quartered\n",
      "Ingredient 8 : 1 whole chicken breast (about 1 1/2 pounds), halved\n",
      "Ingredient 9 : 1 tablespoon fresh lemon juice\n",
      "Ingredient 10 : 1/2 cup chicken broth\n",
      "Step 1 : In a large ovenproof skillet toss together the shallots, the garlic, 2 tablespoons of the oil, the bell peppers, the chopped rosemary, the potatoes, and salt and pepper to taste.\n",
      "Step 2 : Rub the chicken with the remaining 1 teaspoon oil, the lemon juice, and salt and pepper to taste and arrange it, skin side up, on top of the vegetable mixture.\n",
      "Step 3 : Roast the chicken and the vegetables in the upper third of a preheated 450F oven for 20 minutes, reduce the temperature to 357F., and roast the chicken and the vegetables for 15 minutes more, or until the chicken is cooked through and the potatoes are tender.\n",
      "Step 4 : Transfer the chicken and the vegetables with a slotted spoon to a heated platter, stir the broth into the skillet, scraping up the brown bits, and boil the mixture for 1 minute.\n",
      "Step 5 : Strain the liquid through a sieve over the chicken and garnish the chicken with the rosemary sprigs.\n",
      "\n",
      "Sizzling Sausages with Sherry\n",
      "\n",
      "Ingredient 1 : 1 pound fresh pork link sausage\n",
      "Ingredient 2 : 1 1/2 teaspoons olive oil\n",
      "Ingredient 3 : 1/3 cup dry Sherry\n",
      "Ingredient 4 : Chopped fresh flat-leaf parsley\n",
      "Step 1 : Use kitchen shears to cut the links into 1 1/2-inch pieces.\n",
      "Step 2 : Heat the oil in a skillet over medium heat and brown the sausage pieces on all sides, about 5 minutes.\n",
      "Step 3 : Add the Sherry and cook over medium heat for 3 minutes.\n",
      "Step 4 : Serve sprinkled with parsley.\n",
      "Step 5 : If the sausage pieces are to be served as a tapas, spear them with toothpicks.\n",
      "\n",
      "Bubbas Beer Biscuits\n",
      "\n",
      "Ingredient 1 : 4 cups Bisquick\n",
      "Ingredient 2 : 1/4 to 1/2 cup sugar\n",
      "Ingredient 3 : One 12-ounce can of beer\n",
      "Ingredient 4 : 2 tablespoons butter, melted\n",
      "Step 1 : Preheat oven to 400 degrees.\n",
      "Step 2 : Mix all ingredients well, adjusting the sugar according to how sweet a biscuit you prefer.\n",
      "Step 3 : Pour into wellgreased muffin tins.\n",
      "Step 4 : Bake for 15 to 20 minutes.\n",
      "Step 5 : Serve with honey butter.\n",
      "\n",
      "Apple Sorbet\n",
      "\n",
      "Ingredient 1 : 2 cups clear apple juice\n",
      "Ingredient 2 : 3 Granny Smith apples (about 1 1/2 pounds), peeled and cut into 1/2-inch pieces\n",
      "Ingredient 3 : 1 tablespoon fresh lemon juice\n",
      "Ingredient 4 : 3 tablespoons sugar\n",
      "Step 1 : In a large saucepan combine all ingredients and a pinch salt and simmer, uncovered, 10 minutes, or until apples are very tender.\n",
      "Step 2 : Strain mixture through a sieve into a blender and add half of solids in sieve to blender, discarding remaining solids.\n",
      "Step 3 : Puree apple mixture and chill until cold.\n",
      "Step 4 : Freeze sorbet in an ice-cream maker.\n",
      "Step 5 : Sorbet may be made 1 week ahead.\n",
      "\n",
      "Coconut Sorbet\n",
      "\n",
      "Ingredient 1 : 3 cans coconut milk (about 1 quart)\n",
      "Ingredient 2 : 1 cup sugar, or to taste\n",
      "Ingredient 3 : 2 teaspoons vanilla extract\n",
      "Step 1 : Combine the coconut milk with the sugar and taste; add more sugar if you like.\n",
      "Step 2 : Add the vanilla and stir.\n",
      "Step 3 : Freeze in an ice cream machine according to the manufacturers instructions.\n",
      "Step 4 : Serve as soon as possible after making or freeze and let warm in the refrigerator for 30 minutes before serving.\n",
      "Step 5 : Best the day it is made.\n",
      "\n",
      "Ice Cream Sundaes with Chocolate-Coffee Sauce\n",
      "\n",
      "Ingredient 1 : 6 ounces bittersweet chocolate, chopped\n",
      "Ingredient 2 : 1/2 cup plus 2 tablespoons Homemade Coffee-Flavored Liqueur or Kahlua plus additional for passing\n",
      "Ingredient 3 : 1/4 cup heavy whipping cream\n",
      "Ingredient 4 : 1/2 gallon purchased vanilla ice cream\n",
      "Step 1 : Combine chocolate, liqueur, and whipping cream in heavy small saucepan.\n",
      "Step 2 : Whisk over medium heat until melted and smooth.\n",
      "Step 3 : Scoop ice cream into dessert dishes or goblets.\n",
      "Step 4 : Spoon warm sauce over.\n",
      "Step 5 : Serve, passing additional liqueur.\n"
     ]
    }
   ],
   "source": [
    "# Garlic Broth with Sage and Parsley, 21658\n",
    "# Grilled Corn on the Cob, 96647\n",
    "\n",
    "for recipe in test_recipes:\n",
    "    # title\n",
    "    print('\\n' + epicurious['title'][recipe] + '\\n')\n",
    "    \n",
    "    # ingredients\n",
    "    for index, each in enumerate(epicurious['ingredients'][recipe]):\n",
    "        print('Ingredient', index+1, ':', list(each.values())[0])\n",
    "    \n",
    "    # instructoins    \n",
    "    for index, each in enumerate(epicurious['instructions'][recipe]):\n",
    "        print('Step', index+1, ':', list(each.values())[0])"
   ]
  },
  {
   "cell_type": "code",
   "execution_count": 68,
   "metadata": {},
   "outputs": [
    {
     "name": "stdout",
     "output_type": "stream",
     "text": [
      "\n",
      "CONFETTI SALAD WITH RANCH DRESSING\n",
      "\n"
     ]
    },
    {
     "name": "stderr",
     "output_type": "stream",
     "text": [
      "/root/anaconda3/lib/python3.6/runpy.py:193: UserWarning: [W006] No entities to visualize found in Doc object. If this is surprising to you, make sure the Doc was processed using a model that supports named entity recognition, and check the `doc.ents` property manually if necessary.\n",
      "  \"__main__\", mod_spec)\n"
     ]
    },
    {
     "data": {
      "text/html": [
       "<div class=\"entities\" style=\"line-height: 2.5\">Combine all vegetables in large bowl.</div>"
      ],
      "text/plain": [
       "<IPython.core.display.HTML object>"
      ]
     },
     "metadata": {},
     "output_type": "display_data"
    },
    {
     "name": "stdout",
     "output_type": "stream",
     "text": [
      "Dep tree   Token      Dep   Tag Pos  \n",
      "────────── ────────── ───── ─── ─────\n",
      "┌┬──┬───── Combine    ROOT  VB  VERB \n",
      "││  │  ┌─► all        det   DT  DET  \n",
      "││  └─►└── vegetables dobj  NNS NOUN \n",
      "│└─►┌───── in         prep  IN  ADP  \n",
      "│   │  ┌─► large      amod  JJ  ADJ  \n",
      "│   └─►└── bowl       pobj  NN  NOUN \n",
      "└────────► .          punct .   PUNCT\n"
     ]
    },
    {
     "data": {
      "text/html": [
       "<div class=\"entities\" style=\"line-height: 2.5\">(Can be prepared \n",
       "<mark class=\"entity\" style=\"background: #bfe1d9; padding: 0.45em 0.6em; margin: 0 0.25em; line-height: 1; border-radius: 0.35em; box-decoration-break: clone; -webkit-box-decoration-break: clone\">\n",
       "    4 hours\n",
       "    <span style=\"font-size: 0.8em; font-weight: bold; line-height: 1; border-radius: 0.35em; text-transform: uppercase; vertical-align: middle; margin-left: 0.5rem\">TIME</span>\n",
       "</mark>\n",
       " ahead.</div>"
      ],
      "text/plain": [
       "<IPython.core.display.HTML object>"
      ]
     },
     "metadata": {},
     "output_type": "display_data"
    },
    {
     "name": "stdout",
     "output_type": "stream",
     "text": [
      "Dep tree   Token    Dep      Tag   Pos  \n",
      "────────── ──────── ──────── ───── ─────\n",
      "     ┌───► (        punct    -LRB- PUNCT\n",
      "     │┌──► Can      aux      MD    VERB \n",
      "     ││┌─► be       auxpass  VB    VERB \n",
      "┌┬───┴┴┴── prepared ROOT     VBN   VERB \n",
      "││     ┌─► 4        nummod   CD    NUM  \n",
      "││  ┌─►└── hours    npadvmod NNS   NOUN \n",
      "│└─►└───── ahead    advmod   RB    ADV  \n",
      "└────────► .        punct    .     PUNCT\n"
     ]
    },
    {
     "name": "stderr",
     "output_type": "stream",
     "text": [
      "/root/anaconda3/lib/python3.6/runpy.py:193: UserWarning: [W006] No entities to visualize found in Doc object. If this is surprising to you, make sure the Doc was processed using a model that supports named entity recognition, and check the `doc.ents` property manually if necessary.\n",
      "  \"__main__\", mod_spec)\n"
     ]
    },
    {
     "data": {
      "text/html": [
       "<div class=\"entities\" style=\"line-height: 2.5\">Cover and refrigerate.)</div>"
      ],
      "text/plain": [
       "<IPython.core.display.HTML object>"
      ]
     },
     "metadata": {},
     "output_type": "display_data"
    },
    {
     "name": "stdout",
     "output_type": "stream",
     "text": [
      "Dep tree Token       Dep   Tag   Pos  \n",
      "──────── ─────────── ───── ───── ─────\n",
      "┌┬┬┬──   Cover       ROOT  VB    VERB \n",
      "│││└─►   and         cc    CC    CCONJ\n",
      "││└──►   refrigerate conj  VB    VERB \n",
      "│└───►   .           punct .     PUNCT\n",
      "└────►   )           punct -RRB- PUNCT\n"
     ]
    },
    {
     "data": {
      "text/html": [
       "<div class=\"entities\" style=\"line-height: 2.5\">\n",
       "<mark class=\"entity\" style=\"background: #7aecec; padding: 0.45em 0.6em; margin: 0 0.25em; line-height: 1; border-radius: 0.35em; box-decoration-break: clone; -webkit-box-decoration-break: clone\">\n",
       "    Toss\n",
       "    <span style=\"font-size: 0.8em; font-weight: bold; line-height: 1; border-radius: 0.35em; text-transform: uppercase; vertical-align: middle; margin-left: 0.5rem\">ORG</span>\n",
       "</mark>\n",
       " salad with enough \n",
       "<mark class=\"entity\" style=\"background: #aa9cfc; padding: 0.45em 0.6em; margin: 0 0.25em; line-height: 1; border-radius: 0.35em; box-decoration-break: clone; -webkit-box-decoration-break: clone\">\n",
       "    Ranch Dressing\n",
       "    <span style=\"font-size: 0.8em; font-weight: bold; line-height: 1; border-radius: 0.35em; text-transform: uppercase; vertical-align: middle; margin-left: 0.5rem\">PERSON</span>\n",
       "</mark>\n",
       " to coat.</div>"
      ],
      "text/plain": [
       "<IPython.core.display.HTML object>"
      ]
     },
     "metadata": {},
     "output_type": "display_data"
    },
    {
     "name": "stdout",
     "output_type": "stream",
     "text": [
      "Dep tree      Token    Dep      Tag Pos  \n",
      "───────────── ──────── ──────── ─── ─────\n",
      "          ┌─► Toss     amod     VB  VERB \n",
      "┌─►┌──────┴── salad    nsubj    NN  NOUN \n",
      "│  └─►┌────── with     prep     IN  ADP  \n",
      "│     │  ┌──► enough   amod     JJ  ADJ  \n",
      "│     │  │┌─► Ranch    compound NNP PROPN\n",
      "│     └─►└┴── Dressing pobj     NNP PROPN\n",
      "│         ┌─► to       aux      TO  PART \n",
      "└─────────┼── coat     ROOT     VB  VERB \n",
      "          └─► .        punct    .   PUNCT\n"
     ]
    },
    {
     "data": {
      "text/html": [
       "<div class=\"entities\" style=\"line-height: 2.5\">\n",
       "<mark class=\"entity\" style=\"background: #bfe1d9; padding: 0.45em 0.6em; margin: 0 0.25em; line-height: 1; border-radius: 0.35em; box-decoration-break: clone; -webkit-box-decoration-break: clone\">\n",
       "    Season\n",
       "    <span style=\"font-size: 0.8em; font-weight: bold; line-height: 1; border-radius: 0.35em; text-transform: uppercase; vertical-align: middle; margin-left: 0.5rem\">DATE</span>\n",
       "</mark>\n",
       " to taste with salt and pepper and serve.</div>"
      ],
      "text/plain": [
       "<IPython.core.display.HTML object>"
      ]
     },
     "metadata": {},
     "output_type": "display_data"
    },
    {
     "name": "stdout",
     "output_type": "stream",
     "text": [
      "Dep tree         Token  Dep   Tag Pos  \n",
      "──────────────── ────── ───── ─── ─────\n",
      "┌┬────────────── Season ROOT  NN  NOUN \n",
      "││           ┌─► to     aux   TO  PART \n",
      "│└─►┌┬┬──────┴── taste  relcl VB  VERB \n",
      "│   ││└─►┌────── with   prep  IN  ADP  \n",
      "│   ││   └─►┌┬── salt   pobj  NN  NOUN \n",
      "│   ││      │└─► and    cc    CC  CCONJ\n",
      "│   ││      └──► pepper conj  NN  NOUN \n",
      "│   │└─────────► and    cc    CC  CCONJ\n",
      "│   └──────────► serve  conj  VB  VERB \n",
      "└──────────────► .      punct .   PUNCT\n",
      "\n",
      "MANGO CURRY TRUFFLES\n",
      "\n"
     ]
    },
    {
     "data": {
      "text/html": [
       "<div class=\"entities\" style=\"line-height: 2.5\">Follow recipe for bittersweet chocolate truffle base , stirring curry powder into hot cream (off heat); let stand \n",
       "<mark class=\"entity\" style=\"background: #bfe1d9; padding: 0.45em 0.6em; margin: 0 0.25em; line-height: 1; border-radius: 0.35em; box-decoration-break: clone; -webkit-box-decoration-break: clone\">\n",
       "    2 minutes\n",
       "    <span style=\"font-size: 0.8em; font-weight: bold; line-height: 1; border-radius: 0.35em; text-transform: uppercase; vertical-align: middle; margin-left: 0.5rem\">TIME</span>\n",
       "</mark>\n",
       ".</div>"
      ],
      "text/plain": [
       "<IPython.core.display.HTML object>"
      ]
     },
     "metadata": {},
     "output_type": "display_data"
    },
    {
     "name": "stdout",
     "output_type": "stream",
     "text": [
      "Dep tree             Token       Dep      Tag   Pos  \n",
      "──────────────────── ─────────── ──────── ───── ─────\n",
      "                 ┌─► Follow      compound VB    VERB \n",
      "┌─►┌┬─┬┬─────────┴── recipe      nsubj    NN    NOUN \n",
      "│  ││ │└─►┌───────── for         prep     IN    ADP  \n",
      "│  ││ │   │  ┌─────► bittersweet amod     JJ    ADJ  \n",
      "│  ││ │   │  │   ┌─► chocolate   compound NN    NOUN \n",
      "│  ││ │   │  │┌─►└── truffle     compound NN    NOUN \n",
      "│  ││ │   └─►└┴───── base        pobj     NN    NOUN \n",
      "│  ││ └────────────► ,           punct    ,     PUNCT\n",
      "│  │└─►┌──────┬───── stirring    advcl    VBG   VERB \n",
      "│  │   │      │  ┌─► curry       compound NN    NOUN \n",
      "│  │   │      └─►└── powder      dobj     NN    NOUN \n",
      "│  │   └─►┌───────── into        prep     IN    ADP  \n",
      "│  │      │      ┌─► hot         amod     JJ    ADJ  \n",
      "│  │      └─►┌┬──┼── cream       pobj     NN    NOUN \n",
      "│  │         ││  └─► (           punct    -LRB- PUNCT\n",
      "│  │         │└─►┌── off         prep     IN    ADP  \n",
      "│  │         │   └─► heat        pobj     NN    NOUN \n",
      "│  │         └─────► )           punct    -RRB- PUNCT\n",
      "│  └───────────────► ;           punct    :     PUNCT\n",
      "└─────────┬┬──────── let         ROOT     VB    VERB \n",
      "          │└─►┌───── stand       ccomp    VB    VERB \n",
      "          │   │  ┌─► 2           nummod   CD    NUM  \n",
      "          │   └─►└── minutes     npadvmod NNS   NOUN \n",
      "          └────────► .           punct    .     PUNCT\n"
     ]
    },
    {
     "data": {
      "text/html": [
       "<div class=\"entities\" style=\"line-height: 2.5\">Stir in roomtemperature mango puree (from \n",
       "<mark class=\"entity\" style=\"background: #e4e7d2; padding: 0.45em 0.6em; margin: 0 0.25em; line-height: 1; border-radius: 0.35em; box-decoration-break: clone; -webkit-box-decoration-break: clone\">\n",
       "    1\n",
       "    <span style=\"font-size: 0.8em; font-weight: bold; line-height: 1; border-radius: 0.35em; text-transform: uppercase; vertical-align: middle; margin-left: 0.5rem\">CARDINAL</span>\n",
       "</mark>\n",
       " mango, pureed until smooth in processor).</div>"
      ],
      "text/plain": [
       "<IPython.core.display.HTML object>"
      ]
     },
     "metadata": {},
     "output_type": "display_data"
    },
    {
     "name": "stdout",
     "output_type": "stream",
     "text": [
      "Dep tree          Token           Dep       Tag   Pos  \n",
      "───────────────── ─────────────── ───────── ───── ─────\n",
      "┌┬─────┬───────── Stir            ROOT      VB    VERB \n",
      "││     └─►┌────── in              prep      IN    ADP  \n",
      "││        │  ┌──► roomtemperature amod      JJ    ADJ  \n",
      "││        │  │┌─► mango           compound  JJ    ADJ  \n",
      "││        └─►└┴── puree           pobj      NN    NOUN \n",
      "││     ┌────────► (               punct     -LRB- PUNCT\n",
      "││     │┌─►┌───── from            prep      IN    ADP  \n",
      "││     ││  │  ┌─► 1               nummod    CD    NUM  \n",
      "││     ││  └─►└── mango           pobj      NN    NOUN \n",
      "││     ││     ┌─► ,               punct     ,     PUNCT\n",
      "│└─►┌┬─┴┴─────┴── pureed          parataxis VB    VERB \n",
      "│   │└─►┌──────── until           prep      IN    ADP  \n",
      "│   │   │  ┌─►┌── smooth          amod      JJ    ADJ  \n",
      "│   │   │  │  └─► in              prep      IN    ADP  \n",
      "│   │   └─►└───── processor       pobj      NN    NOUN \n",
      "│   └───────────► )               punct     -RRB- PUNCT\n",
      "└───────────────► .               punct     .     PUNCT\n"
     ]
    },
    {
     "data": {
      "text/html": [
       "<div class=\"entities\" style=\"line-height: 2.5\">\n",
       "<mark class=\"entity\" style=\"background: #aa9cfc; padding: 0.45em 0.6em; margin: 0 0.25em; line-height: 1; border-radius: 0.35em; box-decoration-break: clone; -webkit-box-decoration-break: clone\">\n",
       "    Mix\n",
       "    <span style=\"font-size: 0.8em; font-weight: bold; line-height: 1; border-radius: 0.35em; text-transform: uppercase; vertical-align: middle; margin-left: 0.5rem\">PERSON</span>\n",
       "</mark>\n",
       " in melted chocolate; chill.</div>"
      ],
      "text/plain": [
       "<IPython.core.display.HTML object>"
      ]
     },
     "metadata": {},
     "output_type": "display_data"
    },
    {
     "name": "stdout",
     "output_type": "stream",
     "text": [
      "Dep tree    Token     Dep   Tag Pos  \n",
      "─────────── ───────── ───── ─── ─────\n",
      "┌┬┬──────── Mix       ROOT  VB  VERB \n",
      "││└─►┌───── in        prep  IN  ADP  \n",
      "││   │  ┌─► melted    amod  JJ  ADJ  \n",
      "││   └─►└── chocolate pobj  NN  NOUN \n",
      "│└────────► ;         punct :   PUNCT\n",
      "└──────►┌── chill     conj  VB  VERB \n",
      "        └─► .         punct .   PUNCT\n"
     ]
    },
    {
     "name": "stderr",
     "output_type": "stream",
     "text": [
      "/root/anaconda3/lib/python3.6/runpy.py:193: UserWarning: [W006] No entities to visualize found in Doc object. If this is surprising to you, make sure the Doc was processed using a model that supports named entity recognition, and check the `doc.ents` property manually if necessary.\n",
      "  \"__main__\", mod_spec)\n"
     ]
    },
    {
     "data": {
      "text/html": [
       "<div class=\"entities\" style=\"line-height: 2.5\">Form truffles.</div>"
      ],
      "text/plain": [
       "<IPython.core.display.HTML object>"
      ]
     },
     "metadata": {},
     "output_type": "display_data"
    },
    {
     "name": "stdout",
     "output_type": "stream",
     "text": [
      "Dep tree Token    Dep      Tag Pos  \n",
      "──────── ──────── ──────── ─── ─────\n",
      "┌─►      Form     compound NN  NOUN \n",
      "├──      truffles ROOT     NNS NOUN \n",
      "└─►      .        punct    .   PUNCT\n"
     ]
    },
    {
     "name": "stderr",
     "output_type": "stream",
     "text": [
      "/root/anaconda3/lib/python3.6/runpy.py:193: UserWarning: [W006] No entities to visualize found in Doc object. If this is surprising to you, make sure the Doc was processed using a model that supports named entity recognition, and check the `doc.ents` property manually if necessary.\n",
      "  \"__main__\", mod_spec)\n"
     ]
    },
    {
     "data": {
      "text/html": [
       "<div class=\"entities\" style=\"line-height: 2.5\">Drop each freshly coated truffle (or justformed, uncoated truffle) into bowl of mango powder or toasted coconut; turn to coat.</div>"
      ],
      "text/plain": [
       "<IPython.core.display.HTML object>"
      ]
     },
     "metadata": {},
     "output_type": "display_data"
    },
    {
     "name": "stdout",
     "output_type": "stream",
     "text": [
      "Dep tree             Token      Dep      Tag   Pos  \n",
      "──────────────────── ────────── ──────── ───── ─────\n",
      "┌─►┌┬┬──┬─────────── Drop       advcl    VB    VERB \n",
      "│  │││  │    ┌─────► each       det      DT    DET  \n",
      "│  │││  │    │   ┌─► freshly    advmod   RB    ADV  \n",
      "│  │││  │    │┌─►└── coated     amod     VBN   VERB \n",
      "│  │││  └─►┌─┴┴─┬┬── truffle    dobj     NN    NOUN \n",
      "│  │││     │    │└─► (          punct    -LRB- PUNCT\n",
      "│  │││     │    └──► or         cc       CC    CCONJ\n",
      "│  │││     │  ┌─►┌── justformed amod     VBN   VERB \n",
      "│  │││     │  │  └─► ,          punct    ,     PUNCT\n",
      "│  │││     │  │  ┌─► uncoated   amod     JJ    ADJ  \n",
      "│  │││     └─►└──┼── truffle    conj     NN    NOUN \n",
      "│  │││           └─► )          punct    -RRB- PUNCT\n",
      "│  ││└─►┌─────────── into       prep     IN    ADP  \n",
      "│  ││   └─►┌──────── bowl       pobj     NN    NOUN \n",
      "│  ││      └─►┌───── of         prep     IN    ADP  \n",
      "│  ││         │  ┌─► mango      compound JJ    ADJ  \n",
      "│  ││         └─►└── powder     pobj     NN    NOUN \n",
      "│  │└──────────────► or         cc       CC    CCONJ\n",
      "│  └────────────►┌── toasted    conj     VBD   VERB \n",
      "│                └─► coconut    advmod   NN    NOUN \n",
      "│                ┌─► ;          punct    :     PUNCT\n",
      "└────────────┬┬──┴── turn       ROOT     VB    VERB \n",
      "             │└─►┌── to         prep     IN    ADP  \n",
      "             │   └─► coat       pobj     NN    NOUN \n",
      "             └─────► .          punct    .     PUNCT\n",
      "\n",
      "LABLABI\n",
      "\n"
     ]
    },
    {
     "data": {
      "text/html": [
       "<div class=\"entities\" style=\"line-height: 2.5\">Put the drained chickpeas in a pan with the water and simmer, covered, for \n",
       "<mark class=\"entity\" style=\"background: #bfe1d9; padding: 0.45em 0.6em; margin: 0 0.25em; line-height: 1; border-radius: 0.35em; box-decoration-break: clone; -webkit-box-decoration-break: clone\">\n",
       "    1 1/2 hours\n",
       "    <span style=\"font-size: 0.8em; font-weight: bold; line-height: 1; border-radius: 0.35em; text-transform: uppercase; vertical-align: middle; margin-left: 0.5rem\">TIME</span>\n",
       "</mark>\n",
       ", until the chickpeas are very soft, adding water to keep the chickpeas covered.</div>"
      ],
      "text/plain": [
       "<IPython.core.display.HTML object>"
      ]
     },
     "metadata": {},
     "output_type": "display_data"
    },
    {
     "name": "stdout",
     "output_type": "stream",
     "text": [
      "Dep tree                   Token     Dep      Tag Pos  \n",
      "────────────────────────── ───────── ──────── ─── ─────\n",
      "┌┬┬┬┬──────────────┬────── Put       ROOT     VB  VERB \n",
      "│││││              │  ┌──► the       det      DT  DET  \n",
      "│││││              │  │┌─► drained   amod     JJ  ADJ  \n",
      "│││││              └─►└┴── chickpeas dobj     NNS NOUN \n",
      "││││└─►┌────────────────── in        prep     IN  ADP  \n",
      "││││   │               ┌─► a         det      DT  DET  \n",
      "││││   └─►┌────┬───────┴── pan       pobj     NN  NOUN \n",
      "││││      │    └─►┌─────── with      prep     IN  ADP  \n",
      "││││      │       │    ┌─► the       det      DT  DET  \n",
      "││││      │       └─►┌┬┼── water     pobj     NN  NOUN \n",
      "││││      │          ││└─► and       cc       CC  CCONJ\n",
      "││││      │          │└──► simmer    conj     NN  NOUN \n",
      "││││      │          └───► ,         punct    ,   PUNCT\n",
      "││││      └─►┌┬────────┬── covered   acl      VBN VERB \n",
      "││││         ││        └─► ,         punct    ,   PUNCT\n",
      "││││         │└─►┌──────── for       prep     IN  ADP  \n",
      "││││         │   │     ┌─► 1         compound CD  NUM  \n",
      "││││         │   │  ┌─►└── 1/2       nummod   CD  NUM  \n",
      "││││         │   └─►└───── hours     pobj     NNS NOUN \n",
      "││││         └───────────► ,         punct    ,   PUNCT\n",
      "││││               ┌─────► until     mark     IN  ADP  \n",
      "││││               │   ┌─► the       det      DT  DET  \n",
      "││││               │┌─►└── chickpeas nsubj    NNS NOUN \n",
      "│││└──────────────►└┼───── are       advcl    VBP VERB \n",
      "│││                 │  ┌─► very      advmod   RB  ADV  \n",
      "│││                 └─►└── soft      acomp    JJ  ADJ  \n",
      "││└──────────────────────► ,         punct    ,   PUNCT\n",
      "│└─────────────►┌──────┬── adding    advcl    VBG VERB \n",
      "│               │      └─► water     dobj     NN  NOUN \n",
      "│               │      ┌─► to        aux      TO  PART \n",
      "│               └─►┌┬──┴── keep      xcomp    VB  VERB \n",
      "│                  ││  ┌─► the       det      DT  DET  \n",
      "│                  │└─►└── chickpeas dobj     NNS NOUN \n",
      "│                  └─────► covered   oprd     VBN VERB \n",
      "└────────────────────────► .         punct    .   PUNCT\n"
     ]
    },
    {
     "data": {
      "text/html": [
       "<div class=\"entities\" style=\"line-height: 2.5\">Add salt, garlic, harissa, and cumin, and cook \n",
       "<mark class=\"entity\" style=\"background: #bfe1d9; padding: 0.45em 0.6em; margin: 0 0.25em; line-height: 1; border-radius: 0.35em; box-decoration-break: clone; -webkit-box-decoration-break: clone\">\n",
       "    20 minutes\n",
       "    <span style=\"font-size: 0.8em; font-weight: bold; line-height: 1; border-radius: 0.35em; text-transform: uppercase; vertical-align: middle; margin-left: 0.5rem\">TIME</span>\n",
       "</mark>\n",
       " more.</div>"
      ],
      "text/plain": [
       "<IPython.core.display.HTML object>"
      ]
     },
     "metadata": {},
     "output_type": "display_data"
    },
    {
     "name": "stdout",
     "output_type": "stream",
     "text": [
      "Dep tree           Token   Dep      Tag Pos  \n",
      "────────────────── ─────── ──────── ─── ─────\n",
      "┌┬┬┬┬───────────── Add     ROOT     VB  VERB \n",
      "││││└─►┌───────┬── salt    dobj     NN  NOUN \n",
      "││││   │       └─► ,       punct    ,   PUNCT\n",
      "││││   └─►┌────┬── garlic  conj     NN  NOUN \n",
      "││││      │    └─► ,       punct    ,   PUNCT\n",
      "││││      └─►┌┬┬── harissa conj     NN  NOUN \n",
      "││││         ││└─► ,       punct    ,   PUNCT\n",
      "││││         │└──► and     cc       CC  CCONJ\n",
      "││││         └───► cumin   conj     NN  NOUN \n",
      "│││└─────────────► ,       punct    ,   PUNCT\n",
      "││└──────────────► and     cc       CC  CCONJ\n",
      "│└──────►┌──────── cook    conj     VB  VERB \n",
      "│        │     ┌─► 20      nummod   CD  NUM  \n",
      "│        │  ┌─►└── minutes npadvmod NNS NOUN \n",
      "│        └─►└───── more    advmod   JJR ADJ  \n",
      "└────────────────► .       punct    .   PUNCT\n"
     ]
    },
    {
     "name": "stderr",
     "output_type": "stream",
     "text": [
      "/root/anaconda3/lib/python3.6/runpy.py:193: UserWarning: [W006] No entities to visualize found in Doc object. If this is surprising to you, make sure the Doc was processed using a model that supports named entity recognition, and check the `doc.ents` property manually if necessary.\n",
      "  \"__main__\", mod_spec)\n"
     ]
    },
    {
     "data": {
      "text/html": [
       "<div class=\"entities\" style=\"line-height: 2.5\">Serve in individual soup bowls.</div>"
      ],
      "text/plain": [
       "<IPython.core.display.HTML object>"
      ]
     },
     "metadata": {},
     "output_type": "display_data"
    },
    {
     "name": "stdout",
     "output_type": "stream",
     "text": [
      "Dep tree    Token      Dep      Tag Pos  \n",
      "─────────── ────────── ──────── ─── ─────\n",
      "┌┬───────── Serve      ROOT     VB  VERB \n",
      "│└─►┌────── in         prep     IN  ADP  \n",
      "│   │  ┌──► individual amod     JJ  ADJ  \n",
      "│   │  │┌─► soup       compound NN  NOUN \n",
      "│   └─►└┴── bowls      pobj     NNS NOUN \n",
      "└─────────► .          punct    .   PUNCT\n"
     ]
    },
    {
     "name": "stderr",
     "output_type": "stream",
     "text": [
      "/root/anaconda3/lib/python3.6/runpy.py:193: UserWarning: [W006] No entities to visualize found in Doc object. If this is surprising to you, make sure the Doc was processed using a model that supports named entity recognition, and check the `doc.ents` property manually if necessary.\n",
      "  \"__main__\", mod_spec)\n"
     ]
    },
    {
     "data": {
      "text/html": [
       "<div class=\"entities\" style=\"line-height: 2.5\">Put a slice of toasted bread in each bowl and ladle the soup on top.</div>"
      ],
      "text/plain": [
       "<IPython.core.display.HTML object>"
      ]
     },
     "metadata": {},
     "output_type": "display_data"
    },
    {
     "name": "stdout",
     "output_type": "stream",
     "text": [
      "Dep tree         Token   Dep   Tag Pos  \n",
      "──────────────── ─────── ───── ─── ─────\n",
      "┌┬┬┬┬─────────── Put     ROOT  VB  VERB \n",
      "│││││        ┌─► a       det   DT  DET  \n",
      "││││└─►┌─────┴── slice   dobj  NN  NOUN \n",
      "││││   └─►┌───── of      prep  IN  ADP  \n",
      "││││      │  ┌─► toasted amod  VBN VERB \n",
      "││││      └─►└── bread   pobj  NN  NOUN \n",
      "│││└─────►┌───── in      prep  IN  ADP  \n",
      "│││       │  ┌─► each    det   DT  DET  \n",
      "│││       └─►└── bowl    pobj  NN  NOUN \n",
      "││└────────────► and     cc    CC  CCONJ\n",
      "│└──────►┌┬───── ladle   conj  VB  VERB \n",
      "│        ││  ┌─► the     det   DT  DET  \n",
      "│        │└─►└── soup    dobj  NN  NOUN \n",
      "│        └──►┌── on      prep  IN  ADP  \n",
      "│            └─► top     pobj  NN  NOUN \n",
      "└──────────────► .       punct .   PUNCT\n"
     ]
    },
    {
     "name": "stderr",
     "output_type": "stream",
     "text": [
      "/root/anaconda3/lib/python3.6/runpy.py:193: UserWarning: [W006] No entities to visualize found in Doc object. If this is surprising to you, make sure the Doc was processed using a model that supports named entity recognition, and check the `doc.ents` property manually if necessary.\n",
      "  \"__main__\", mod_spec)\n"
     ]
    },
    {
     "data": {
      "text/html": [
       "<div class=\"entities\" style=\"line-height: 2.5\">Give people lemon wedges to squeeze over their bowls and pass round the bottle of olive oil for them to sprinkle on.</div>"
      ],
      "text/plain": [
       "<IPython.core.display.HTML object>"
      ]
     },
     "metadata": {},
     "output_type": "display_data"
    },
    {
     "name": "stdout",
     "output_type": "stream",
     "text": [
      "Dep tree             Token    Dep      Tag  Pos  \n",
      "──────────────────── ──────── ──────── ──── ─────\n",
      "┌┬────────────┬──┬── Give     ROOT     VB   VERB \n",
      "││            │  └─► people   dative   NNS  NOUN \n",
      "││            │  ┌─► lemon    compound NN   NOUN \n",
      "││            └─►└── wedges   dobj     NNS  NOUN \n",
      "││               ┌─► to       aux      TO   PART \n",
      "│└─►┌────────┬┬──┼── squeeze  advcl    VB   VERB \n",
      "│   │        ││  └─► over     prt      RP   PART \n",
      "│   │        ││  ┌─► their    poss     PRP$ ADJ  \n",
      "│   │        │└─►└── bowls    dobj     NNS  NOUN \n",
      "│   │        └─────► and      cc       CC   CCONJ\n",
      "│   └─►┌┬────────┬── pass     conj     VB   VERB \n",
      "│      ││        └─► round    advmod   RB   ADV  \n",
      "│      ││        ┌─► the      det      DT   DET  \n",
      "│      │└─►┌─────┴── bottle   dobj     NN   NOUN \n",
      "│      │   └─►┌───── of       prep     IN   ADP  \n",
      "│      │      │  ┌─► olive    amod     JJ   ADJ  \n",
      "│      │      └─►└── oil      pobj     NN   NOUN \n",
      "│      │       ┌───► for      mark     IN   ADP  \n",
      "│      │       │┌──► them     nsubj    PRP  PRON \n",
      "│      │       ││┌─► to       aux      TO   PART \n",
      "│      └──────►└┴┼── sprinkle advcl    VB   VERB \n",
      "│                └─► on       prt      RP   PART \n",
      "└──────────────────► .        punct    .    PUNCT\n",
      "\n",
      "RANCH DRESSING\n",
      "\n"
     ]
    },
    {
     "data": {
      "text/html": [
       "<div class=\"entities\" style=\"line-height: 2.5\">Whisk \n",
       "<mark class=\"entity\" style=\"background: #e4e7d2; padding: 0.45em 0.6em; margin: 0 0.25em; line-height: 1; border-radius: 0.35em; box-decoration-break: clone; -webkit-box-decoration-break: clone\">\n",
       "    first\n",
       "    <span style=\"font-size: 0.8em; font-weight: bold; line-height: 1; border-radius: 0.35em; text-transform: uppercase; vertical-align: middle; margin-left: 0.5rem\">ORDINAL</span>\n",
       "</mark>\n",
       " \n",
       "<mark class=\"entity\" style=\"background: #e4e7d2; padding: 0.45em 0.6em; margin: 0 0.25em; line-height: 1; border-radius: 0.35em; box-decoration-break: clone; -webkit-box-decoration-break: clone\">\n",
       "    3\n",
       "    <span style=\"font-size: 0.8em; font-weight: bold; line-height: 1; border-radius: 0.35em; text-transform: uppercase; vertical-align: middle; margin-left: 0.5rem\">CARDINAL</span>\n",
       "</mark>\n",
       " ingredients in large bowl.</div>"
      ],
      "text/plain": [
       "<IPython.core.display.HTML object>"
      ]
     },
     "metadata": {},
     "output_type": "display_data"
    },
    {
     "name": "stdout",
     "output_type": "stream",
     "text": [
      "Dep tree   Token       Dep    Tag Pos  \n",
      "────────── ─────────── ────── ─── ─────\n",
      "     ┌───► Whisk       amod   NNP PROPN\n",
      "     │┌──► first       amod   JJ  ADJ  \n",
      "     ││┌─► 3           nummod CD  NUM  \n",
      "┌┬───┴┴┴── ingredients ROOT   NNS NOUN \n",
      "│└─►┌───── in          prep   IN  ADP  \n",
      "│   │  ┌─► large       amod   JJ  ADJ  \n",
      "│   └─►└── bowl        pobj   NN  NOUN \n",
      "└────────► .           punct  .   PUNCT\n"
     ]
    },
    {
     "data": {
      "text/html": [
       "<div class=\"entities\" style=\"line-height: 2.5\">\n",
       "<mark class=\"entity\" style=\"background: #aa9cfc; padding: 0.45em 0.6em; margin: 0 0.25em; line-height: 1; border-radius: 0.35em; box-decoration-break: clone; -webkit-box-decoration-break: clone\">\n",
       "    Mix\n",
       "    <span style=\"font-size: 0.8em; font-weight: bold; line-height: 1; border-radius: 0.35em; text-transform: uppercase; vertical-align: middle; margin-left: 0.5rem\">PERSON</span>\n",
       "</mark>\n",
       " in remaining ingredients.</div>"
      ],
      "text/plain": [
       "<IPython.core.display.HTML object>"
      ]
     },
     "metadata": {},
     "output_type": "display_data"
    },
    {
     "name": "stdout",
     "output_type": "stream",
     "text": [
      "Dep tree   Token       Dep   Tag Pos  \n",
      "────────── ─────────── ───── ─── ─────\n",
      "┌┬──────── Mix         ROOT  VB  VERB \n",
      "│└─►┌───── in          prep  IN  ADP  \n",
      "│   │  ┌─► remaining   amod  VBG VERB \n",
      "│   └─►└── ingredients pobj  NNS NOUN \n",
      "└────────► .           punct .   PUNCT\n"
     ]
    },
    {
     "data": {
      "text/html": [
       "<div class=\"entities\" style=\"line-height: 2.5\">Cover and chill \n",
       "<mark class=\"entity\" style=\"background: #bfe1d9; padding: 0.45em 0.6em; margin: 0 0.25em; line-height: 1; border-radius: 0.35em; box-decoration-break: clone; -webkit-box-decoration-break: clone\">\n",
       "    at least 1 hour\n",
       "    <span style=\"font-size: 0.8em; font-weight: bold; line-height: 1; border-radius: 0.35em; text-transform: uppercase; vertical-align: middle; margin-left: 0.5rem\">TIME</span>\n",
       "</mark>\n",
       " to blend flavors.</div>"
      ],
      "text/plain": [
       "<IPython.core.display.HTML object>"
      ]
     },
     "metadata": {},
     "output_type": "display_data"
    },
    {
     "name": "stdout",
     "output_type": "stream",
     "text": [
      "Dep tree       Token   Dep      Tag Pos  \n",
      "────────────── ─────── ──────── ─── ─────\n",
      "┌┬┬───────┬┬── Cover   ROOT     VB  VERB \n",
      "│││       │└─► and     cc       CC  CCONJ\n",
      "│││       └──► chill   conj     VB  VERB \n",
      "│││        ┌─► at      advmod   IN  ADP  \n",
      "│││     ┌─►└── least   advmod   JJS ADJ  \n",
      "│││  ┌─►└───── 1       nummod   CD  NUM  \n",
      "││└─►└──────── hour    npadvmod NN  NOUN \n",
      "││         ┌─► to      aux      TO  PART \n",
      "│└────────►├── blend   xcomp    VB  VERB \n",
      "│          └─► flavors dobj     NNS NOUN \n",
      "└────────────► .       punct    .   PUNCT\n"
     ]
    },
    {
     "data": {
      "text/html": [
       "<div class=\"entities\" style=\"line-height: 2.5\">(Dressing can be prepared \n",
       "<mark class=\"entity\" style=\"background: #bfe1d9; padding: 0.45em 0.6em; margin: 0 0.25em; line-height: 1; border-radius: 0.35em; box-decoration-break: clone; -webkit-box-decoration-break: clone\">\n",
       "    5 days ahead\n",
       "    <span style=\"font-size: 0.8em; font-weight: bold; line-height: 1; border-radius: 0.35em; text-transform: uppercase; vertical-align: middle; margin-left: 0.5rem\">DATE</span>\n",
       "</mark>\n",
       ".</div>"
      ],
      "text/plain": [
       "<IPython.core.display.HTML object>"
      ]
     },
     "metadata": {},
     "output_type": "display_data"
    },
    {
     "name": "stdout",
     "output_type": "stream",
     "text": [
      "Dep tree   Token    Dep       Tag   Pos  \n",
      "────────── ──────── ───────── ───── ─────\n",
      "    ┌────► (        punct     -LRB- PUNCT\n",
      "    │┌───► Dressing nsubjpass NN    NOUN \n",
      "    ││┌──► can      aux       MD    VERB \n",
      "    │││┌─► be       auxpass   VB    VERB \n",
      "┌┬──┴┴┴┴── prepared ROOT      VBN   VERB \n",
      "││     ┌─► 5        nummod    CD    NUM  \n",
      "││  ┌─►└── days     npadvmod  NNS   NOUN \n",
      "│└─►└───── ahead    advmod    RB    ADV  \n",
      "└────────► .        punct     .     PUNCT\n"
     ]
    },
    {
     "name": "stderr",
     "output_type": "stream",
     "text": [
      "/root/anaconda3/lib/python3.6/runpy.py:193: UserWarning: [W006] No entities to visualize found in Doc object. If this is surprising to you, make sure the Doc was processed using a model that supports named entity recognition, and check the `doc.ents` property manually if necessary.\n",
      "  \"__main__\", mod_spec)\n"
     ]
    },
    {
     "data": {
      "text/html": [
       "<div class=\"entities\" style=\"line-height: 2.5\">Keep refrigerated.)</div>"
      ],
      "text/plain": [
       "<IPython.core.display.HTML object>"
      ]
     },
     "metadata": {},
     "output_type": "display_data"
    },
    {
     "name": "stdout",
     "output_type": "stream",
     "text": [
      "Dep tree Token        Dep   Tag   Pos  \n",
      "──────── ──────────── ───── ───── ─────\n",
      "┌┬┬──    Keep         ROOT  VB    VERB \n",
      "││└─►    refrigerated xcomp VBN   VERB \n",
      "│└──►    .            punct .     PUNCT\n",
      "└───►    )            punct -RRB- PUNCT\n",
      "\n",
      "CHICKEN ROASTED WITH POTATOES, PEPPERS, AND SHALLOTS\n",
      "\n"
     ]
    },
    {
     "data": {
      "text/html": [
       "<div class=\"entities\" style=\"line-height: 2.5\">In a large ovenproof skillet toss together the shallots, the garlic, \n",
       "<mark class=\"entity\" style=\"background: #e4e7d2; padding: 0.45em 0.6em; margin: 0 0.25em; line-height: 1; border-radius: 0.35em; box-decoration-break: clone; -webkit-box-decoration-break: clone\">\n",
       "    2\n",
       "    <span style=\"font-size: 0.8em; font-weight: bold; line-height: 1; border-radius: 0.35em; text-transform: uppercase; vertical-align: middle; margin-left: 0.5rem\">CARDINAL</span>\n",
       "</mark>\n",
       " tablespoons of the oil, the bell peppers, the chopped rosemary, the potatoes, and salt and pepper to taste.</div>"
      ],
      "text/plain": [
       "<IPython.core.display.HTML object>"
      ]
     },
     "metadata": {},
     "output_type": "display_data"
    },
    {
     "name": "stdout",
     "output_type": "stream",
     "text": [
      "Dep tree                    Token       Dep      Tag Pos  \n",
      "─────────────────────────── ─────────── ──────── ─── ─────\n",
      "┌┬───────────────────────── In          ROOT     IN  ADP  \n",
      "││                    ┌───► a           det      DT  DET  \n",
      "││                    │┌──► large       amod     JJ  ADJ  \n",
      "││                    ││┌─► ovenproof   compound NN  NOUN \n",
      "││                 ┌─►└┴┴── skillet     nsubj    NN  NOUN \n",
      "│└─►┌┬─────────────┴────┬── toss        pobj     VBP VERB \n",
      "│   ││                  └─► together    advmod   RB  ADV  \n",
      "│   ││                  ┌─► the         det      DT  DET  \n",
      "│   │└─►┌────────────┬──┼── shallots    dobj     NNS NOUN \n",
      "│   │   │            │  └─► ,           punct    ,   PUNCT\n",
      "│   │   │            │  ┌─► the         det      DT  DET  \n",
      "│   │   │            └─►├── garlic      conj     NN  NOUN \n",
      "│   │   │               └─► ,           punct    ,   PUNCT\n",
      "│   │   │               ┌─► 2           nummod   CD  NUM  \n",
      "│   │   └─►┌─────┬┬─────┴── tablespoons conj     NNS NOUN \n",
      "│   │      │     │└─►┌───── of          prep     IN  ADP  \n",
      "│   │      │     │   │  ┌─► the         det      DT  DET  \n",
      "│   │      │     │   └─►└── oil         pobj     NN  NOUN \n",
      "│   │      │     └────────► ,           punct    ,   PUNCT\n",
      "│   │      │           ┌──► the         det      DT  DET  \n",
      "│   │      │           │┌─► bell        compound NN  NOUN \n",
      "│   │      └─►┌────────┴┼── peppers     conj     NNS NOUN \n",
      "│   │         │         └─► ,           punct    ,   PUNCT\n",
      "│   │         │        ┌──► the         det      DT  DET  \n",
      "│   │         │        │┌─► chopped     amod     VBN VERB \n",
      "│   │         └─►┌─────┴┼── rosemary    conj     NN  NOUN \n",
      "│   │            │      └─► ,           punct    ,   PUNCT\n",
      "│   │            │      ┌─► the         det      DT  DET  \n",
      "│   │            └─►┌──┬┼── potatoes    conj     NNS NOUN \n",
      "│   │               │  │└─► ,           punct    ,   PUNCT\n",
      "│   │               │  └──► and         cc       CC  CCONJ\n",
      "│   │               └─►┌┬── salt        conj     NN  NOUN \n",
      "│   │                  │└─► and         cc       CC  CCONJ\n",
      "│   │                  └──► pepper      conj     NN  NOUN \n",
      "│   │                   ┌─► to          aux      TO  PART \n",
      "│   └──────────────────►└── taste       advcl    VB  VERB \n",
      "└─────────────────────────► .           punct    .   PUNCT\n"
     ]
    },
    {
     "data": {
      "text/html": [
       "<div class=\"entities\" style=\"line-height: 2.5\">Rub the chicken with the remaining \n",
       "<mark class=\"entity\" style=\"background: #e4e7d2; padding: 0.45em 0.6em; margin: 0 0.25em; line-height: 1; border-radius: 0.35em; box-decoration-break: clone; -webkit-box-decoration-break: clone\">\n",
       "    1\n",
       "    <span style=\"font-size: 0.8em; font-weight: bold; line-height: 1; border-radius: 0.35em; text-transform: uppercase; vertical-align: middle; margin-left: 0.5rem\">CARDINAL</span>\n",
       "</mark>\n",
       " teaspoon oil, the lemon juice, and salt and pepper to taste and arrange it, skin side up, on top of the vegetable mixture.</div>"
      ],
      "text/plain": [
       "<IPython.core.display.HTML object>"
      ]
     },
     "metadata": {},
     "output_type": "display_data"
    },
    {
     "name": "stdout",
     "output_type": "stream",
     "text": [
      "Dep tree             Token     Dep      Tag Pos  \n",
      "──────────────────── ───────── ──────── ─── ─────\n",
      "┌┬┬┬┬─────────┬───── Rub       ROOT     VB  VERB \n",
      "│││││         │  ┌─► the       det      DT  DET  \n",
      "│││││         └─►└── chicken   dobj     NN  NOUN \n",
      "││││└─►┌──────────── with      prep     IN  ADP  \n",
      "││││   │    ┌──────► the       det      DT  DET  \n",
      "││││   │    │┌─────► remaining amod     VBG VERB \n",
      "││││   │    ││   ┌─► 1         nummod   CD  NUM  \n",
      "││││   │    ││┌─►└── teaspoon  compound NN  NOUN \n",
      "││││   └─►┌─┴┴┴──┬── oil       pobj     NN  NOUN \n",
      "││││      │      └─► ,         punct    ,   PUNCT\n",
      "││││      │     ┌──► the       det      DT  DET  \n",
      "││││      │     │┌─► lemon     compound NN  NOUN \n",
      "││││      └─►┌──┼┼── juice     conj     NN  NOUN \n",
      "││││         │  │└─► ,         punct    ,   PUNCT\n",
      "││││         │  └──► and       cc       CC  CCONJ\n",
      "││││         └─►┌┬── salt      conj     NN  NOUN \n",
      "││││            │└─► and       cc       CC  CCONJ\n",
      "││││            └──► pepper    conj     NN  NOUN \n",
      "││││             ┌─► to        aux      TO  PART \n",
      "│││└─────────►┌──┼── taste     advcl    VB  VERB \n",
      "│││           │  └─► and       cc       CC  CCONJ\n",
      "│││           └─►┌── arrange   conj     VB  VERB \n",
      "│││              └─► it        dobj     PRP PRON \n",
      "││└────────────────► ,         punct    ,   PUNCT\n",
      "││               ┌─► skin      nsubj    NN  NOUN \n",
      "│└─►┌───────────┬┼── side      conj     NN  NOUN \n",
      "│   │           │└─► up        prt      RP  PART \n",
      "│   │           └──► ,         punct    ,   PUNCT\n",
      "│   └─►┌──────────── on        prep     IN  ADP  \n",
      "│      └─►┌───────── top       pobj     NN  NOUN \n",
      "│         └─►┌────── of        prep     IN  ADP  \n",
      "│            │  ┌──► the       det      DT  DET  \n",
      "│            │  │┌─► vegetable amod     NN  NOUN \n",
      "│            └─►└┴── mixture   pobj     NN  NOUN \n",
      "└──────────────────► .         punct    .   PUNCT\n"
     ]
    },
    {
     "data": {
      "text/html": [
       "<div class=\"entities\" style=\"line-height: 2.5\">Roast the chicken and the vegetables in the upper \n",
       "<mark class=\"entity\" style=\"background: #e4e7d2; padding: 0.45em 0.6em; margin: 0 0.25em; line-height: 1; border-radius: 0.35em; box-decoration-break: clone; -webkit-box-decoration-break: clone\">\n",
       "    third\n",
       "    <span style=\"font-size: 0.8em; font-weight: bold; line-height: 1; border-radius: 0.35em; text-transform: uppercase; vertical-align: middle; margin-left: 0.5rem\">ORDINAL</span>\n",
       "</mark>\n",
       " of a preheated \n",
       "<mark class=\"entity\" style=\"background: #e4e7d2; padding: 0.45em 0.6em; margin: 0 0.25em; line-height: 1; border-radius: 0.35em; box-decoration-break: clone; -webkit-box-decoration-break: clone\">\n",
       "    450F\n",
       "    <span style=\"font-size: 0.8em; font-weight: bold; line-height: 1; border-radius: 0.35em; text-transform: uppercase; vertical-align: middle; margin-left: 0.5rem\">CARDINAL</span>\n",
       "</mark>\n",
       " oven for \n",
       "<mark class=\"entity\" style=\"background: #bfe1d9; padding: 0.45em 0.6em; margin: 0 0.25em; line-height: 1; border-radius: 0.35em; box-decoration-break: clone; -webkit-box-decoration-break: clone\">\n",
       "    20 minutes\n",
       "    <span style=\"font-size: 0.8em; font-weight: bold; line-height: 1; border-radius: 0.35em; text-transform: uppercase; vertical-align: middle; margin-left: 0.5rem\">TIME</span>\n",
       "</mark>\n",
       ", reduce the temperature to \n",
       "<mark class=\"entity\" style=\"background: #e4e7d2; padding: 0.45em 0.6em; margin: 0 0.25em; line-height: 1; border-radius: 0.35em; box-decoration-break: clone; -webkit-box-decoration-break: clone\">\n",
       "    357F.\n",
       "    <span style=\"font-size: 0.8em; font-weight: bold; line-height: 1; border-radius: 0.35em; text-transform: uppercase; vertical-align: middle; margin-left: 0.5rem\">CARDINAL</span>\n",
       "</mark>\n",
       ", and roast the chicken and the vegetables for \n",
       "<mark class=\"entity\" style=\"background: #bfe1d9; padding: 0.45em 0.6em; margin: 0 0.25em; line-height: 1; border-radius: 0.35em; box-decoration-break: clone; -webkit-box-decoration-break: clone\">\n",
       "    15 minutes\n",
       "    <span style=\"font-size: 0.8em; font-weight: bold; line-height: 1; border-radius: 0.35em; text-transform: uppercase; vertical-align: middle; margin-left: 0.5rem\">TIME</span>\n",
       "</mark>\n",
       " more, or until the chicken is cooked through and the potatoes are tender.</div>"
      ],
      "text/plain": [
       "<IPython.core.display.HTML object>"
      ]
     },
     "metadata": {},
     "output_type": "display_data"
    },
    {
     "name": "stdout",
     "output_type": "stream",
     "text": [
      "Dep tree                    Token       Dep       Tag Pos  \n",
      "─────────────────────────── ─────────── ───────── ─── ─────\n",
      "┌─►┌┬────────────────────── Roast       advcl     VB  VERB \n",
      "│  ││                   ┌─► the         det       DT  DET  \n",
      "│  │└─►┌────────────────┼── chicken     dobj      NN  NOUN \n",
      "│  │   │                └─► and         cc        CC  CCONJ\n",
      "│  │   │                ┌─► the         det       DT  DET  \n",
      "│  │   └─►┌─────────────┴── vegetables  conj      NNS NOUN \n",
      "│  │      └─►┌───────────── in          prep      IN  ADP  \n",
      "│  │         │         ┌──► the         det       DT  DET  \n",
      "│  │         │         │┌─► upper       amod      JJ  ADJ  \n",
      "│  │         └─►┌──────┴┴── third       pobj      NN  NOUN \n",
      "│  │            └─►┌─────── of          prep      IN  ADP  \n",
      "│  │               │  ┌───► a           det       DT  DET  \n",
      "│  │               │  │┌──► preheated   amod      VBN VERB \n",
      "│  │               │  ││┌─► 450F        compound  CD  NUM  \n",
      "│  │               └─►└┴┴── oven        pobj      NN  NOUN \n",
      "│  └────────────────►┌───── for         prep      IN  ADP  \n",
      "│                    │  ┌─► 20          nummod    CD  NUM  \n",
      "│                    └─►└── minutes     pobj      NNS NOUN \n",
      "│                       ┌─► ,           punct     ,   PUNCT\n",
      "└────┬┬───────────┬┬┬┬──┴── reduce      ROOT      VB  VERB \n",
      "     ││           ││││  ┌─► the         det       DT  DET  \n",
      "     ││           │││└─►└── temperature dobj      NN  NOUN \n",
      "     ││           ││└──►┌── to          prep      IN  ADP  \n",
      "     ││           ││    └─► 357F.       pobj      CD  NUM  \n",
      "     ││           │└──────► ,           punct     ,   PUNCT\n",
      "     ││           └───────► and         cc        CC  CCONJ\n",
      "     │└─►┌┬┬┬────────────── roast       conj      VB  VERB \n",
      "     │   ││││           ┌─► the         det       DT  DET  \n",
      "     │   │││└─►┌────────┼── chicken     dobj      NN  NOUN \n",
      "     │   │││   │        └─► and         cc        CC  CCONJ\n",
      "     │   │││   │        ┌─► the         det       DT  DET  \n",
      "     │   │││   └─►┌─────┴── vegetables  conj      NNS NOUN \n",
      "     │   │││      └─►┌───── for         prep      IN  ADP  \n",
      "     │   │││         │  ┌─► 15          nummod    CD  NUM  \n",
      "     │   │││         └─►├── minutes     pobj      NNS NOUN \n",
      "     │   │││            └─► more        amod      JJR ADJ  \n",
      "     │   ││└──────────────► ,           punct     ,   PUNCT\n",
      "     │   │└───────────────► or          cc        CC  CCONJ\n",
      "     │   │          ┌─────► until       mark      IN  ADP  \n",
      "     │   │          │   ┌─► the         det       DT  DET  \n",
      "     │   │          │┌─►└── chicken     nsubjpass NN  NOUN \n",
      "     │   │          ││  ┌─► is          auxpass   VBZ VERB \n",
      "     │   └───────►┌─┴┴─┬┼── cooked      conj      VBN VERB \n",
      "     │            │    │└─► through     prep      IN  ADP  \n",
      "     │            │    └──► and         cc        CC  CCONJ\n",
      "     │            │     ┌─► the         det       DT  DET  \n",
      "     │            │  ┌─►└── potatoes    nsubj     NNS NOUN \n",
      "     │            └─►└──┬── are         conj      VBP VERB \n",
      "     │                  └─► tender      acomp     JJ  ADJ  \n",
      "     └────────────────────► .           punct     .   PUNCT\n"
     ]
    },
    {
     "data": {
      "text/html": [
       "<div class=\"entities\" style=\"line-height: 2.5\">Transfer the chicken and the vegetables with a slotted spoon to a heated platter, stir the broth into the skillet, scraping up the brown bits, and boil the mixture for \n",
       "<mark class=\"entity\" style=\"background: #bfe1d9; padding: 0.45em 0.6em; margin: 0 0.25em; line-height: 1; border-radius: 0.35em; box-decoration-break: clone; -webkit-box-decoration-break: clone\">\n",
       "    1 minute\n",
       "    <span style=\"font-size: 0.8em; font-weight: bold; line-height: 1; border-radius: 0.35em; text-transform: uppercase; vertical-align: middle; margin-left: 0.5rem\">TIME</span>\n",
       "</mark>\n",
       ".</div>"
      ],
      "text/plain": [
       "<IPython.core.display.HTML object>"
      ]
     },
     "metadata": {},
     "output_type": "display_data"
    },
    {
     "name": "stdout",
     "output_type": "stream",
     "text": [
      "Dep tree            Token      Dep    Tag Pos  \n",
      "─────────────────── ────────── ────── ─── ─────\n",
      "┌┬┬┬──────┬──────── Transfer   ROOT   VB  VERB \n",
      "││││      │     ┌─► the        det    DT  DET  \n",
      "││││      └─►┌──┼── chicken    dobj   NN  NOUN \n",
      "││││         │  └─► and        cc     CC  CCONJ\n",
      "││││         │  ┌─► the        det    DT  DET  \n",
      "││││         └─►└── vegetables conj   NNS NOUN \n",
      "│││└─►┌──────────── with       prep   IN  ADP  \n",
      "│││   │        ┌──► a          det    DT  DET  \n",
      "│││   │        │┌─► slotted    amod   JJ  ADJ  \n",
      "│││   └─►┌─────┴┴── spoon      pobj   NN  NOUN \n",
      "│││      └─►┌────── to         prep   IN  ADP  \n",
      "│││         │  ┌──► a          det    DT  DET  \n",
      "│││         │  │┌─► heated     amod   JJ  ADJ  \n",
      "│││         └─►└┴── platter    pobj   NN  NOUN \n",
      "││└───────────────► ,          punct  ,   PUNCT\n",
      "│└─►┌────┬┬──┬───── stir       conj   VB  VERB \n",
      "│   │    ││  │  ┌─► the        det    DT  DET  \n",
      "│   │    ││  └─►└── broth      dobj   NN  NOUN \n",
      "│   │    │└─►┌───── into       prep   IN  ADP  \n",
      "│   │    │   │  ┌─► the        det    DT  DET  \n",
      "│   │    │   └─►└── skillet    pobj   NN  NOUN \n",
      "│   │    └────────► ,          punct  ,   PUNCT\n",
      "│   └─►┌──┬┬┬───┬── scraping   advcl  VBG VERB \n",
      "│      │  │││   └─► up         prt    RP  PART \n",
      "│      │  │││  ┌──► the        det    DT  DET  \n",
      "│      │  │││  │┌─► brown      amod   JJ  ADJ  \n",
      "│      │  ││└─►└┴── bits       dobj   NNS NOUN \n",
      "│      │  │└──────► ,          punct  ,   PUNCT\n",
      "│      │  └───────► and        cc     CC  CCONJ\n",
      "│      └─►┌──┬───── boil       conj   VB  VERB \n",
      "│         │  │  ┌─► the        det    DT  DET  \n",
      "│         │  └─►└── mixture    dobj   NN  NOUN \n",
      "│         └─►┌───── for        prep   IN  ADP  \n",
      "│            │  ┌─► 1          nummod CD  NUM  \n",
      "│            └─►└── minute     pobj   NN  NOUN \n",
      "└─────────────────► .          punct  .   PUNCT\n"
     ]
    },
    {
     "name": "stderr",
     "output_type": "stream",
     "text": [
      "/root/anaconda3/lib/python3.6/runpy.py:193: UserWarning: [W006] No entities to visualize found in Doc object. If this is surprising to you, make sure the Doc was processed using a model that supports named entity recognition, and check the `doc.ents` property manually if necessary.\n",
      "  \"__main__\", mod_spec)\n"
     ]
    },
    {
     "data": {
      "text/html": [
       "<div class=\"entities\" style=\"line-height: 2.5\">Strain the liquid through a sieve over the chicken and garnish the chicken with the rosemary sprigs.</div>"
      ],
      "text/plain": [
       "<IPython.core.display.HTML object>"
      ]
     },
     "metadata": {},
     "output_type": "display_data"
    },
    {
     "name": "stdout",
     "output_type": "stream",
     "text": [
      "Dep tree           Token    Dep      Tag Pos  \n",
      "────────────────── ──────── ──────── ─── ─────\n",
      "┌┬┬┬────────┬───── Strain   ROOT     VB  VERB \n",
      "││││        │  ┌─► the      det      DT  DET  \n",
      "││││        └─►└── liquid   dobj     NN  NOUN \n",
      "│││└─►┌─────────── through  prep     IN  ADP  \n",
      "│││   │        ┌─► a        det      DT  DET  \n",
      "│││   └─►┌─────┴── sieve    pobj     NN  NOUN \n",
      "│││      └─►┌───── over     prep     IN  ADP  \n",
      "│││         │  ┌─► the      det      DT  DET  \n",
      "│││         └─►└── chicken  pobj     NN  NOUN \n",
      "││└──────────────► and      cc       CC  CCONJ\n",
      "│└─────►┌───┬───── garnish  conj     VB  VERB \n",
      "│       │   │  ┌─► the      det      DT  DET  \n",
      "│       │   └─►└── chicken  dobj     NN  NOUN \n",
      "│       └─►┌────── with     prep     IN  ADP  \n",
      "│          │  ┌──► the      det      DT  DET  \n",
      "│          │  │┌─► rosemary compound JJ  ADJ  \n",
      "│          └─►└┴── sprigs   pobj     NNS NOUN \n",
      "└────────────────► .        punct    .   PUNCT\n",
      "\n",
      "SIZZLING SAUSAGES WITH SHERRY\n",
      "\n"
     ]
    },
    {
     "data": {
      "text/html": [
       "<div class=\"entities\" style=\"line-height: 2.5\">Use kitchen shears to cut the links into \n",
       "<mark class=\"entity\" style=\"background: #e4e7d2; padding: 0.45em 0.6em; margin: 0 0.25em; line-height: 1; border-radius: 0.35em; box-decoration-break: clone; -webkit-box-decoration-break: clone\">\n",
       "    1 1/2-inch\n",
       "    <span style=\"font-size: 0.8em; font-weight: bold; line-height: 1; border-radius: 0.35em; text-transform: uppercase; vertical-align: middle; margin-left: 0.5rem\">QUANTITY</span>\n",
       "</mark>\n",
       " pieces.</div>"
      ],
      "text/plain": [
       "<IPython.core.display.HTML object>"
      ]
     },
     "metadata": {},
     "output_type": "display_data"
    },
    {
     "name": "stdout",
     "output_type": "stream",
     "text": [
      "Dep tree       Token    Dep      Tag Pos  \n",
      "────────────── ──────── ──────── ─── ─────\n",
      "┌┬──────┬───── Use      ROOT     VB  VERB \n",
      "││      │  ┌─► kitchen  compound NN  NOUN \n",
      "││      └─►└── shears   dobj     NNS NOUN \n",
      "││         ┌─► to       aux      TO  PART \n",
      "│└─►┌───┬──┴── cut      xcomp    VB  VERB \n",
      "│   │   │  ┌─► the      det      DT  DET  \n",
      "│   │   └─►└── links    dobj     NNS NOUN \n",
      "│   └─►┌────── into     prep     IN  ADP  \n",
      "│      │  ┌──► 1        nummod   CD  NUM  \n",
      "│      │  │┌─► 1/2-inch nummod   CD  NUM  \n",
      "│      └─►└┴── pieces   pobj     NNS NOUN \n",
      "└────────────► .        punct    .   PUNCT\n"
     ]
    },
    {
     "data": {
      "text/html": [
       "<div class=\"entities\" style=\"line-height: 2.5\">Heat the oil in a skillet over medium heat and brown the sausage pieces on all sides, \n",
       "<mark class=\"entity\" style=\"background: #bfe1d9; padding: 0.45em 0.6em; margin: 0 0.25em; line-height: 1; border-radius: 0.35em; box-decoration-break: clone; -webkit-box-decoration-break: clone\">\n",
       "    about 5 minutes\n",
       "    <span style=\"font-size: 0.8em; font-weight: bold; line-height: 1; border-radius: 0.35em; text-transform: uppercase; vertical-align: middle; margin-left: 0.5rem\">TIME</span>\n",
       "</mark>\n",
       ".</div>"
      ],
      "text/plain": [
       "<IPython.core.display.HTML object>"
      ]
     },
     "metadata": {},
     "output_type": "display_data"
    },
    {
     "name": "stdout",
     "output_type": "stream",
     "text": [
      "Dep tree           Token   Dep      Tag Pos  \n",
      "────────────────── ─────── ──────── ─── ─────\n",
      "┌┬┬┬────────┬───── Heat    ROOT     VB  VERB \n",
      "││││        │  ┌─► the     det      DT  DET  \n",
      "││││        └─►└── oil     dobj     NN  NOUN \n",
      "│││└─►┌─────────── in      prep     IN  ADP  \n",
      "│││   │        ┌─► a       det      DT  DET  \n",
      "│││   └─►┌─────┴── skillet pobj     NN  NOUN \n",
      "│││      └─►┌───── over    prep     IN  ADP  \n",
      "│││         │  ┌─► medium  amod     JJ  ADJ  \n",
      "│││         └─►└── heat    pobj     NN  NOUN \n",
      "││└──────────────► and     cc       CC  CCONJ\n",
      "│└─►┌┬┬─────────── brown   conj     VBD VERB \n",
      "│   │││       ┌──► the     det      DT  DET  \n",
      "│   │││       │┌─► sausage compound NN  NOUN \n",
      "│   ││└─►┌────┴┴── pieces  dobj     NNS NOUN \n",
      "│   ││   └─►┌───── on      prep     IN  ADP  \n",
      "│   ││      │  ┌─► all     det      DT  DET  \n",
      "│   ││      └─►└── sides   pobj     NNS NOUN \n",
      "│   │└───────────► ,       punct    ,   PUNCT\n",
      "│   │          ┌─► about   advmod   RB  ADV  \n",
      "│   │       ┌─►└── 5       nummod   CD  NUM  \n",
      "│   └──────►└───── minutes npadvmod NNS NOUN \n",
      "└────────────────► .       punct    .   PUNCT\n"
     ]
    },
    {
     "data": {
      "text/html": [
       "<div class=\"entities\" style=\"line-height: 2.5\">Add the \n",
       "<mark class=\"entity\" style=\"background: #aa9cfc; padding: 0.45em 0.6em; margin: 0 0.25em; line-height: 1; border-radius: 0.35em; box-decoration-break: clone; -webkit-box-decoration-break: clone\">\n",
       "    Sherry\n",
       "    <span style=\"font-size: 0.8em; font-weight: bold; line-height: 1; border-radius: 0.35em; text-transform: uppercase; vertical-align: middle; margin-left: 0.5rem\">PERSON</span>\n",
       "</mark>\n",
       " and cook over medium heat for \n",
       "<mark class=\"entity\" style=\"background: #bfe1d9; padding: 0.45em 0.6em; margin: 0 0.25em; line-height: 1; border-radius: 0.35em; box-decoration-break: clone; -webkit-box-decoration-break: clone\">\n",
       "    3 minutes\n",
       "    <span style=\"font-size: 0.8em; font-weight: bold; line-height: 1; border-radius: 0.35em; text-transform: uppercase; vertical-align: middle; margin-left: 0.5rem\">TIME</span>\n",
       "</mark>\n",
       ".</div>"
      ],
      "text/plain": [
       "<IPython.core.display.HTML object>"
      ]
     },
     "metadata": {},
     "output_type": "display_data"
    },
    {
     "name": "stdout",
     "output_type": "stream",
     "text": [
      "Dep tree      Token   Dep    Tag Pos  \n",
      "───────────── ─────── ────── ─── ─────\n",
      "┌┬────┬┬───── Add     ROOT   VB  VERB \n",
      "││    ││  ┌─► the     det    DT  DET  \n",
      "││    │└─►└── Sherry  dobj   NNP PROPN\n",
      "││    └─────► and     cc     CC  CCONJ\n",
      "│└─►┌──┬──┬── cook    conj   VB  VERB \n",
      "│   │  │  └─► over    prt    IN  ADP  \n",
      "│   │  │  ┌─► medium  amod   JJ  ADJ  \n",
      "│   │  └─►└── heat    dobj   NN  NOUN \n",
      "│   └─►┌───── for     prep   IN  ADP  \n",
      "│      │  ┌─► 3       nummod CD  NUM  \n",
      "│      └─►└── minutes pobj   NNS NOUN \n",
      "└───────────► .       punct  .   PUNCT\n"
     ]
    },
    {
     "name": "stderr",
     "output_type": "stream",
     "text": [
      "/root/anaconda3/lib/python3.6/runpy.py:193: UserWarning: [W006] No entities to visualize found in Doc object. If this is surprising to you, make sure the Doc was processed using a model that supports named entity recognition, and check the `doc.ents` property manually if necessary.\n",
      "  \"__main__\", mod_spec)\n"
     ]
    },
    {
     "data": {
      "text/html": [
       "<div class=\"entities\" style=\"line-height: 2.5\">Serve sprinkled with parsley.</div>"
      ],
      "text/plain": [
       "<IPython.core.display.HTML object>"
      ]
     },
     "metadata": {},
     "output_type": "display_data"
    },
    {
     "name": "stdout",
     "output_type": "stream",
     "text": [
      "Dep tree Token     Dep   Tag Pos  \n",
      "──────── ───────── ───── ─── ─────\n",
      "    ┌─►  Serve     nsubj VB  VERB \n",
      "┌┬──┴──  sprinkled ROOT  VBN VERB \n",
      "│└─►┌──  with      prep  IN  ADP  \n",
      "│   └─►  parsley   pobj  NN  NOUN \n",
      "└─────►  .         punct .   PUNCT\n"
     ]
    },
    {
     "name": "stderr",
     "output_type": "stream",
     "text": [
      "/root/anaconda3/lib/python3.6/runpy.py:193: UserWarning: [W006] No entities to visualize found in Doc object. If this is surprising to you, make sure the Doc was processed using a model that supports named entity recognition, and check the `doc.ents` property manually if necessary.\n",
      "  \"__main__\", mod_spec)\n"
     ]
    },
    {
     "data": {
      "text/html": [
       "<div class=\"entities\" style=\"line-height: 2.5\">If the sausage pieces are to be served as a tapas, spear them with toothpicks.</div>"
      ],
      "text/plain": [
       "<IPython.core.display.HTML object>"
      ]
     },
     "metadata": {},
     "output_type": "display_data"
    },
    {
     "name": "stdout",
     "output_type": "stream",
     "text": [
      "Dep tree        Token      Dep      Tag Pos  \n",
      "─────────────── ────────── ──────── ─── ─────\n",
      "       ┌──────► If         mark     IN  ADP  \n",
      "       │   ┌──► the        det      DT  DET  \n",
      "       │   │┌─► sausage    compound NN  NOUN \n",
      "       │┌─►└┴── pieces     nsubj    NNS NOUN \n",
      "┌─►┌───┴┴────── are        advcl    VBP VERB \n",
      "│  │       ┌──► to         aux      TO  PART \n",
      "│  │       │┌─► be         auxpass  VB  VERB \n",
      "│  └─►┌────┴┴── served     xcomp    VBN VERB \n",
      "│     └─►┌───── as         prep     IN  ADP  \n",
      "│        │  ┌─► a          det      DT  DET  \n",
      "│        └─►└── tapas      pobj     NN  NOUN \n",
      "│           ┌─► ,          punct    ,   PUNCT\n",
      "└───────┬┬──┼── spear      ROOT     VB  VERB \n",
      "        ││  └─► them       dobj     PRP PRON \n",
      "        │└─►┌── with       prep     IN  ADP  \n",
      "        │   └─► toothpicks pobj     NNS NOUN \n",
      "        └─────► .          punct    .   PUNCT\n",
      "\n",
      "BUBBAS BEER BISCUITS\n",
      "\n"
     ]
    },
    {
     "data": {
      "text/html": [
       "<div class=\"entities\" style=\"line-height: 2.5\">Preheat oven to \n",
       "<mark class=\"entity\" style=\"background: #e4e7d2; padding: 0.45em 0.6em; margin: 0 0.25em; line-height: 1; border-radius: 0.35em; box-decoration-break: clone; -webkit-box-decoration-break: clone\">\n",
       "    400 degrees\n",
       "    <span style=\"font-size: 0.8em; font-weight: bold; line-height: 1; border-radius: 0.35em; text-transform: uppercase; vertical-align: middle; margin-left: 0.5rem\">QUANTITY</span>\n",
       "</mark>\n",
       ".</div>"
      ],
      "text/plain": [
       "<IPython.core.display.HTML object>"
      ]
     },
     "metadata": {},
     "output_type": "display_data"
    },
    {
     "name": "stdout",
     "output_type": "stream",
     "text": [
      "Dep tree   Token   Dep    Tag Pos  \n",
      "────────── ─────── ────── ─── ─────\n",
      "       ┌─► Preheat nsubj  VB  VERB \n",
      "┌┬─────┴── oven    ROOT   VBD VERB \n",
      "│└─►┌───── to      prep   IN  ADP  \n",
      "│   │  ┌─► 400     nummod CD  NUM  \n",
      "│   └─►└── degrees pobj   NNS NOUN \n",
      "└────────► .       punct  .   PUNCT\n"
     ]
    },
    {
     "data": {
      "text/html": [
       "<div class=\"entities\" style=\"line-height: 2.5\">\n",
       "<mark class=\"entity\" style=\"background: #aa9cfc; padding: 0.45em 0.6em; margin: 0 0.25em; line-height: 1; border-radius: 0.35em; box-decoration-break: clone; -webkit-box-decoration-break: clone\">\n",
       "    Mix\n",
       "    <span style=\"font-size: 0.8em; font-weight: bold; line-height: 1; border-radius: 0.35em; text-transform: uppercase; vertical-align: middle; margin-left: 0.5rem\">PERSON</span>\n",
       "</mark>\n",
       " all ingredients well, adjusting the sugar according to how sweet a biscuit you prefer.</div>"
      ],
      "text/plain": [
       "<IPython.core.display.HTML object>"
      ]
     },
     "metadata": {},
     "output_type": "display_data"
    },
    {
     "name": "stdout",
     "output_type": "stream",
     "text": [
      "Dep tree               Token       Dep    Tag Pos  \n",
      "────────────────────── ─────────── ────── ─── ─────\n",
      "                  ┌──► Mix         nmod   VB  VERB \n",
      "                  │┌─► all         det    DT  DET  \n",
      "┌┬────────────────┼┼── ingredients ROOT   NNS NOUN \n",
      "││                │└─► well        advmod RB  ADV  \n",
      "││                └──► ,           punct  ,   PUNCT\n",
      "│└─►┌───────────┬───── adjusting   advcl  VBG VERB \n",
      "│   │           │  ┌─► the         det    DT  DET  \n",
      "│   │           └─►└── sugar       dobj   NN  NOUN \n",
      "│   └─►┌────────────── according   prep   VBG VERB \n",
      "│      └─►┌─────────── to          prep   IN  ADP  \n",
      "│         │        ┌─► how         advmod WRB ADV  \n",
      "│         │     ┌─►└── sweet       amod   JJ  ADJ  \n",
      "│         │     │  ┌─► a           det    DT  DET  \n",
      "│         │  ┌─►└──┴── biscuit     dobj   NN  NOUN \n",
      "│         │  │     ┌─► you         nsubj  PRP PRON \n",
      "│         └─►└─────┴── prefer      pcomp  VBP VERB \n",
      "└────────────────────► .           punct  .   PUNCT\n"
     ]
    },
    {
     "name": "stderr",
     "output_type": "stream",
     "text": [
      "/root/anaconda3/lib/python3.6/runpy.py:193: UserWarning: [W006] No entities to visualize found in Doc object. If this is surprising to you, make sure the Doc was processed using a model that supports named entity recognition, and check the `doc.ents` property manually if necessary.\n",
      "  \"__main__\", mod_spec)\n"
     ]
    },
    {
     "data": {
      "text/html": [
       "<div class=\"entities\" style=\"line-height: 2.5\">Pour into wellgreased muffin tins.</div>"
      ],
      "text/plain": [
       "<IPython.core.display.HTML object>"
      ]
     },
     "metadata": {},
     "output_type": "display_data"
    },
    {
     "name": "stdout",
     "output_type": "stream",
     "text": [
      "Dep tree    Token       Dep      Tag Pos  \n",
      "─────────── ─────────── ──────── ─── ─────\n",
      "┌┬───────── Pour        ROOT     VB  VERB \n",
      "│└─►┌────── into        prep     IN  ADP  \n",
      "│   │  ┌──► wellgreased amod     VBN VERB \n",
      "│   │  │┌─► muffin      compound NN  NOUN \n",
      "│   └─►└┴── tins        pobj     NNS NOUN \n",
      "└─────────► .           punct    .   PUNCT\n"
     ]
    },
    {
     "data": {
      "text/html": [
       "<div class=\"entities\" style=\"line-height: 2.5\">Bake for \n",
       "<mark class=\"entity\" style=\"background: #bfe1d9; padding: 0.45em 0.6em; margin: 0 0.25em; line-height: 1; border-radius: 0.35em; box-decoration-break: clone; -webkit-box-decoration-break: clone\">\n",
       "    15 to 20 minutes\n",
       "    <span style=\"font-size: 0.8em; font-weight: bold; line-height: 1; border-radius: 0.35em; text-transform: uppercase; vertical-align: middle; margin-left: 0.5rem\">TIME</span>\n",
       "</mark>\n",
       ".</div>"
      ],
      "text/plain": [
       "<IPython.core.display.HTML object>"
      ]
     },
     "metadata": {},
     "output_type": "display_data"
    },
    {
     "name": "stdout",
     "output_type": "stream",
     "text": [
      "Dep tree       Token   Dep      Tag Pos  \n",
      "────────────── ─────── ──────── ─── ─────\n",
      "┌┬──────────── Bake    ROOT     NN  NOUN \n",
      "│└─►┌───────── for     prep     IN  ADP  \n",
      "│   │     ┌──► 15      quantmod CD  NUM  \n",
      "│   │     │┌─► to      quantmod TO  PART \n",
      "│   │  ┌─►└┴── 20      nummod   CD  NUM  \n",
      "│   └─►└────── minutes pobj     NNS NOUN \n",
      "└────────────► .       punct    .   PUNCT\n"
     ]
    },
    {
     "name": "stderr",
     "output_type": "stream",
     "text": [
      "/root/anaconda3/lib/python3.6/runpy.py:193: UserWarning: [W006] No entities to visualize found in Doc object. If this is surprising to you, make sure the Doc was processed using a model that supports named entity recognition, and check the `doc.ents` property manually if necessary.\n",
      "  \"__main__\", mod_spec)\n"
     ]
    },
    {
     "data": {
      "text/html": [
       "<div class=\"entities\" style=\"line-height: 2.5\">Serve with honey butter.</div>"
      ],
      "text/plain": [
       "<IPython.core.display.HTML object>"
      ]
     },
     "metadata": {},
     "output_type": "display_data"
    },
    {
     "name": "stdout",
     "output_type": "stream",
     "text": [
      "Dep tree   Token  Dep      Tag Pos  \n",
      "────────── ────── ──────── ─── ─────\n",
      "┌┬──────── Serve  ROOT     VB  VERB \n",
      "│└─►┌───── with   prep     IN  ADP  \n",
      "│   │  ┌─► honey  compound NN  NOUN \n",
      "│   └─►└── butter pobj     NN  NOUN \n",
      "└────────► .      punct    .   PUNCT\n",
      "\n",
      "APPLE SORBET\n",
      "\n"
     ]
    },
    {
     "data": {
      "text/html": [
       "<div class=\"entities\" style=\"line-height: 2.5\">In a large saucepan combine all ingredients and a pinch salt and simmer, uncovered, \n",
       "<mark class=\"entity\" style=\"background: #bfe1d9; padding: 0.45em 0.6em; margin: 0 0.25em; line-height: 1; border-radius: 0.35em; box-decoration-break: clone; -webkit-box-decoration-break: clone\">\n",
       "    10 minutes\n",
       "    <span style=\"font-size: 0.8em; font-weight: bold; line-height: 1; border-radius: 0.35em; text-transform: uppercase; vertical-align: middle; margin-left: 0.5rem\">TIME</span>\n",
       "</mark>\n",
       ", or until apples are very tender.</div>"
      ],
      "text/plain": [
       "<IPython.core.display.HTML object>"
      ]
     },
     "metadata": {},
     "output_type": "display_data"
    },
    {
     "name": "stdout",
     "output_type": "stream",
     "text": [
      "Dep tree       Token       Dep    Tag Pos  \n",
      "────────────── ─────────── ────── ─── ─────\n",
      "    ┌─►┌────── In          prep   IN  ADP  \n",
      "    │  │  ┌──► a           det    DT  DET  \n",
      "    │  │  │┌─► large       amod   JJ  ADJ  \n",
      "    │  └─►└┴── saucepan    pobj   NN  NOUN \n",
      "┌┬┬┬┼───────── combine     ROOT   VBP VERB \n",
      "│││││      ┌─► all         det    DT  DET  \n",
      "││││└─►┌───┼── ingredients dobj   NNS NOUN \n",
      "││││   │   └─► and         cc     CC  CCONJ\n",
      "││││   │  ┌──► a           det    DT  DET  \n",
      "││││   │  │┌─► pinch       amod   NN  NOUN \n",
      "││││   └─►├┼── salt        conj   NN  NOUN \n",
      "││││      │└─► and         cc     CC  CCONJ\n",
      "││││      └──► simmer      conj   NN  NOUN \n",
      "│││└─────────► ,           punct  ,   PUNCT\n",
      "││└─►┌┬┬┬──┬── uncovered   conj   VBN VERB \n",
      "││   ││││  └─► ,           punct  ,   PUNCT\n",
      "││   ││││  ┌─► 10          nummod CD  NUM  \n",
      "││   │││└─►└── minutes     conj   NNS NOUN \n",
      "││   ││└─────► ,           punct  ,   PUNCT\n",
      "││   │└──────► or          cc     CC  CCONJ\n",
      "││   └────►┌── until       conj   IN  ADP  \n",
      "││         └─► apples      pobj   NNS NOUN \n",
      "│└─────►┌───── are         conj   VBP VERB \n",
      "│       │  ┌─► very        advmod RB  ADV  \n",
      "│       └─►└── tender      acomp  JJ  ADJ  \n",
      "└────────────► .           punct  .   PUNCT\n"
     ]
    },
    {
     "data": {
      "text/html": [
       "<div class=\"entities\" style=\"line-height: 2.5\">\n",
       "<mark class=\"entity\" style=\"background: #feca74; padding: 0.45em 0.6em; margin: 0 0.25em; line-height: 1; border-radius: 0.35em; box-decoration-break: clone; -webkit-box-decoration-break: clone\">\n",
       "    Strain\n",
       "    <span style=\"font-size: 0.8em; font-weight: bold; line-height: 1; border-radius: 0.35em; text-transform: uppercase; vertical-align: middle; margin-left: 0.5rem\">GPE</span>\n",
       "</mark>\n",
       " mixture through a sieve into a blender and add \n",
       "<mark class=\"entity\" style=\"background: #e4e7d2; padding: 0.45em 0.6em; margin: 0 0.25em; line-height: 1; border-radius: 0.35em; box-decoration-break: clone; -webkit-box-decoration-break: clone\">\n",
       "    half\n",
       "    <span style=\"font-size: 0.8em; font-weight: bold; line-height: 1; border-radius: 0.35em; text-transform: uppercase; vertical-align: middle; margin-left: 0.5rem\">CARDINAL</span>\n",
       "</mark>\n",
       " of solids in sieve to blender, discarding remaining solids.</div>"
      ],
      "text/plain": [
       "<IPython.core.display.HTML object>"
      ]
     },
     "metadata": {},
     "output_type": "display_data"
    },
    {
     "name": "stdout",
     "output_type": "stream",
     "text": [
      "Dep tree           Token      Dep      Tag Pos  \n",
      "────────────────── ────────── ──────── ─── ─────\n",
      "               ┌─► Strain     compound VB  VERB \n",
      "┌┬┬┬───────────┴── mixture    ROOT     NN  NOUN \n",
      "│││└─►┌─────────── through    prep     IN  ADP  \n",
      "│││   │        ┌─► a          det      DT  DET  \n",
      "│││   └─►┌─────┴── sieve      pobj     NN  NOUN \n",
      "│││      └─►┌───── into       prep     IN  ADP  \n",
      "│││         │  ┌─► a          det      DT  DET  \n",
      "│││         └─►└── blender    pobj     NN  NOUN \n",
      "││└──────────────► and        cc       CC  CCONJ\n",
      "│└─►┌┬───┬──────── add        conj     VB  VERB \n",
      "│   ││   └─►┌───── half       dobj     NN  NOUN \n",
      "│   ││      └─►┌── of         prep     IN  ADP  \n",
      "│   ││         └─► solids     pobj     NNS NOUN \n",
      "│   │└─►┌───────── in         prep     IN  ADP  \n",
      "│   │   └─►┌┬───── sieve      pobj     NN  NOUN \n",
      "│   │      ││  ┌─► to         aux      TO  PART \n",
      "│   │      │└─►└── blender    xcomp    VB  VERB \n",
      "│   │      └─────► ,          punct    ,   PUNCT\n",
      "│   └──────►┌───── discarding advcl    VBG VERB \n",
      "│           │  ┌─► remaining  amod     JJ  ADJ  \n",
      "│           └─►└── solids     dobj     NNS NOUN \n",
      "└────────────────► .          punct    .   PUNCT\n"
     ]
    },
    {
     "name": "stderr",
     "output_type": "stream",
     "text": [
      "/root/anaconda3/lib/python3.6/runpy.py:193: UserWarning: [W006] No entities to visualize found in Doc object. If this is surprising to you, make sure the Doc was processed using a model that supports named entity recognition, and check the `doc.ents` property manually if necessary.\n",
      "  \"__main__\", mod_spec)\n"
     ]
    },
    {
     "data": {
      "text/html": [
       "<div class=\"entities\" style=\"line-height: 2.5\">Puree apple mixture and chill until cold.</div>"
      ],
      "text/plain": [
       "<IPython.core.display.HTML object>"
      ]
     },
     "metadata": {},
     "output_type": "display_data"
    },
    {
     "name": "stdout",
     "output_type": "stream",
     "text": [
      "Dep tree   Token   Dep      Tag Pos  \n",
      "────────── ─────── ──────── ─── ─────\n",
      "      ┌──► Puree   compound NN  NOUN \n",
      "      │┌─► apple   compound NN  NOUN \n",
      "┌┬────┴┼── mixture ROOT     NN  NOUN \n",
      "││     └─► and     cc       CC  CCONJ\n",
      "│└─►┌───── chill   conj     VB  VERB \n",
      "│   │  ┌─► until   mark     IN  ADP  \n",
      "│   └─►└── cold    advcl    JJ  ADJ  \n",
      "└────────► .       punct    .   PUNCT\n"
     ]
    },
    {
     "name": "stderr",
     "output_type": "stream",
     "text": [
      "/root/anaconda3/lib/python3.6/runpy.py:193: UserWarning: [W006] No entities to visualize found in Doc object. If this is surprising to you, make sure the Doc was processed using a model that supports named entity recognition, and check the `doc.ents` property manually if necessary.\n",
      "  \"__main__\", mod_spec)\n"
     ]
    },
    {
     "data": {
      "text/html": [
       "<div class=\"entities\" style=\"line-height: 2.5\">Freeze sorbet in an ice-cream maker.</div>"
      ],
      "text/plain": [
       "<IPython.core.display.HTML object>"
      ]
     },
     "metadata": {},
     "output_type": "display_data"
    },
    {
     "name": "stdout",
     "output_type": "stream",
     "text": [
      "Dep tree        Token  Dep      Tag  Pos  \n",
      "─────────────── ────── ──────── ──── ─────\n",
      "            ┌─► Freeze compound VB   VERB \n",
      "┌┬──────────┴── sorbet ROOT     NN   NOUN \n",
      "│└─►┌────────── in     prep     IN   ADP  \n",
      "│   │  ┌──────► an     det      DT   DET  \n",
      "│   │  │   ┌──► ice    compound NN   NOUN \n",
      "│   │  │   │┌─► -      punct    HYPH PUNCT\n",
      "│   │  │┌─►└┴── cream  compound NN   NOUN \n",
      "│   └─►└┴────── maker  pobj     NN   NOUN \n",
      "└─────────────► .      punct    .    PUNCT\n"
     ]
    },
    {
     "data": {
      "text/html": [
       "<div class=\"entities\" style=\"line-height: 2.5\">\n",
       "<mark class=\"entity\" style=\"background: #7aecec; padding: 0.45em 0.6em; margin: 0 0.25em; line-height: 1; border-radius: 0.35em; box-decoration-break: clone; -webkit-box-decoration-break: clone\">\n",
       "    Sorbet\n",
       "    <span style=\"font-size: 0.8em; font-weight: bold; line-height: 1; border-radius: 0.35em; text-transform: uppercase; vertical-align: middle; margin-left: 0.5rem\">ORG</span>\n",
       "</mark>\n",
       " may be made \n",
       "<mark class=\"entity\" style=\"background: #bfe1d9; padding: 0.45em 0.6em; margin: 0 0.25em; line-height: 1; border-radius: 0.35em; box-decoration-break: clone; -webkit-box-decoration-break: clone\">\n",
       "    1 week ahead\n",
       "    <span style=\"font-size: 0.8em; font-weight: bold; line-height: 1; border-radius: 0.35em; text-transform: uppercase; vertical-align: middle; margin-left: 0.5rem\">DATE</span>\n",
       "</mark>\n",
       ".</div>"
      ],
      "text/plain": [
       "<IPython.core.display.HTML object>"
      ]
     },
     "metadata": {},
     "output_type": "display_data"
    },
    {
     "name": "stdout",
     "output_type": "stream",
     "text": [
      "Dep tree   Token  Dep       Tag Pos  \n",
      "────────── ────── ───────── ─── ─────\n",
      "     ┌───► Sorbet nsubjpass NN  NOUN \n",
      "     │┌──► may    aux       MD  VERB \n",
      "     ││┌─► be     auxpass   VB  VERB \n",
      "┌┬───┴┴┴── made   ROOT      VBN VERB \n",
      "││     ┌─► 1      nummod    CD  NUM  \n",
      "││  ┌─►└── week   npadvmod  NN  NOUN \n",
      "│└─►└───── ahead  advmod    RB  ADV  \n",
      "└────────► .      punct     .   PUNCT\n",
      "\n",
      "COCONUT SORBET\n",
      "\n"
     ]
    },
    {
     "name": "stderr",
     "output_type": "stream",
     "text": [
      "/root/anaconda3/lib/python3.6/runpy.py:193: UserWarning: [W006] No entities to visualize found in Doc object. If this is surprising to you, make sure the Doc was processed using a model that supports named entity recognition, and check the `doc.ents` property manually if necessary.\n",
      "  \"__main__\", mod_spec)\n"
     ]
    },
    {
     "data": {
      "text/html": [
       "<div class=\"entities\" style=\"line-height: 2.5\">Combine the coconut milk with the sugar and taste; add more sugar if you like.</div>"
      ],
      "text/plain": [
       "<IPython.core.display.HTML object>"
      ]
     },
     "metadata": {},
     "output_type": "display_data"
    },
    {
     "name": "stdout",
     "output_type": "stream",
     "text": [
      "Dep tree      Token   Dep   Tag Pos  \n",
      "───────────── ─────── ───── ─── ─────\n",
      "┌┬┬┬──┬────── Combine ROOT  VB  VERB \n",
      "││││  │  ┌──► the     det   DT  DET  \n",
      "││││  │  │┌─► coconut amod  NN  NOUN \n",
      "││││  └─►└┴── milk    dobj  NN  NOUN \n",
      "│││└─►┌────── with    prep  IN  ADP  \n",
      "│││   │   ┌─► the     det   DT  DET  \n",
      "│││   └─►┌┼── sugar   pobj  NN  NOUN \n",
      "│││      │└─► and     cc    CC  CCONJ\n",
      "│││      └──► taste   conj  NN  NOUN \n",
      "││└─────────► ;       punct :   PUNCT\n",
      "│└───►┌┬───── add     conj  VB  VERB \n",
      "│     ││  ┌─► more    amod  JJR ADJ  \n",
      "│     │└─►└── sugar   dobj  NN  NOUN \n",
      "│     │  ┌──► if      mark  IN  ADP  \n",
      "│     │  │┌─► you     nsubj PRP PRON \n",
      "│     └─►└┴── like    advcl VBP VERB \n",
      "└───────────► .       punct .   PUNCT\n"
     ]
    },
    {
     "name": "stderr",
     "output_type": "stream",
     "text": [
      "/root/anaconda3/lib/python3.6/runpy.py:193: UserWarning: [W006] No entities to visualize found in Doc object. If this is surprising to you, make sure the Doc was processed using a model that supports named entity recognition, and check the `doc.ents` property manually if necessary.\n",
      "  \"__main__\", mod_spec)\n"
     ]
    },
    {
     "data": {
      "text/html": [
       "<div class=\"entities\" style=\"line-height: 2.5\">Add the vanilla and stir.</div>"
      ],
      "text/plain": [
       "<IPython.core.display.HTML object>"
      ]
     },
     "metadata": {},
     "output_type": "display_data"
    },
    {
     "name": "stdout",
     "output_type": "stream",
     "text": [
      "Dep tree  Token   Dep   Tag Pos  \n",
      "───────── ─────── ───── ─── ─────\n",
      "┌┬┬┬───── Add     ROOT  VB  VERB \n",
      "││││  ┌─► the     det   DT  DET  \n",
      "│││└─►└── vanilla dobj  NN  NOUN \n",
      "││└─────► and     cc    CC  CCONJ\n",
      "│└──────► stir    conj  NN  NOUN \n",
      "└───────► .       punct .   PUNCT\n"
     ]
    },
    {
     "name": "stderr",
     "output_type": "stream",
     "text": [
      "/root/anaconda3/lib/python3.6/runpy.py:193: UserWarning: [W006] No entities to visualize found in Doc object. If this is surprising to you, make sure the Doc was processed using a model that supports named entity recognition, and check the `doc.ents` property manually if necessary.\n",
      "  \"__main__\", mod_spec)\n"
     ]
    },
    {
     "data": {
      "text/html": [
       "<div class=\"entities\" style=\"line-height: 2.5\">Freeze in an ice cream machine according to the manufacturers instructions.</div>"
      ],
      "text/plain": [
       "<IPython.core.display.HTML object>"
      ]
     },
     "metadata": {},
     "output_type": "display_data"
    },
    {
     "name": "stdout",
     "output_type": "stream",
     "text": [
      "Dep tree        Token         Dep      Tag Pos  \n",
      "─────────────── ───────────── ──────── ─── ─────\n",
      "┌┬┬──────────── Freeze        ROOT     VB  VERB \n",
      "││└─►┌───────── in            prep     IN  ADP  \n",
      "││   │  ┌─────► an            det      DT  DET  \n",
      "││   │  │   ┌─► ice           compound NN  NOUN \n",
      "││   │  │┌─►└── cream         compound NN  NOUN \n",
      "││   └─►└┴───── machine       pobj     NN  NOUN \n",
      "│└──►┌───────── according     prep     VBG VERB \n",
      "│    └─►┌────── to            prep     IN  ADP  \n",
      "│       │  ┌──► the           det      DT  DET  \n",
      "│       │  │┌─► manufacturers compound NNS NOUN \n",
      "│       └─►└┴── instructions  pobj     NNS NOUN \n",
      "└─────────────► .             punct    .   PUNCT\n"
     ]
    },
    {
     "data": {
      "text/html": [
       "<div class=\"entities\" style=\"line-height: 2.5\">Serve as soon as possible after making or freeze and let warm in the refrigerator for \n",
       "<mark class=\"entity\" style=\"background: #bfe1d9; padding: 0.45em 0.6em; margin: 0 0.25em; line-height: 1; border-radius: 0.35em; box-decoration-break: clone; -webkit-box-decoration-break: clone\">\n",
       "    30 minutes\n",
       "    <span style=\"font-size: 0.8em; font-weight: bold; line-height: 1; border-radius: 0.35em; text-transform: uppercase; vertical-align: middle; margin-left: 0.5rem\">TIME</span>\n",
       "</mark>\n",
       " before serving.</div>"
      ],
      "text/plain": [
       "<IPython.core.display.HTML object>"
      ]
     },
     "metadata": {},
     "output_type": "display_data"
    },
    {
     "name": "stdout",
     "output_type": "stream",
     "text": [
      "Dep tree                 Token        Dep    Tag Pos  \n",
      "──────────────────────── ──────────── ────── ─── ─────\n",
      "┌┬─────────────┬──────── Serve        ROOT   VB  VERB \n",
      "││             │     ┌─► as           advmod RB  ADV  \n",
      "││             └─►┌──┴── soon         advmod RB  ADV  \n",
      "││                └─►┌── as           prep   IN  ADP  \n",
      "││                   └─► possible     amod   JJ  ADJ  \n",
      "│└─►┌─────────────────── after        prep   IN  ADP  \n",
      "│   └─►┌─────────────┬── making       pcomp  VBG VERB \n",
      "│      │             └─► or           cc     CC  CCONJ\n",
      "│      └─►┌──────────┬── freeze       conj   VB  VERB \n",
      "│         │          └─► and          cc     CC  CCONJ\n",
      "│         └─►┌┬┬─────┬── let          conj   VB  VERB \n",
      "│            │││     └─► warm         ccomp  JJ  ADJ  \n",
      "│            ││└─►┌───── in           prep   IN  ADP  \n",
      "│            ││   │  ┌─► the          det    DT  DET  \n",
      "│            ││   └─►└── refrigerator pobj   NN  NOUN \n",
      "│            │└──►┌───── for          prep   IN  ADP  \n",
      "│            │    │  ┌─► 30           nummod CD  NUM  \n",
      "│            │    └─►└── minutes      pobj   NNS NOUN \n",
      "│            └──────►┌── before       prep   IN  ADP  \n",
      "│                    └─► serving      pcomp  VBG VERB \n",
      "└──────────────────────► .            punct  .   PUNCT\n"
     ]
    },
    {
     "data": {
      "text/html": [
       "<div class=\"entities\" style=\"line-height: 2.5\">Best \n",
       "<mark class=\"entity\" style=\"background: #bfe1d9; padding: 0.45em 0.6em; margin: 0 0.25em; line-height: 1; border-radius: 0.35em; box-decoration-break: clone; -webkit-box-decoration-break: clone\">\n",
       "    the day\n",
       "    <span style=\"font-size: 0.8em; font-weight: bold; line-height: 1; border-radius: 0.35em; text-transform: uppercase; vertical-align: middle; margin-left: 0.5rem\">DATE</span>\n",
       "</mark>\n",
       " it is made.</div>"
      ],
      "text/plain": [
       "<IPython.core.display.HTML object>"
      ]
     },
     "metadata": {},
     "output_type": "display_data"
    },
    {
     "name": "stdout",
     "output_type": "stream",
     "text": [
      "Dep tree    Token Dep       Tag Pos  \n",
      "─────────── ───── ───────── ─── ─────\n",
      "┌┬───────── Best  ROOT      JJS ADJ  \n",
      "││      ┌─► the   det       DT  DET  \n",
      "│└─►┌───┴── day   npadvmod  NN  NOUN \n",
      "│   │  ┌──► it    nsubjpass PRP PRON \n",
      "│   │  │┌─► is    auxpass   VBZ VERB \n",
      "│   └─►└┴── made  relcl     VBN VERB \n",
      "└─────────► .     punct     .   PUNCT\n",
      "\n",
      "ICE CREAM SUNDAES WITH CHOCOLATE-COFFEE SAUCE\n",
      "\n"
     ]
    },
    {
     "name": "stderr",
     "output_type": "stream",
     "text": [
      "/root/anaconda3/lib/python3.6/runpy.py:193: UserWarning: [W006] No entities to visualize found in Doc object. If this is surprising to you, make sure the Doc was processed using a model that supports named entity recognition, and check the `doc.ents` property manually if necessary.\n",
      "  \"__main__\", mod_spec)\n"
     ]
    },
    {
     "data": {
      "text/html": [
       "<div class=\"entities\" style=\"line-height: 2.5\">Combine chocolate, liqueur, and whipping cream in heavy small saucepan.</div>"
      ],
      "text/plain": [
       "<IPython.core.display.HTML object>"
      ]
     },
     "metadata": {},
     "output_type": "display_data"
    },
    {
     "name": "stdout",
     "output_type": "stream",
     "text": [
      "Dep tree          Token     Dep      Tag Pos  \n",
      "───────────────── ───────── ──────── ─── ─────\n",
      "              ┌─► Combine   compound NNP PROPN\n",
      "┌┬────────────┼── chocolate ROOT     NN  NOUN \n",
      "││            └─► ,         punct    ,   PUNCT\n",
      "│└─►┌────────┬┬── liqueur   conj     NN  NOUN \n",
      "│   │        │└─► ,         punct    ,   PUNCT\n",
      "│   │        └──► and       cc       CC  CCONJ\n",
      "│   │         ┌─► whipping  compound VBG VERB \n",
      "│   └─►┌──────┴── cream     conj     NN  NOUN \n",
      "│      └─►┌────── in        prep     IN  ADP  \n",
      "│         │  ┌──► heavy     amod     JJ  ADJ  \n",
      "│         │  │┌─► small     amod     JJ  ADJ  \n",
      "│         └─►└┴── saucepan  pobj     NN  NOUN \n",
      "└───────────────► .         punct    .   PUNCT\n"
     ]
    },
    {
     "name": "stderr",
     "output_type": "stream",
     "text": [
      "/root/anaconda3/lib/python3.6/runpy.py:193: UserWarning: [W006] No entities to visualize found in Doc object. If this is surprising to you, make sure the Doc was processed using a model that supports named entity recognition, and check the `doc.ents` property manually if necessary.\n",
      "  \"__main__\", mod_spec)\n"
     ]
    },
    {
     "data": {
      "text/html": [
       "<div class=\"entities\" style=\"line-height: 2.5\">Whisk over medium heat until melted and smooth.</div>"
      ],
      "text/plain": [
       "<IPython.core.display.HTML object>"
      ]
     },
     "metadata": {},
     "output_type": "display_data"
    },
    {
     "name": "stdout",
     "output_type": "stream",
     "text": [
      "Dep tree    Token  Dep   Tag Pos  \n",
      "─────────── ────── ───── ─── ─────\n",
      "┌┬┬──────── Whisk  ROOT  NNP PROPN\n",
      "││└─►┌───── over   prep  IN  ADP  \n",
      "││   │  ┌─► medium amod  JJ  ADJ  \n",
      "││   └─►└── heat   pobj  NN  NOUN \n",
      "││      ┌─► until  mark  IN  ADP  \n",
      "│└────►┌┼── melted advcl VBD VERB \n",
      "│      │└─► and    cc    CC  CCONJ\n",
      "│      └──► smooth conj  JJ  ADJ  \n",
      "└─────────► .      punct .   PUNCT\n"
     ]
    },
    {
     "name": "stderr",
     "output_type": "stream",
     "text": [
      "/root/anaconda3/lib/python3.6/runpy.py:193: UserWarning: [W006] No entities to visualize found in Doc object. If this is surprising to you, make sure the Doc was processed using a model that supports named entity recognition, and check the `doc.ents` property manually if necessary.\n",
      "  \"__main__\", mod_spec)\n"
     ]
    },
    {
     "data": {
      "text/html": [
       "<div class=\"entities\" style=\"line-height: 2.5\">Scoop ice cream into dessert dishes or goblets.</div>"
      ],
      "text/plain": [
       "<IPython.core.display.HTML object>"
      ]
     },
     "metadata": {},
     "output_type": "display_data"
    },
    {
     "name": "stdout",
     "output_type": "stream",
     "text": [
      "Dep tree    Token   Dep      Tag Pos  \n",
      "─────────── ─────── ──────── ─── ─────\n",
      "       ┌──► Scoop   compound NNP PROPN\n",
      "       │┌─► ice     compound NN  NOUN \n",
      "┌┬─────┴┴── cream   ROOT     NN  NOUN \n",
      "│└─►┌────── into    prep     IN  ADP  \n",
      "│   │   ┌─► dessert compound NN  NOUN \n",
      "│   └─►┌┼── dishes  pobj     NNS NOUN \n",
      "│      │└─► or      cc       CC  CCONJ\n",
      "│      └──► goblets conj     NNS NOUN \n",
      "└─────────► .       punct    .   PUNCT\n"
     ]
    },
    {
     "name": "stderr",
     "output_type": "stream",
     "text": [
      "/root/anaconda3/lib/python3.6/runpy.py:193: UserWarning: [W006] No entities to visualize found in Doc object. If this is surprising to you, make sure the Doc was processed using a model that supports named entity recognition, and check the `doc.ents` property manually if necessary.\n",
      "  \"__main__\", mod_spec)\n"
     ]
    },
    {
     "data": {
      "text/html": [
       "<div class=\"entities\" style=\"line-height: 2.5\">Spoon warm sauce over.</div>"
      ],
      "text/plain": [
       "<IPython.core.display.HTML object>"
      ]
     },
     "metadata": {},
     "output_type": "display_data"
    },
    {
     "name": "stdout",
     "output_type": "stream",
     "text": [
      "Dep tree Token Dep    Tag Pos  \n",
      "──────── ───── ────── ─── ─────\n",
      "┌┬┬───── Spoon ROOT   VB  VERB \n",
      "│││  ┌─► warm  amod   JJ  ADJ  \n",
      "││└─►└── sauce dobj   NN  NOUN \n",
      "│└─────► over  advmod IN  ADP  \n",
      "└──────► .     punct  .   PUNCT\n"
     ]
    },
    {
     "name": "stderr",
     "output_type": "stream",
     "text": [
      "/root/anaconda3/lib/python3.6/runpy.py:193: UserWarning: [W006] No entities to visualize found in Doc object. If this is surprising to you, make sure the Doc was processed using a model that supports named entity recognition, and check the `doc.ents` property manually if necessary.\n",
      "  \"__main__\", mod_spec)\n"
     ]
    },
    {
     "data": {
      "text/html": [
       "<div class=\"entities\" style=\"line-height: 2.5\">Serve, passing additional liqueur.</div>"
      ],
      "text/plain": [
       "<IPython.core.display.HTML object>"
      ]
     },
     "metadata": {},
     "output_type": "display_data"
    },
    {
     "name": "stdout",
     "output_type": "stream",
     "text": [
      "Dep tree   Token      Dep   Tag Pos  \n",
      "────────── ────────── ───── ─── ─────\n",
      "┌┬─────┬── Serve      ROOT  VB  VERB \n",
      "││     └─► ,          punct ,   PUNCT\n",
      "│└─►┌───── passing    advcl VBG VERB \n",
      "│   │  ┌─► additional amod  JJ  ADJ  \n",
      "│   └─►└── liqueur    dobj  NN  NOUN \n",
      "└────────► .          punct .   PUNCT\n"
     ]
    }
   ],
   "source": [
    "# spaCy parameters under Token:\n",
    "# Text: The original word text.\n",
    "# Lemma: The base form of the word.\n",
    "# POS: The simple part-of-speech tag.\n",
    "# Tag: The detailed part-of-speech tag.\n",
    "# Dep: Syntactic dependency, i.e. the relation between tokens.\n",
    "# Shape: The word shape – capitalisation, punctuation, digits.\n",
    "# is alpha: Is the token an alpha character?\n",
    "# is stop: Is the token part of a stop list, i.e. the most common words of the language?\n",
    "\n",
    "for recipe in test_recipes:\n",
    "    # title\n",
    "    print('\\n' + epicurious['title'][recipe].upper() + '\\n')\n",
    "    \n",
    "    # instructoins    \n",
    "    for each in epicurious['instructions'][recipe]:\n",
    "        instruction = list(each.values())[0]\n",
    "        displacy.render(nlp(instruction), style='ent', jupyter=True)\n",
    "        # print parser tree for each step\n",
    "        explacy.print_parse_info(nlp, instruction)"
   ]
  },
  {
   "cell_type": "code",
   "execution_count": 69,
   "metadata": {},
   "outputs": [],
   "source": [
    "# for each in (epicurious['ingredients'].head(1)):\n",
    "#     for k, v in enumerate(each):\n",
    "#         doc = nlp(list(v.values())[0])\n",
    "#         print(list(v.values())[0])\n",
    "#         for chunk in doc.noun_chunks:\n",
    "#             print(chunk.root)"
   ]
  },
  {
   "cell_type": "code",
   "execution_count": null,
   "metadata": {},
   "outputs": [],
   "source": [
    "# import benepar\n",
    "# benepar.download('benepar_en')"
   ]
  },
  {
   "cell_type": "code",
   "execution_count": null,
   "metadata": {},
   "outputs": [],
   "source": [
    "# from benepar.spacy_plugin import BeneparComponent"
   ]
  },
  {
   "cell_type": "code",
   "execution_count": null,
   "metadata": {},
   "outputs": [],
   "source": [
    "# nlp = spacy.load('en')\n",
    "# nlp.add_pipe(BeneparComponent('benepar_en'))"
   ]
  },
  {
   "cell_type": "code",
   "execution_count": null,
   "metadata": {},
   "outputs": [],
   "source": [
    "# doc = nlp(\"Bring some light chicken broth to a boil with a few leaves of fresh sage.\")\n",
    "# sent = list(doc.sents)[0]"
   ]
  },
  {
   "cell_type": "code",
   "execution_count": null,
   "metadata": {},
   "outputs": [],
   "source": [
    "# for each in enumerate (sent._.children):\n",
    "#     print(each)"
   ]
  },
  {
   "cell_type": "code",
   "execution_count": null,
   "metadata": {},
   "outputs": [],
   "source": [
    "# type(sent._.children)"
   ]
  },
  {
   "cell_type": "code",
   "execution_count": null,
   "metadata": {},
   "outputs": [],
   "source": [
    "# for each in enumerate (sent._.children):\n",
    "#     # go from the start to the end of each span, returning each token in the sentence\n",
    "#     # combine each token using join()\n",
    "#     print(each.parse_string)"
   ]
  }
 ],
 "metadata": {
  "kernelspec": {
   "display_name": "Python 3",
   "language": "python",
   "name": "python3"
  },
  "language_info": {
   "codemirror_mode": {
    "name": "ipython",
    "version": 3
   },
   "file_extension": ".py",
   "mimetype": "text/x-python",
   "name": "python",
   "nbconvert_exporter": "python",
   "pygments_lexer": "ipython3",
   "version": "3.6.4"
  }
 },
 "nbformat": 4,
 "nbformat_minor": 2
}
