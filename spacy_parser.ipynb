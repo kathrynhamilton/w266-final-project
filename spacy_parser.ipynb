{
 "cells": [
  {
   "cell_type": "code",
   "execution_count": 1,
   "metadata": {},
   "outputs": [],
   "source": [
    "import spacy\n",
    "import explacy # simple parser visualization\n",
    "import pandas as pd\n",
    "import glob\n",
    "from importlib import reload"
   ]
  },
  {
   "cell_type": "code",
   "execution_count": 2,
   "metadata": {},
   "outputs": [],
   "source": [
    "nlp = spacy.load('en')"
   ]
  },
  {
   "cell_type": "code",
   "execution_count": 3,
   "metadata": {},
   "outputs": [
    {
     "data": {
      "text/plain": [
       "<module 'explacy' from '/root/w266_final/explacy.py'>"
      ]
     },
     "execution_count": 3,
     "metadata": {},
     "output_type": "execute_result"
    }
   ],
   "source": [
    "reload(explacy)"
   ]
  },
  {
   "cell_type": "code",
   "execution_count": 4,
   "metadata": {},
   "outputs": [
    {
     "name": "stdout",
     "output_type": "stream",
     "text": [
      "Dep tree Token        Dep    Tag Pos  \n",
      "──────── ──────────── ────── ─── ─────\n",
      "   ┌─►   The          det    DT  DET  \n",
      "┌─►└──   salad        nsubj  NN  NOUN \n",
      "└┬┬┬──   was          ROOT   VBD VERB \n",
      " ││└─►   surprisingly advmod RB  ADV  \n",
      " │└──►   tasty        acomp  JJ  ADJ  \n",
      " └───►   .            punct  .   PUNCT\n"
     ]
    }
   ],
   "source": [
    "# suprisingly becomes child of was, but maybe this is more correct\n",
    "text = 'The salad was surprisingly tasty.'\n",
    "explacy.print_parse_info(nlp, text)"
   ]
  },
  {
   "cell_type": "code",
   "execution_count": 5,
   "metadata": {},
   "outputs": [
    {
     "name": "stdout",
     "output_type": "stream",
     "text": [
      "Dep tree Token        Dep    Tag Pos  \n",
      "──────── ──────────── ────── ─── ─────\n",
      "    ┌─►  The          det    DT  DET  \n",
      " ┌─►└──  salad        nsubj  NN  NOUN \n",
      "┌┼─────  was          ROOT   VBD VERB \n",
      "││  ┌─►  unexpectedly advmod RB  ADV  \n",
      "│└─►└──  tasty        acomp  JJ  ADJ  \n",
      "└─────►  .            punct  .   PUNCT\n"
     ]
    }
   ],
   "source": [
    "# this looks right... \n",
    "text = 'The salad was unexpectedly tasty.'\n",
    "explacy.print_parse_info(nlp, text)"
   ]
  },
  {
   "cell_type": "code",
   "execution_count": 6,
   "metadata": {},
   "outputs": [
    {
     "data": {
      "text/plain": [
       "(99999, 9)"
      ]
     },
     "execution_count": 6,
     "metadata": {},
     "output_type": "execute_result"
    }
   ],
   "source": [
    "files = sorted(glob.glob('layer1.json.[0].valid.gz'))\n",
    "df = pd.concat([pd.read_pickle(fp) for fp in files], ignore_index=True)\n",
    "df.shape"
   ]
  },
  {
   "cell_type": "code",
   "execution_count": 7,
   "metadata": {},
   "outputs": [
    {
     "data": {
      "text/plain": [
       "partition\n",
       "test      316\n",
       "train    1403\n",
       "val       297\n",
       "dtype: int64"
      ]
     },
     "execution_count": 7,
     "metadata": {},
     "output_type": "execute_result"
    }
   ],
   "source": [
    "# let's filter out epicurious recipes with less than 10 steps\n",
    "keep_columns = ['id', 'partition', \n",
    "                'collection', 'title', \n",
    "                'ingr_count', 'instr_count', \n",
    "                'ingredients', 'instructions']\n",
    "\n",
    "epicurious = df[(df.collection == 'www.epicurious.com') \n",
    "   & (df.instr_count<=10)][keep_columns].sort_values(by=['instr_count'], ascending=False)\n",
    "\n",
    "# train, val, test counts\n",
    "epicurious.groupby('partition').size()"
   ]
  },
  {
   "cell_type": "code",
   "execution_count": 8,
   "metadata": {},
   "outputs": [
    {
     "data": {
      "text/html": [
       "<div>\n",
       "<style scoped>\n",
       "    .dataframe tbody tr th:only-of-type {\n",
       "        vertical-align: middle;\n",
       "    }\n",
       "\n",
       "    .dataframe tbody tr th {\n",
       "        vertical-align: top;\n",
       "    }\n",
       "\n",
       "    .dataframe thead th {\n",
       "        text-align: right;\n",
       "    }\n",
       "</style>\n",
       "<table border=\"1\" class=\"dataframe\">\n",
       "  <thead>\n",
       "    <tr style=\"text-align: right;\">\n",
       "      <th></th>\n",
       "      <th>id</th>\n",
       "      <th>partition</th>\n",
       "      <th>collection</th>\n",
       "      <th>title</th>\n",
       "      <th>ingr_count</th>\n",
       "      <th>instr_count</th>\n",
       "      <th>ingredients</th>\n",
       "      <th>instructions</th>\n",
       "    </tr>\n",
       "  </thead>\n",
       "  <tbody>\n",
       "    <tr>\n",
       "      <th>37223</th>\n",
       "      <td>093de97d8c</td>\n",
       "      <td>train</td>\n",
       "      <td>www.epicurious.com</td>\n",
       "      <td>Poached Eggs over Vegetables</td>\n",
       "      <td>1</td>\n",
       "      <td>8</td>\n",
       "      <td>[{'text': '4 eggs'}]</td>\n",
       "      <td>[{'text': 'Use a nonstick frying pan that will...</td>\n",
       "    </tr>\n",
       "    <tr>\n",
       "      <th>21658</th>\n",
       "      <td>055df8d631</td>\n",
       "      <td>test</td>\n",
       "      <td>www.epicurious.com</td>\n",
       "      <td>Garlic Broth with Sage and Parsley</td>\n",
       "      <td>1</td>\n",
       "      <td>7</td>\n",
       "      <td>[{'text': '2 to 3 teaspoons sliced green garli...</td>\n",
       "      <td>[{'text': 'Peel and slice fresh garlic: 2 to 3...</td>\n",
       "    </tr>\n",
       "    <tr>\n",
       "      <th>68730</th>\n",
       "      <td>1116160ea1</td>\n",
       "      <td>train</td>\n",
       "      <td>www.epicurious.com</td>\n",
       "      <td>Clarified Butter</td>\n",
       "      <td>1</td>\n",
       "      <td>6</td>\n",
       "      <td>[{'text': '2 cups (4 sticks) unsalted butter, ...</td>\n",
       "      <td>[{'text': 'Place butter pieces in 4-cup glass ...</td>\n",
       "    </tr>\n",
       "    <tr>\n",
       "      <th>99103</th>\n",
       "      <td>188fbfe409</td>\n",
       "      <td>test</td>\n",
       "      <td>www.epicurious.com</td>\n",
       "      <td>Corned Beef</td>\n",
       "      <td>1</td>\n",
       "      <td>6</td>\n",
       "      <td>[{'text': '3- to 4-pound corned beef brisket'}]</td>\n",
       "      <td>[{'text': 'In a kettle combine beef with cold ...</td>\n",
       "    </tr>\n",
       "    <tr>\n",
       "      <th>96647</th>\n",
       "      <td>17f419f514</td>\n",
       "      <td>train</td>\n",
       "      <td>www.epicurious.com</td>\n",
       "      <td>Grilled Corn on the Cob</td>\n",
       "      <td>1</td>\n",
       "      <td>5</td>\n",
       "      <td>[{'text': '8 ears corn in husks, outer layer o...</td>\n",
       "      <td>[{'text': 'Prepare grill.'}, {'text': 'Peel ba...</td>\n",
       "    </tr>\n",
       "  </tbody>\n",
       "</table>\n",
       "</div>"
      ],
      "text/plain": [
       "               id partition          collection  \\\n",
       "37223  093de97d8c     train  www.epicurious.com   \n",
       "21658  055df8d631      test  www.epicurious.com   \n",
       "68730  1116160ea1     train  www.epicurious.com   \n",
       "99103  188fbfe409      test  www.epicurious.com   \n",
       "96647  17f419f514     train  www.epicurious.com   \n",
       "\n",
       "                                    title  ingr_count  instr_count  \\\n",
       "37223        Poached Eggs over Vegetables           1            8   \n",
       "21658  Garlic Broth with Sage and Parsley           1            7   \n",
       "68730                    Clarified Butter           1            6   \n",
       "99103                         Corned Beef           1            6   \n",
       "96647             Grilled Corn on the Cob           1            5   \n",
       "\n",
       "                                             ingredients  \\\n",
       "37223                               [{'text': '4 eggs'}]   \n",
       "21658  [{'text': '2 to 3 teaspoons sliced green garli...   \n",
       "68730  [{'text': '2 cups (4 sticks) unsalted butter, ...   \n",
       "99103    [{'text': '3- to 4-pound corned beef brisket'}]   \n",
       "96647  [{'text': '8 ears corn in husks, outer layer o...   \n",
       "\n",
       "                                            instructions  \n",
       "37223  [{'text': 'Use a nonstick frying pan that will...  \n",
       "21658  [{'text': 'Peel and slice fresh garlic: 2 to 3...  \n",
       "68730  [{'text': 'Place butter pieces in 4-cup glass ...  \n",
       "99103  [{'text': 'In a kettle combine beef with cold ...  \n",
       "96647  [{'text': 'Prepare grill.'}, {'text': 'Peel ba...  "
      ]
     },
     "execution_count": 8,
     "metadata": {},
     "output_type": "execute_result"
    }
   ],
   "source": [
    "epicurious[(epicurious.ingr_count==1)].head()"
   ]
  },
  {
   "cell_type": "code",
   "execution_count": 9,
   "metadata": {},
   "outputs": [
    {
     "name": "stdout",
     "output_type": "stream",
     "text": [
      "Peel and slice fresh garlic: 2 to 3 teaspoons sliced green garlic, or 1 or 2 sliced cloves per cup of broth.\n",
      "Bring some light chicken broth to a boil with a few leaves of fresh sage.\n",
      "Once it comes to a boil use a skimmer to remove the sage leaves (if the sage cooks too long, the broth will become bitter and dark).\n",
      "Add the garlic to the broth along with salt to taste.\n",
      "Cook for about 5 minutes.\n",
      "Drizzle olive oil over a toasted slice of day-old bread, put it in a bowl, ladle soup over the bread, add a pinch of coarsely chopped parsley, and serve.\n",
      "For a heartier soup, poach an egg in the broth and serve it on top of the bread.\n"
     ]
    }
   ],
   "source": [
    "for each in epicurious['instructions'][21658]:\n",
    "    print(list(each.values())[0])"
   ]
  },
  {
   "cell_type": "code",
   "execution_count": 10,
   "metadata": {},
   "outputs": [
    {
     "name": "stdout",
     "output_type": "stream",
     "text": [
      "Dep tree                  Token     Dep      Tag Pos  \n",
      "───────────────────────── ───────── ──────── ─── ─────\n",
      "┌┬─────────────┬┬─────┬── Peel      ROOT     NN  NOUN \n",
      "││             ││     └─► and       cc       CC  CCONJ\n",
      "││             │└─►┌───── slice     conj     VB  VERB \n",
      "││             │   │  ┌─► fresh     amod     JJ  ADJ  \n",
      "││             │   └─►└── garlic    dobj     NN  NOUN \n",
      "││             └────────► :         punct    :   PUNCT\n",
      "││                   ┌──► 2         quantmod CD  NUM  \n",
      "││                   │┌─► to        quantmod IN  ADP  \n",
      "││                ┌─►└┴── 3         nummod   CD  NUM  \n",
      "│└─►┌─────────────┴────── teaspoons appos    NNS NOUN \n",
      "│   └─►┌───────────────── sliced    acl      VBN VERB \n",
      "│      │              ┌─► green     amod     JJ  ADJ  \n",
      "│      └─►┌───────┬──┬┼── garlic    dobj     NN  NOUN \n",
      "│         │       │  │└─► ,         punct    ,   PUNCT\n",
      "│         │       │  └──► or        cc       CC  CCONJ\n",
      "│         │       └─►┌┬── 1         conj     CD  NUM  \n",
      "│         │          │└─► or        cc       CC  CCONJ\n",
      "│         │          └──► 2         conj     CD  NUM  \n",
      "│         │           ┌─► sliced    amod     JJ  ADJ  \n",
      "│         └─►┌────────┴── cloves    conj     NNS NOUN \n",
      "│            └─►┌──────── per       prep     IN  ADP  \n",
      "│               └─►┌───── cup       pobj     NN  NOUN \n",
      "│                  └─►┌── of        prep     IN  ADP  \n",
      "│                     └─► broth     pobj     NN  NOUN \n",
      "└───────────────────────► .         punct    .   PUNCT\n",
      "Dep tree         Token   Dep      Tag Pos  \n",
      "──────────────── ─────── ──────── ─── ─────\n",
      "┌┬─────┬┬─────── Bring   ROOT     VB  VERB \n",
      "││     ││  ┌───► some    det      DT  DET  \n",
      "││     ││  │┌──► light   amod     JJ  ADJ  \n",
      "││     ││  ││┌─► chicken compound NN  NOUN \n",
      "││     │└─►└┴┴── broth   dobj     NN  NOUN \n",
      "││     └─►┌───── to      prep     IN  ADP  \n",
      "││        │  ┌─► a       det      DT  DET  \n",
      "││        └─►└── boil    pobj     NN  NOUN \n",
      "│└─►┌─────────── with    prep     IN  ADP  \n",
      "│   │        ┌─► a       quantmod DT  DET  \n",
      "│   │     ┌─►└── few     amod     JJ  ADJ  \n",
      "│   └─►┌──┴───── leaves  pobj     NNS NOUN \n",
      "│      └─►┌───── of      prep     IN  ADP  \n",
      "│         │  ┌─► fresh   amod     JJ  ADJ  \n",
      "│         └─►└── sage    pobj     NN  NOUN \n",
      "└──────────────► .       punct    .   PUNCT\n",
      "Dep tree         Token   Dep      Tag   Pos  \n",
      "──────────────── ─────── ──────── ───── ─────\n",
      "            ┌──► Once    mark     IN    ADP  \n",
      "            │┌─► it      nsubj    PRP   PRON \n",
      "    ┌─►┌────┴┴── comes   advcl    VBZ   VERB \n",
      "    │  └─►┌───── to      prep     IN    ADP  \n",
      "    │     │  ┌─► a       det      DT    DET  \n",
      "    │     └─►└── boil    pobj     NN    NOUN \n",
      "┌─►┌┴─────────── use     ccomp    NN    NOUN \n",
      "│  │         ┌─► a       det      DT    DET  \n",
      "│  └─►┌──────┴── skimmer dobj     NN    NOUN \n",
      "│     │      ┌─► to      aux      TO    PART \n",
      "│     └─►┌───┴── remove  acl      VB    VERB \n",
      "│        │  ┌──► the     det      DT    DET  \n",
      "│        │  │┌─► sage    compound NN    NOUN \n",
      "│        └─►└┴── leaves  dobj     NNS   NOUN \n",
      "│ ┌────────────► (       punct    -LRB- PUNCT\n",
      "│ │   ┌────────► if      mark     IN    ADP  \n",
      "│ │   │      ┌─► the     det      DT    DET  \n",
      "│ │   │   ┌─►└── sage    nsubj    NN    NOUN \n",
      "│ │   │┌─►└───── cooks   nsubj    NNS   NOUN \n",
      "│ │   ││     ┌─► too     advmod   RB    ADV  \n",
      "│ │┌─►└┴─────┴── long    advcl    RB    ADV  \n",
      "│ ││     ┌─────► ,       punct    ,     PUNCT\n",
      "│ ││     │   ┌─► the     det      DT    DET  \n",
      "│ ││     │┌─►└── broth   nsubj    NN    NOUN \n",
      "│ ││     ││  ┌─► will    aux      MD    VERB \n",
      "└─┴┴───┬┬┼┴──┴── become  ROOT     VB    VERB \n",
      "       ││└─►┌┬── bitter  acomp    JJ    ADJ  \n",
      "       ││   │└─► and     cc       CC    CCONJ\n",
      "       ││   └──► dark    conj     JJ    ADJ  \n",
      "       │└──────► )       punct    -RRB- PUNCT\n",
      "       └───────► .       punct    .     PUNCT\n",
      "Dep tree          Token  Dep   Tag Pos  \n",
      "───────────────── ────── ───── ─── ─────\n",
      "┌┬┬────────┬───── Add    ROOT  VB  VERB \n",
      "│││        │  ┌─► the    det   DT  DET  \n",
      "│││        └─►└── garlic dobj  NN  NOUN \n",
      "││└─►┌─────────── to     prep  IN  ADP  \n",
      "││   │        ┌─► the    det   DT  DET  \n",
      "││   └─►┌─────┴── broth  pobj  NN  NOUN \n",
      "││      └─►┌───── along  prep  IN  ADP  \n",
      "││         └─►┌── with   prep  IN  ADP  \n",
      "││            └─► salt   pobj  NN  NOUN \n",
      "│└───────────►┌── to     prep  TO  PART \n",
      "│             └─► taste  pobj  VB  VERB \n",
      "└───────────────► .      punct .   PUNCT\n",
      "Dep tree      Token   Dep    Tag Pos  \n",
      "───────────── ─────── ────── ─── ─────\n",
      "┌┬─────────── Cook    ROOT   VB  VERB \n",
      "│└─►┌──────── for     prep   IN  ADP  \n",
      "│   │     ┌─► about   advmod RB  ADV  \n",
      "│   │  ┌─►└── 5       nummod CD  NUM  \n",
      "│   └─►└───── minutes pobj   NNS NOUN \n",
      "└───────────► .       punct  .   PUNCT\n",
      "Dep tree               Token    Dep      Tag  Pos  \n",
      "────────────────────── ──────── ──────── ──── ─────\n",
      "                  ┌──► Drizzle  amod     NN   NOUN \n",
      "                  │┌─► olive    amod     NN   NOUN \n",
      "┌─►┌──────────────┴┴── oil      nsubj    NN   NOUN \n",
      "│  └─►┌─────────────── over     prep     IN   ADP  \n",
      "│     │           ┌──► a        det      DT   DET  \n",
      "│     │           │┌─► toasted  amod     JJ   ADJ  \n",
      "│     └─►┌────────┴┴── slice    pobj     NN   NOUN \n",
      "│        └─►┌───────── of       prep     IN   ADP  \n",
      "│           │     ┌──► day      npadvmod NN   NOUN \n",
      "│           │     │┌─► -        punct    HYPH PUNCT\n",
      "│           │  ┌─►└┴── old      amod     JJ   ADJ  \n",
      "│           └─►└────── bread    pobj     NN   NOUN \n",
      "│                  ┌─► ,        punct    ,    PUNCT\n",
      "├┬────────┬┬┬┬─────┼── put      ROOT     VBD  VERB \n",
      "││        ││││     └─► it       dobj     PRP  PRON \n",
      "││        │││└─►┌───── in       prep     IN   ADP  \n",
      "││        │││   │  ┌─► a        det      DT   DET  \n",
      "││        │││   └─►├── bowl     pobj     NN   NOUN \n",
      "││        │││      └─► ,        punct    ,    PUNCT\n",
      "││        │││      ┌─► ladle    amod     NN   NOUN \n",
      "││        ││└─────►└── soup     dobj     NN   NOUN \n",
      "││        │└───►┌───── over     prep     IN   ADP  \n",
      "││        │     │  ┌─► the      det      DT   DET  \n",
      "││        │     └─►└── bread    pobj     NN   NOUN \n",
      "││        └──────────► ,        punct    ,    PUNCT\n",
      "│└─►┌┬┬┬────────────── add      conj     VB   VERB \n",
      "│   ││││           ┌─► a        det      DT   DET  \n",
      "│   │││└─►┌────────┴── pinch    dobj     NN   NOUN \n",
      "│   │││   └─►┌──────── of       prep     IN   ADP  \n",
      "│   │││      │     ┌─► coarsely advmod   RB   ADV  \n",
      "│   │││      │  ┌─►└── chopped  amod     VBN  VERB \n",
      "│   │││      └─►└───── parsley  pobj     NN   NOUN \n",
      "│   ││└──────────────► ,        punct    ,    PUNCT\n",
      "│   │└───────────────► and      cc       CC   CCONJ\n",
      "│   └────────────────► serve    conj     VB   VERB \n",
      "└────────────────────► .        punct    .    PUNCT\n",
      "Dep tree            Token    Dep      Tag Pos  \n",
      "─────────────────── ──────── ──────── ─── ─────\n",
      "         ┌─►┌────── For      prep     IN  ADP  \n",
      "         │  │  ┌──► a        det      DT  DET  \n",
      "         │  │  │┌─► heartier compound NN  NOUN \n",
      "         │  └─►└┴── soup     pobj     NN  NOUN \n",
      "         │      ┌─► ,        punct    ,   PUNCT\n",
      "┌┬───────┼┬──┬──┴── poach    ROOT     VB  VERB \n",
      "││       ││  │  ┌─► an       det      DT  DET  \n",
      "││       ││  └─►└── egg      dobj     NN  NOUN \n",
      "││       │└─►┌───── in       prep     IN  ADP  \n",
      "││       │   │  ┌─► the      det      DT  DET  \n",
      "││       │   └─►└── broth    pobj     NN  NOUN \n",
      "││       └────────► and      cc       CC  CCONJ\n",
      "│└─►┌───────────┬── serve    conj     VB  VERB \n",
      "│   │           └─► it       dobj     PRP PRON \n",
      "│   └─►┌─────────── on       prep     IN  ADP  \n",
      "│      └─►┌──────── top      pobj     NN  NOUN \n",
      "│         └─►┌───── of       prep     IN  ADP  \n",
      "│            │  ┌─► the      det      DT  DET  \n",
      "│            └─►└── bread    pobj     NN  NOUN \n",
      "└─────────────────► .        punct    .   PUNCT\n"
     ]
    }
   ],
   "source": [
    "# spaCy parameters under Token:\n",
    "# Text: The original word text.\n",
    "# Lemma: The base form of the word.\n",
    "# POS: The simple part-of-speech tag.\n",
    "# Tag: The detailed part-of-speech tag.\n",
    "# Dep: Syntactic dependency, i.e. the relation between tokens.\n",
    "# Shape: The word shape – capitalisation, punctuation, digits.\n",
    "# is alpha: Is the token an alpha character?\n",
    "# is stop: Is the token part of a stop list, i.e. the most common words of the language?\n",
    "\n",
    "for each in epicurious['instructions'][21658]:\n",
    "    instruction = list(each.values())[0]\n",
    "    # print parser tree for each step\n",
    "    explacy.print_parse_info(nlp, instruction)"
   ]
  }
 ],
 "metadata": {
  "kernelspec": {
   "display_name": "Python 3",
   "language": "python",
   "name": "python3"
  },
  "language_info": {
   "codemirror_mode": {
    "name": "ipython",
    "version": 3
   },
   "file_extension": ".py",
   "mimetype": "text/x-python",
   "name": "python",
   "nbconvert_exporter": "python",
   "pygments_lexer": "ipython3",
   "version": "3.6.4"
  }
 },
 "nbformat": 4,
 "nbformat_minor": 2
}
