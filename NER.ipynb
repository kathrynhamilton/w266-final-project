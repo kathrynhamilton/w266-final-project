{
 "cells": [
  {
   "cell_type": "code",
   "execution_count": 1,
   "metadata": {},
   "outputs": [],
   "source": [
    "import spacy\n",
    "from spacy import displacy\n",
    "from spacy_lookup import Entity # use for dict NER\n",
    "import pandas as pd\n",
    "import glob\n",
    "from importlib import reload"
   ]
  },
  {
   "cell_type": "markdown",
   "metadata": {},
   "source": [
    "#### Ingredients"
   ]
  },
  {
   "cell_type": "code",
   "execution_count": 2,
   "metadata": {},
   "outputs": [],
   "source": [
    "diary = ['butter','buttermilk','butterfat','casein','cheese','cream','creamer',\n",
    "         'creme','curd','custard','dairy','dulce','egg','eggnog','gelato',\n",
    "         'ghee','ice cream','kefir','milk','paneer','soft serve','sour cream',\n",
    "         'whey','whey protein','whipped cream','whites','yogurt','yolks',\n",
    "         'mayonnaise','mayo']\n",
    "\n",
    "fruits = ['acai','apple','apples','apricot','apricots','banana','bananas',\n",
    "          'berries','berry','blackberries','blackberry','blackcurrant',\n",
    "          'blueberries','blueberry','cantaloupe','cherries','cherry',\n",
    "          'clementine','clementines','coconut','coconuts','cranberries',\n",
    "          'cranberry','currant','currants','date','dates','dragonfruit',\n",
    "          'fig','figs','fruit','fruits','grape','grapefruit','grapes','guava',\n",
    "          'honeydew','kiwi','kiwis','lemon','lemons','lime','limes','lychee',\n",
    "          'mandarine','mandarines','mango','mangos','melon','melons',\n",
    "          'nectarine','nectarines','olive','olives','orange','oranges',\n",
    "          'papaya','papayas','passionfruit','peach','peaches','pear','pears',\n",
    "          'pineapple','plum','plums','pomegranate','pomelo','pomelos','prune',\n",
    "          'prunes','raisin','raisins','raspberries','raspberry','strawberries',\n",
    "          'strawberry','tangerine','tangerines','watermelon']\n",
    "\n",
    "grains = ['angel hair','baking powder','baking soda','barley','bread',\n",
    "          'buckwheat','bulgur','bun','buns','campanelle','cappelletti',\n",
    "          'cereal','cornmeal','couscous','crackers','dough','fettuccine',\n",
    "          'flaxseed','flour','fusilli','grain','grano','grits','lasagna',\n",
    "          'lasagne','linguine','loaf','macaroni','manicotti','millet','muesli',\n",
    "          'muffins','muffins','noodle','noodles','oatmeal','oats','orzo',\n",
    "          'pappardelle','pasta','penne','pita','popcorn','pretzel','pretzels',\n",
    "          'quinoa','ravioli','rice','rigate','rigatoni','rocchetti','rolls',\n",
    "          'rotini','rye','seitan','shells','spaghetti','spelt','tortellini',\n",
    "          'tortilla','tortillas','vermicelli','yeast']\n",
    "\n",
    "protein = ['abalone','anchovy','arctic char','bacon','barracuda','barramundi',\n",
    "        'bass','bear','beef','beef heart','beef liver','beef tongue','bib',\n",
    "        'bison','black drum','bluefish','bluenose','bone','breast','brisket',\n",
    "        'buffalo','bullhead','butterfish','calf liver','calimari','capelin',\n",
    "        'caribou','carp','catfish','caviar','char','chicken','chicken liver',\n",
    "        'chilean seabass','chub','chuck','clam','cobia','cockle','cod','coho',\n",
    "        'coley','conch','cornish game hen','corvina','crab','crab brown',\n",
    "        'crawfish','crayfish','croaker','cusk','cuttle fish','dab','drum',\n",
    "        'duck','duck liver','eel','emu','escargot','escolar','filet','fish',\n",
    "        'flank','flounder','frog','gilthead','gizzards','goat','goose',\n",
    "        'goose liver','greater amberjack','grenadier','grouper','grouse',\n",
    "        'guinea hen','haddock','hake','halfmoon fish','halibut','ham',\n",
    "        'harvest fish','herring','horse','imitation crab','jellyfish',\n",
    "        'kangaroo','lamb','limpet slipper','lingcod','liver','lobster','loin',\n",
    "        'mackerel','mahi-mahi','manila','marlin','marrow soup','meat',\n",
    "        'monkfish','moose','mullet','muskellunge','mussel','mussels','mutton',\n",
    "        'ocean pout','octopus','opah','opaleye','opossum','orange roughy',\n",
    "        'organ meats','organs','ostrich','oyster','pangasius','parrotfish',\n",
    "        'partridge','perch','pheasant','pickerel','pike','pilchards','plaice',\n",
    "        'pollock','pollock, atlantic','pomfret','pompano','porgy','pork',\n",
    "        'poultry','pouting','prawn','protein','pumpkinseed','quail','rabbit',\n",
    "        'red snapper','rib','rockfish','rosefish','round','sablefish','salmon',\n",
    "        'sanddabs','sardine','scad','scallops','scrod','scup','sea beam',\n",
    "        'sea turtle','sea urchin','seabass','seafood','seatrout','shad',\n",
    "        'shank','shark','sheepshead','shrimp','sirloin','skate','snail',\n",
    "        'snake','sockeye','sole','spearfish','squab','squid','squirrel',\n",
    "        'striped bass','sturgeon','sucker','sunfish','swai','sweetbreads',\n",
    "        'swordfish','tatoaba','tenderloin','thigh','tilapia','tilefish',\n",
    "        'tripe','trout','tuna','turbot','turkey','turtle','veal','venison',\n",
    "        'wahoo','walleye','weakfish','whitefish','whiting','wing','wolfish',\n",
    "        'wreckfish','yellowtail'] \n",
    "\n",
    "vegetables = ['artichoke','arugula','asparagus','avocado','bean','bean sprouts',\n",
    "              'beans','beet','beetroot','beets','bell pepper','bell peppers',\n",
    "              'bok choy','broccoli','brussels sprouts','butter beans',\n",
    "              'butternut squash','cabbage','carrot','cauliflower','ceci beans',\n",
    "              'celeriac','celery','chamomile','chard','chickpea','chickpeas',\n",
    "              'chilis','collard greens','corn','cucumber','cucumbers','dill',\n",
    "              'eggplant','fennel','garlic','greens','kale','leek','leeks',\n",
    "              'legumes','lentils','lettuce','mushroom','mushrooms','onion',\n",
    "              'peas','peppers','potato','potatoes','pumpkin','radicchio',\n",
    "              'radish','radishes','scallion','scallions','shallot','shallots',\n",
    "              'snap peas','spinach','sprouts','squash','tomato','tomatoes',\n",
    "              'turnips','vegetable','yam','zucchini',] \n",
    "\n",
    "other = ['acorn','aioli','allspice','almond','almonds','anise','balm','basil',\n",
    "         'bean','beans','bourbon','broth','capers','capsicum','cardamom',\n",
    "         'cashew','cashews','chestnuts','chia','chicory','chimichurri','chives',\n",
    "         'chocolate','chutney','cilantro','cinnamon','clove','cloves',\n",
    "         'condiment','condiments','coriander','cumin','dijon','dill','dip',\n",
    "         'dressing','drizzle','fats','flower','frosting','gin','ginger',\n",
    "         'grease','guacamole','gum','habanero','hazelnut','herb','herbs',\n",
    "         'hoisin','honey','horseradish','hummus','jalapeno','jam','jasmine',\n",
    "         'jelly','ketchup','lard','lavender','leaf','lemongrass','licorice',\n",
    "         'margarine','marigold','marmite','mayo','mint','miso',\n",
    "         'mix','mole','mustard','myrtle','nut','nutella','nutmeg','nuts','oil',\n",
    "         'oils','oregano','paprika','parsley','peanut','peanuts','pecan',\n",
    "         'pecans','pepper','peppermint','pesto','pickle','pickles',\n",
    "         'pico de gallo','pistachio','pistachios','poppy','powder','preserves',\n",
    "         'reduction','relish','root','rosemary','rum','safflower','saffron',\n",
    "         'sage','salsa','salt','sassafras','sauce','sauerkraut','seasoning',\n",
    "         'seasonings','seed','seeds','sesame','shiso','shortening','spearmint',\n",
    "         'spice','spices','spread','sriracha','sugar','sunflower','syrup',\n",
    "         'tabasco','tahini','tarragon','tartar','thyme','tomato sauce',\n",
    "         'turmeric','tzatziki','tzatzki','vanilla','vegemite','vinegar',\n",
    "         'vodka','walnut','walnuts','wasabi','water','whisky','wine',\n",
    "         'wintergreen','yeast','zest','ingredient','ingredients','lemon juice',\n",
    "         'salad'] "
   ]
  },
  {
   "cell_type": "code",
   "execution_count": 3,
   "metadata": {},
   "outputs": [
    {
     "name": "stdout",
     "output_type": "stream",
     "text": [
      "['butter', 'buttermilk', 'butterfat', 'casein', 'cheese', 'cream', 'creamer', 'creme', 'curd', 'custard', 'dairy', 'dulce', 'egg', 'eggnog', 'gelato', 'ghee', 'ice cream', 'kefir', 'milk', 'paneer', 'soft serve', 'sour cream', 'whey', 'whey protein', 'whipped cream', 'whites', 'yogurt', 'yolks', 'mayonnaise', 'mayo']\n",
      "['acai', 'apple', 'apples', 'apricot', 'apricots', 'banana', 'bananas', 'berries', 'berry', 'blackberries', 'blackberry', 'blackcurrant', 'blueberries', 'blueberry', 'cantaloupe', 'cherries', 'cherry', 'clementine', 'clementines', 'coconut', 'coconuts', 'cranberries', 'cranberry', 'currant', 'currants', 'date', 'dates', 'dragonfruit', 'fig', 'figs', 'fruit', 'fruits', 'grape', 'grapefruit', 'grapes', 'guava', 'honeydew', 'kiwi', 'kiwis', 'lemon', 'lemons', 'lime', 'limes', 'lychee', 'mandarine', 'mandarines', 'mango', 'mangos', 'melon', 'melons', 'nectarine', 'nectarines', 'olive', 'olives', 'orange', 'oranges', 'papaya', 'papayas', 'passionfruit', 'peach', 'peaches', 'pear', 'pears', 'pineapple', 'plum', 'plums', 'pomegranate', 'pomelo', 'pomelos', 'prune', 'prunes', 'raisin', 'raisins', 'raspberries', 'raspberry', 'strawberries', 'strawberry', 'tangerine', 'tangerines', 'watermelon']\n",
      "['angel hair', 'baking powder', 'baking soda', 'barley', 'bread', 'buckwheat', 'bulgur', 'bun', 'buns', 'campanelle', 'cappelletti', 'cereal', 'cornmeal', 'couscous', 'crackers', 'dough', 'fettuccine', 'flaxseed', 'flour', 'fusilli', 'grain', 'grano', 'grits', 'lasagna', 'lasagne', 'linguine', 'loaf', 'macaroni', 'manicotti', 'millet', 'muesli', 'muffins', 'muffins', 'noodle', 'noodles', 'oatmeal', 'oats', 'orzo', 'pappardelle', 'pasta', 'penne', 'pita', 'popcorn', 'pretzel', 'pretzels', 'quinoa', 'ravioli', 'rice', 'rigate', 'rigatoni', 'rocchetti', 'rolls', 'rotini', 'rye', 'seitan', 'shells', 'spaghetti', 'spelt', 'tortellini', 'tortilla', 'tortillas', 'vermicelli', 'yeast']\n",
      "['abalone', 'anchovy', 'arctic char', 'bacon', 'barracuda', 'barramundi', 'bass', 'bear', 'beef', 'beef heart', 'beef liver', 'beef tongue', 'bib', 'bison', 'black drum', 'bluefish', 'bluenose', 'bone', 'breast', 'brisket', 'buffalo', 'bullhead', 'butterfish', 'calf liver', 'calimari', 'capelin', 'caribou', 'carp', 'catfish', 'caviar', 'char', 'chicken', 'chicken liver', 'chilean seabass', 'chub', 'chuck', 'clam', 'cobia', 'cockle', 'cod', 'coho', 'coley', 'conch', 'cornish game\\xa0hen', 'corvina', 'crab', 'crab brown', 'crawfish', 'crayfish', 'croaker', 'cusk', 'cuttle fish', 'dab', 'drum', 'duck', 'duck liver', 'eel', 'emu', 'escargot', 'escolar', 'filet', 'fish', 'flank', 'flounder', 'frog', 'gilthead', 'gizzards', 'goat', 'goose', 'goose liver', 'greater amberjack', 'grenadier', 'grouper', 'grouse', 'guinea hen', 'haddock', 'hake', 'halfmoon fish', 'halibut', 'ham', 'harvest fish', 'herring', 'horse', 'imitation crab', 'jellyfish', 'kangaroo', 'lamb', 'limpet slipper', 'lingcod', 'liver', 'lobster', 'loin', 'mackerel', 'mahi-mahi', 'manila', 'marlin', 'marrow soup', 'meat', 'monkfish', 'moose', 'mullet', 'muskellunge', 'mussel', 'mussels', 'mutton', 'ocean pout', 'octopus', 'opah', 'opaleye', 'opossum', 'orange roughy', 'organ meats', 'organs', 'ostrich', 'oyster', 'pangasius', 'parrotfish', 'partridge', 'perch', 'pheasant', 'pickerel', 'pike', 'pilchards', 'plaice', 'pollock', 'pollock, atlantic', 'pomfret', 'pompano', 'porgy', 'pork', 'poultry', 'pouting', 'prawn', 'protein', 'pumpkinseed', 'quail', 'rabbit', 'red snapper', 'rib', 'rockfish', 'rosefish', 'round', 'sablefish', 'salmon', 'sanddabs', 'sardine', 'scad', 'scallops', 'scrod', 'scup', 'sea beam', 'sea turtle', 'sea urchin', 'seabass', 'seafood', 'seatrout', 'shad', 'shank', 'shark', 'sheepshead', 'shrimp', 'sirloin', 'skate', 'snail', 'snake', 'sockeye', 'sole', 'spearfish', 'squab', 'squid', 'squirrel', 'striped bass', 'sturgeon', 'sucker', 'sunfish', 'swai', 'sweetbreads', 'swordfish', 'tatoaba', 'tenderloin', 'thigh', 'tilapia', 'tilefish', 'tripe', 'trout', 'tuna', 'turbot', 'turkey', 'turtle', 'veal', 'venison', 'wahoo', 'walleye', 'weakfish', 'whitefish', 'whiting', 'wing', 'wolfish', 'wreckfish', 'yellowtail']\n",
      "['artichoke', 'arugula', 'asparagus', 'avocado', 'bean', 'bean sprouts', 'beans', 'beet', 'beetroot', 'beets', 'bell pepper', 'bell peppers', 'bok choy', 'broccoli', 'brussels sprouts', 'butter beans', 'butternut squash', 'cabbage', 'carrot', 'cauliflower', 'ceci beans', 'celeriac', 'celery', 'chamomile', 'chard', 'chickpea', 'chickpeas', 'chilis', 'collard greens', 'corn', 'cucumber', 'cucumbers', 'dill', 'eggplant', 'fennel', 'garlic', 'greens', 'kale', 'leek', 'leeks', 'legumes', 'lentils', 'lettuce', 'mushroom', 'mushrooms', 'onion', 'peas', 'peppers', 'potato', 'potatoes', 'pumpkin', 'radicchio', 'radish', 'radishes', 'scallion', 'scallions', 'shallot', 'shallots', 'snap peas', 'spinach', 'sprouts', 'squash', 'tomato', 'tomatoes', 'turnips', 'vegetable', 'yam', 'zucchini']\n",
      "['acorn', 'aioli', 'allspice', 'almond', 'almonds', 'anise', 'balm', 'basil', 'bean', 'beans', 'bourbon', 'broth', 'capers', 'capsicum', 'cardamom', 'cashew', 'cashews', 'chestnuts', 'chia', 'chicory', 'chimichurri', 'chives', 'chocolate', 'chutney', 'cilantro', 'cinnamon', 'clove', 'cloves', 'condiment', 'condiments', 'coriander', 'cumin', 'dijon', 'dill', 'dip', 'dressing', 'drizzle', 'fats', 'flower', 'frosting', 'gin', 'ginger', 'grease', 'guacamole', 'gum', 'habanero', 'hazelnut', 'herb', 'herbs', 'hoisin', 'honey', 'horseradish', 'hummus', 'jalapeno', 'jam', 'jasmine', 'jelly', 'ketchup', 'lard', 'lavender', 'leaf', 'lemongrass', 'licorice', 'margarine', 'marigold', 'marmite', 'mayo', 'mint', 'miso', 'mix', 'mole', 'mustard', 'myrtle', 'nut', 'nutella', 'nutmeg', 'nuts', 'oil', 'oils', 'oregano', 'paprika', 'parsley', 'peanut', 'peanuts', 'pecan', 'pecans', 'pepper', 'peppermint', 'pesto', 'pickle', 'pickles', 'pico de gallo', 'pistachio', 'pistachios', 'poppy', 'powder', 'preserves', 'reduction', 'relish', 'root', 'rosemary', 'rum', 'safflower', 'saffron', 'sage', 'salsa', 'salt', 'sassafras', 'sauce', 'sauerkraut', 'seasoning', 'seasonings', 'seed', 'seeds', 'sesame', 'shiso', 'shortening', 'spearmint', 'spice', 'spices', 'spread', 'sriracha', 'sugar', 'sunflower', 'syrup', 'tabasco', 'tahini', 'tarragon', 'tartar', 'thyme', 'tomato sauce', 'turmeric', 'tzatziki', 'tzatzki', 'vanilla', 'vegemite', 'vinegar', 'vodka', 'walnut', 'walnuts', 'wasabi', 'water', 'whisky', 'wine', 'wintergreen', 'yeast', 'zest', 'ingredient', 'ingredients', 'lemon juice', 'salad']\n"
     ]
    }
   ],
   "source": [
    "print((diary))\n",
    "print((fruits))\n",
    "print((grains))\n",
    "print((protein))\n",
    "print((vegetables))\n",
    "print((other))"
   ]
  },
  {
   "cell_type": "markdown",
   "metadata": {},
   "source": [
    "#### Tools"
   ]
  },
  {
   "cell_type": "code",
   "execution_count": 4,
   "metadata": {},
   "outputs": [],
   "source": [
    "# Preparation Tools & Essentials\n",
    "pte = [\"Chef's Knife\",\n",
    "'Chef Knife',       \n",
    "'Cutting Board',\n",
    "'Can Opener',\n",
    "'Measuring Cups',\n",
    "'Measuring Spoons',\n",
    "'Mixing Bowls',\n",
    "'Colander',\n",
    "'Vegetable Peeler',\n",
    "'Potato Masher',\n",
    "'Whisk',\n",
    "'Salad Spinner',\n",
    "'Grater',\n",
    "'Shears',\n",
    "'Citrus Juicer',\n",
    "'Garlic Press',\n",
    "'Paring Knife',\n",
    "'Bread Knife',\n",
    "'Honing Ceramic Rod',\n",
    "'Sharpening Ceramic Rod',\n",
    "'Knife Sharpener']\n",
    "\n",
    "# Cookware & Bakeware\n",
    "cbware = ['Stainless Steel Skillet',\n",
    "'Sauté Pan',\n",
    "'Small Saucepan',\n",
    "'Medium Saucepan',\n",
    "'Large Pot',\n",
    "'Cast Iron Skillet',\n",
    "'Grill Pan',\n",
    "'Baking Sheet Pan',\n",
    "'Casserole Dish',\n",
    "'Broiler Pan',\n",
    "'Stockpot']\n",
    "\n",
    "# Cooking Tools & Kitchen Utensils\n",
    "ctku = ['Spatula',\n",
    "'Stirring Spoon',\n",
    "'Tongs',\n",
    "'Ladle',\n",
    "'Oven Mitts',\n",
    "'Trivet',\n",
    "'Splatter Guard',\n",
    "'Thermometer']\n",
    "\n",
    "# Appliances\n",
    "appliances = ['Immersion Blender',\n",
    "             'Kitchen Scale',\n",
    "             'Blender']\n",
    "\n",
    "# Kitchen essentials\n",
    "ke = ['Food Storage Containers',\n",
    "'Aluminum Foil',\n",
    "'Parchment Paper',\n",
    "'Towels',\n",
    "'Sponges',\n",
    "'Heavy Sponges',\n",
    "'Dish Rack',\n",
    "'Ice Cube Tray',\n",
    "'Trash Bags',\n",
    "'Trash Bin']"
   ]
  },
  {
   "cell_type": "code",
   "execution_count": 5,
   "metadata": {},
   "outputs": [
    {
     "name": "stdout",
     "output_type": "stream",
     "text": [
      "[\"Chef's Knife\", 'Chef Knife', 'Cutting Board', 'Can Opener', 'Measuring Cups', 'Measuring Spoons', 'Mixing Bowls', 'Colander', 'Vegetable Peeler', 'Potato Masher', 'Whisk', 'Salad Spinner', 'Grater', 'Shears', 'Citrus Juicer', 'Garlic Press', 'Paring Knife', 'Bread Knife', 'Honing Ceramic Rod', 'Sharpening Ceramic Rod', 'Knife Sharpener']\n",
      "['Spatula', 'Stirring Spoon', 'Tongs', 'Ladle', 'Oven Mitts', 'Trivet', 'Splatter Guard', 'Thermometer']\n",
      "['Immersion Blender', 'Kitchen Scale', 'Blender']\n",
      "['Food Storage Containers', 'Aluminum Foil', 'Parchment Paper', 'Towels', 'Sponges', 'Heavy Sponges', 'Dish Rack', 'Ice Cube Tray', 'Trash Bags', 'Trash Bin']\n"
     ]
    }
   ],
   "source": [
    "print(pte)\n",
    "print(ctku)\n",
    "print(appliances)\n",
    "print(ke)"
   ]
  },
  {
   "cell_type": "markdown",
   "metadata": {},
   "source": [
    "#### Actions"
   ]
  },
  {
   "cell_type": "code",
   "execution_count": 6,
   "metadata": {},
   "outputs": [],
   "source": [
    "actions = ['Arrange',\n",
    "'Baste',\n",
    "'Beat',\n",
    "'Blend',\n",
    "'Brown',\n",
    "'Build',\n",
    "'Bury',\n",
    "'Carve',\n",
    "'Check',\n",
    "'Chop',\n",
    "'Close',\n",
    "'Cool',\n",
    "'Correct',\n",
    "'Cover',\n",
    "'Crumple',\n",
    "'Cut',\n",
    "'Decorate',\n",
    "'Discard',\n",
    "'Divide',\n",
    "'Drape',\n",
    "'Drop',\n",
    "'Dry',\n",
    "'Film',\n",
    "'Fold',\n",
    "'Follow',\n",
    "'Form',\n",
    "'Force',\n",
    "'Glaze',\n",
    "'Insert',\n",
    "'Lay',\n",
    "'Leave',\n",
    "'Lift',\n",
    "'Make',\n",
    "'Melt',\n",
    "'Mince',\n",
    "'Mix',\n",
    "'Moisten',\n",
    "'Mound',\n",
    "'Open',\n",
    "'Pack',\n",
    "'Paint',\n",
    "'Pierce',\n",
    "'Pour',\n",
    "'Prepare',\n",
    "'Press',\n",
    "'Prick',\n",
    "'Pull',\n",
    "'Puree',\n",
    "'Push',\n",
    "'Quarter',\n",
    "'Raise',\n",
    "'Reduce',\n",
    "'Refresh',\n",
    "'Reheat',\n",
    "'Replace',\n",
    "'Return',\n",
    "'Ring',\n",
    "'Roast',\n",
    "'Roll',\n",
    "'Salt',\n",
    "'Saute',\n",
    "'Scatter',\n",
    "'Scoop',\n",
    "'Scrape',\n",
    "'Scrub',\n",
    "'Season',\n",
    "'Separate',\n",
    "'Set',\n",
    "'Settle',\n",
    "'Shave',\n",
    "'Simmer',\n",
    "'Skim',\n",
    "'Slice',\n",
    "'Slide',\n",
    "'Slip',\n",
    "'Slit',\n",
    "'Smear',\n",
    "'Soak',\n",
    "'Spoon',\n",
    "'Spread',\n",
    "'Sprinkle',\n",
    "'Stir',\n",
    "'Strain',\n",
    "'Strew',\n",
    "'Stuff',\n",
    "'Surround',\n",
    "'Taste',\n",
    "'Thin',\n",
    "'Tie',\n",
    "'Tilt',\n",
    "'Tip',\n",
    "'Top',\n",
    "'Toss',\n",
    "'Trim',\n",
    "'Turn',\n",
    "'Twist',\n",
    "'Warm',\n",
    "'Wilt',\n",
    "'Wind',\n",
    "'Wrap']"
   ]
  },
  {
   "cell_type": "code",
   "execution_count": 7,
   "metadata": {},
   "outputs": [
    {
     "name": "stdout",
     "output_type": "stream",
     "text": [
      "['Arrange', 'Baste', 'Beat', 'Blend', 'Brown', 'Build', 'Bury', 'Carve', 'Check', 'Chop', 'Close', 'Cool', 'Correct', 'Cover', 'Crumple', 'Cut', 'Decorate', 'Discard', 'Divide', 'Drape', 'Drop', 'Dry', 'Film', 'Fold', 'Follow', 'Form', 'Force', 'Glaze', 'Insert', 'Lay', 'Leave', 'Lift', 'Make', 'Melt', 'Mince', 'Mix', 'Moisten', 'Mound', 'Open', 'Pack', 'Paint', 'Pierce', 'Pour', 'Prepare', 'Press', 'Prick', 'Pull', 'Puree', 'Push', 'Quarter', 'Raise', 'Reduce', 'Refresh', 'Reheat', 'Replace', 'Return', 'Ring', 'Roast', 'Roll', 'Salt', 'Saute', 'Scatter', 'Scoop', 'Scrape', 'Scrub', 'Season', 'Separate', 'Set', 'Settle', 'Shave', 'Simmer', 'Skim', 'Slice', 'Slide', 'Slip', 'Slit', 'Smear', 'Soak', 'Spoon', 'Spread', 'Sprinkle', 'Stir', 'Strain', 'Strew', 'Stuff', 'Surround', 'Taste', 'Thin', 'Tie', 'Tilt', 'Tip', 'Top', 'Toss', 'Trim', 'Turn', 'Twist', 'Warm', 'Wilt', 'Wind', 'Wrap']\n"
     ]
    }
   ],
   "source": [
    "print(actions)"
   ]
  },
  {
   "cell_type": "code",
   "execution_count": 8,
   "metadata": {},
   "outputs": [],
   "source": [
    "ingredients = diary + fruits + grains + vegetables + other\n",
    "tools = pte + ctku + appliances + ke"
   ]
  },
  {
   "cell_type": "code",
   "execution_count": 9,
   "metadata": {},
   "outputs": [
    {
     "name": "stdout",
     "output_type": "stream",
     "text": [
      "('tagger', <spacy.pipeline.Tagger object at 0x7f00ee4c8518>)\n",
      "('parser', <spacy.pipeline.DependencyParser object at 0x7f00ee47d938>)\n",
      "('ner', <spacy.pipeline.EntityRecognizer object at 0x7f00ee47d990>)\n",
      "('Action', <spacy_lookup.Entity object at 0x7f00f0301128>)\n",
      "('Ingredient', <spacy_lookup.Entity object at 0x7f00f0301080>)\n",
      "('Tool', <spacy_lookup.Entity object at 0x7f00f0301198>)\n"
     ]
    }
   ],
   "source": [
    "nlp = spacy.load('en')\n",
    "\n",
    "# add ingredients tags\n",
    "# diary_e = Entity(keywords_list=diary, label='IDiary')\n",
    "# fruits_e = Entity(keywords_list=fruits, label='IFruit')\n",
    "# grains_e = Entity(keywords_list=grains, label='IGrain')\n",
    "# protein_e = Entity(keywords_list=protein, label='IProtein')\n",
    "# other_e = Entity(keywords_list=other, label='IOther')\n",
    "# vegetables_e = Entity(keywords_list=vegetables, label='IVeg')\n",
    "ingredients_e = Entity(keywords_list=ingredients, label='INGRD')\n",
    "\n",
    "# add tools tags\n",
    "# pte_e = Entity(keywords_list=pte, label='TPTE')\n",
    "# ctku_e = Entity(keywords_list=ctku, label='TCTKU')\n",
    "# appliances_e = Entity(keywords_list=appliances, label='TAPP')\n",
    "# ke_e = Entity(keywords_list=ke, label='TKE')\n",
    "tools_e = Entity(keywords_list=tools, label='TOOL')\n",
    "\n",
    "# add actions tags\n",
    "actions_e = Entity(keywords_list=actions, label='ACTION')\n",
    "\n",
    "# add to pipeline\n",
    "# nlp.add_pipe(actions_e, last=True, name=\"Action\")\n",
    "# nlp.add_pipe(diary_e, last=True, name=\"IDiary\")\n",
    "# nlp.add_pipe(fruits_e, last=True, name=\"IFruit\")\n",
    "# nlp.add_pipe(grains_e, last=True, name=\"IGrain\")\n",
    "# nlp.add_pipe(protein_e, last=True, name=\"IProtein\")\n",
    "# nlp.add_pipe(vegetables_e, last=True, name=\"IVeg\")\n",
    "# nlp.add_pipe(other_e, last=True, name=\"IOther\")\n",
    "# nlp.add_pipe(pte_e, last=True, name=\"TPte\")\n",
    "# nlp.add_pipe(ctku_e, last=True, name=\"TCtku\")\n",
    "# nlp.add_pipe(appliances_e, last=True, name=\"TApp\")\n",
    "# nlp.add_pipe(ke_e, last=True, name=\"TKe\")\n",
    "nlp.add_pipe(actions_e, last=True, name=\"Action\")\n",
    "nlp.add_pipe(ingredients_e, last=True, name=\"Ingredient\")\n",
    "nlp.add_pipe(tools_e, last=True, name=\"Tool\")\n",
    "\n",
    "\n",
    "for name in nlp.pipeline:\n",
    "    print(name)"
   ]
  },
  {
   "cell_type": "code",
   "execution_count": null,
   "metadata": {},
   "outputs": [],
   "source": [
    "# example sentence to do NER\n",
    "# doc = nlp(u\"Spoon out the meat from the papaya and add them to the mixing bowls.\")\n",
    "\n",
    "# displacy.render(doc, style='ent', jupyter=True)"
   ]
  },
  {
   "cell_type": "code",
   "execution_count": null,
   "metadata": {},
   "outputs": [],
   "source": [
    "# for i in range(len(doc.ents)):\n",
    "#     if doc.ents[i].label_ not in exclude_these:\n",
    "#         print(doc.ents[i], doc.ents[i].start_char, doc.ents[i].end_char, doc.ents[i].label_)"
   ]
  },
  {
   "cell_type": "code",
   "execution_count": null,
   "metadata": {},
   "outputs": [],
   "source": [
    "# {\"text\": \"Spoon out the meat from the papaya and add them to the mixing bowls.\", \n",
    "#  \"spans\": [\n",
    "#      {\"start\": 0, \"end\": 5, \"label\": \"NAME\"}\n",
    "#      {\"start\": 14, \"end\": 18 , \"label\": \"NAME\"}\n",
    "#      {\"start\": 28, \"end\": 34, \"label\": \"NAME\"}\n",
    "#      {\"start\": 55, \"end\": 67, \"label\": \"NAME\"}\n",
    "#  ]}\n",
    "\n",
    "#path to folders\n",
    "#save_dir = \"./save/\"\n",
    "\n",
    "#create jsonl file for prodigy:\n",
    "# jsonl = open(\"test2.jsonl\", \"w\")\n",
    "# line = {}\n",
    "# line['text'] = doc.text\n",
    "\n",
    "# entities = []\n",
    "# for i in range(len(doc.ents)):\n",
    "    \n",
    "#     entities.append({\"start\" : doc.ents[i].start_char,\n",
    "#                      \"end\" : doc.ents[i].end_char,\n",
    "#                      'label': doc.ents[i].label_ \n",
    "#                     })\n",
    "# line['spans'] = entities\n",
    "# jsonl.writelines(json.dumps(line) + \"\\n\")\n",
    "# jsonl.close()"
   ]
  },
  {
   "cell_type": "code",
   "execution_count": 10,
   "metadata": {},
   "outputs": [
    {
     "data": {
      "text/plain": [
       "(99999, 9)"
      ]
     },
     "execution_count": 10,
     "metadata": {},
     "output_type": "execute_result"
    }
   ],
   "source": [
    "# bring 1 json into a dataframe for analysis\n",
    "files = sorted(glob.glob('layer1.json.[0].valid.gz'))\n",
    "df = pd.concat([pd.read_pickle(fp) for fp in files], ignore_index=True)\n",
    "df.shape"
   ]
  },
  {
   "cell_type": "code",
   "execution_count": 11,
   "metadata": {},
   "outputs": [
    {
     "data": {
      "text/plain": [
       "partition\n",
       "test     111\n",
       "train    489\n",
       "val      110\n",
       "dtype: int64"
      ]
     },
     "execution_count": 11,
     "metadata": {},
     "output_type": "execute_result"
    }
   ],
   "source": [
    "# for simplicity, let's filter out epicurious recipes with less than 5 steps\n",
    "keep_columns = ['id', 'partition', \n",
    "                'collection', 'title', \n",
    "                'ingr_count', 'instr_count', \n",
    "                'ingredients', 'instructions']\n",
    "\n",
    "epicurious = df[(df.collection == 'www.epicurious.com') \n",
    "   & (df.instr_count<=5)][keep_columns].sort_values(by=['instr_count'], ascending=False)\n",
    "\n",
    "# train, val, test counts\n",
    "epicurious.groupby('partition').size()"
   ]
  },
  {
   "cell_type": "code",
   "execution_count": 12,
   "metadata": {},
   "outputs": [
    {
     "data": {
      "text/plain": [
       "489"
      ]
     },
     "execution_count": 12,
     "metadata": {},
     "output_type": "execute_result"
    }
   ],
   "source": [
    "train_recipes = epicurious[(epicurious.partition=='train')].index\n",
    "len(train_recipes)"
   ]
  },
  {
   "cell_type": "code",
   "execution_count": null,
   "metadata": {},
   "outputs": [],
   "source": [
    "# Garlic Broth with Sage and Parsley, 21658\n",
    "# Grilled Corn on the Cob, 96647\n",
    "\n",
    "# for recipe in test_recipes:\n",
    "#     # title\n",
    "#     print('\\n' + epicurious['title'][recipe] + '\\n')\n",
    "    \n",
    "#     # ingredients\n",
    "#     for index, each in enumerate(epicurious['ingredients'][recipe]):\n",
    "#         print('Ingredient', index+1, ':', list(each.values())[0])\n",
    "    \n",
    "#     # instructoins    \n",
    "#     for index, each in enumerate(epicurious['instructions'][recipe]):\n",
    "#         print('Step', index+1, ':', list(each.values())[0])"
   ]
  },
  {
   "cell_type": "code",
   "execution_count": 13,
   "metadata": {},
   "outputs": [
    {
     "name": "stdout",
     "output_type": "stream",
     "text": [
      "\n",
      "CONFETTI SALAD WITH RANCH DRESSING\n",
      "\n"
     ]
    },
    {
     "name": "stderr",
     "output_type": "stream",
     "text": [
      "/opt/conda/lib/python3.6/runpy.py:193: UserWarning: [W006] No entities to visualize found in Doc object. If this is surprising to you, make sure the Doc was processed using a model that supports named entity recognition, and check the `doc.ents` property manually if necessary.\n",
      "  \"__main__\", mod_spec)\n"
     ]
    },
    {
     "data": {
      "text/html": [
       "<div class=\"entities\" style=\"line-height: 2.5\">Combine all vegetables in large bowl.</div>"
      ],
      "text/plain": [
       "<IPython.core.display.HTML object>"
      ]
     },
     "metadata": {},
     "output_type": "display_data"
    },
    {
     "data": {
      "text/html": [
       "<div class=\"entities\" style=\"line-height: 2.5\">(Can be prepared \n",
       "<mark class=\"entity\" style=\"background: #bfe1d9; padding: 0.45em 0.6em; margin: 0 0.25em; line-height: 1; border-radius: 0.35em; box-decoration-break: clone; -webkit-box-decoration-break: clone\">\n",
       "    4 hours\n",
       "    <span style=\"font-size: 0.8em; font-weight: bold; line-height: 1; border-radius: 0.35em; text-transform: uppercase; vertical-align: middle; margin-left: 0.5rem\">TIME</span>\n",
       "</mark>\n",
       " ahead.</div>"
      ],
      "text/plain": [
       "<IPython.core.display.HTML object>"
      ]
     },
     "metadata": {},
     "output_type": "display_data"
    },
    {
     "data": {
      "text/html": [
       "<div class=\"entities\" style=\"line-height: 2.5\">\n",
       "<mark class=\"entity\" style=\"background: #ddd; padding: 0.45em 0.6em; margin: 0 0.25em; line-height: 1; border-radius: 0.35em; box-decoration-break: clone; -webkit-box-decoration-break: clone\">\n",
       "    Cover\n",
       "    <span style=\"font-size: 0.8em; font-weight: bold; line-height: 1; border-radius: 0.35em; text-transform: uppercase; vertical-align: middle; margin-left: 0.5rem\">ACTION</span>\n",
       "</mark>\n",
       " and refrigerate.)</div>"
      ],
      "text/plain": [
       "<IPython.core.display.HTML object>"
      ]
     },
     "metadata": {},
     "output_type": "display_data"
    },
    {
     "data": {
      "text/html": [
       "<div class=\"entities\" style=\"line-height: 2.5\">\n",
       "<mark class=\"entity\" style=\"background: #ddd; padding: 0.45em 0.6em; margin: 0 0.25em; line-height: 1; border-radius: 0.35em; box-decoration-break: clone; -webkit-box-decoration-break: clone\">\n",
       "    Toss\n",
       "    <span style=\"font-size: 0.8em; font-weight: bold; line-height: 1; border-radius: 0.35em; text-transform: uppercase; vertical-align: middle; margin-left: 0.5rem\">ACTION</span>\n",
       "</mark>\n",
       " \n",
       "<mark class=\"entity\" style=\"background: #ddd; padding: 0.45em 0.6em; margin: 0 0.25em; line-height: 1; border-radius: 0.35em; box-decoration-break: clone; -webkit-box-decoration-break: clone\">\n",
       "    salad\n",
       "    <span style=\"font-size: 0.8em; font-weight: bold; line-height: 1; border-radius: 0.35em; text-transform: uppercase; vertical-align: middle; margin-left: 0.5rem\">INGRD</span>\n",
       "</mark>\n",
       " with enough \n",
       "<mark class=\"entity\" style=\"background: #aa9cfc; padding: 0.45em 0.6em; margin: 0 0.25em; line-height: 1; border-radius: 0.35em; box-decoration-break: clone; -webkit-box-decoration-break: clone\">\n",
       "    Ranch\n",
       "    <span style=\"font-size: 0.8em; font-weight: bold; line-height: 1; border-radius: 0.35em; text-transform: uppercase; vertical-align: middle; margin-left: 0.5rem\">PERSON</span>\n",
       "</mark>\n",
       " \n",
       "<mark class=\"entity\" style=\"background: #ddd; padding: 0.45em 0.6em; margin: 0 0.25em; line-height: 1; border-radius: 0.35em; box-decoration-break: clone; -webkit-box-decoration-break: clone\">\n",
       "    Dressing\n",
       "    <span style=\"font-size: 0.8em; font-weight: bold; line-height: 1; border-radius: 0.35em; text-transform: uppercase; vertical-align: middle; margin-left: 0.5rem\">INGRD</span>\n",
       "</mark>\n",
       " to coat.</div>"
      ],
      "text/plain": [
       "<IPython.core.display.HTML object>"
      ]
     },
     "metadata": {},
     "output_type": "display_data"
    },
    {
     "data": {
      "text/html": [
       "<div class=\"entities\" style=\"line-height: 2.5\">\n",
       "<mark class=\"entity\" style=\"background: #ddd; padding: 0.45em 0.6em; margin: 0 0.25em; line-height: 1; border-radius: 0.35em; box-decoration-break: clone; -webkit-box-decoration-break: clone\">\n",
       "    Season\n",
       "    <span style=\"font-size: 0.8em; font-weight: bold; line-height: 1; border-radius: 0.35em; text-transform: uppercase; vertical-align: middle; margin-left: 0.5rem\">ACTION</span>\n",
       "</mark>\n",
       " to \n",
       "<mark class=\"entity\" style=\"background: #ddd; padding: 0.45em 0.6em; margin: 0 0.25em; line-height: 1; border-radius: 0.35em; box-decoration-break: clone; -webkit-box-decoration-break: clone\">\n",
       "    taste\n",
       "    <span style=\"font-size: 0.8em; font-weight: bold; line-height: 1; border-radius: 0.35em; text-transform: uppercase; vertical-align: middle; margin-left: 0.5rem\">ACTION</span>\n",
       "</mark>\n",
       " with \n",
       "<mark class=\"entity\" style=\"background: #ddd; padding: 0.45em 0.6em; margin: 0 0.25em; line-height: 1; border-radius: 0.35em; box-decoration-break: clone; -webkit-box-decoration-break: clone\">\n",
       "    salt\n",
       "    <span style=\"font-size: 0.8em; font-weight: bold; line-height: 1; border-radius: 0.35em; text-transform: uppercase; vertical-align: middle; margin-left: 0.5rem\">INGRD</span>\n",
       "</mark>\n",
       " and \n",
       "<mark class=\"entity\" style=\"background: #ddd; padding: 0.45em 0.6em; margin: 0 0.25em; line-height: 1; border-radius: 0.35em; box-decoration-break: clone; -webkit-box-decoration-break: clone\">\n",
       "    pepper\n",
       "    <span style=\"font-size: 0.8em; font-weight: bold; line-height: 1; border-radius: 0.35em; text-transform: uppercase; vertical-align: middle; margin-left: 0.5rem\">INGRD</span>\n",
       "</mark>\n",
       " and serve.</div>"
      ],
      "text/plain": [
       "<IPython.core.display.HTML object>"
      ]
     },
     "metadata": {},
     "output_type": "display_data"
    },
    {
     "name": "stdout",
     "output_type": "stream",
     "text": [
      "\n",
      "RANCH DRESSING\n",
      "\n"
     ]
    },
    {
     "data": {
      "text/html": [
       "<div class=\"entities\" style=\"line-height: 2.5\">\n",
       "<mark class=\"entity\" style=\"background: #ddd; padding: 0.45em 0.6em; margin: 0 0.25em; line-height: 1; border-radius: 0.35em; box-decoration-break: clone; -webkit-box-decoration-break: clone\">\n",
       "    Whisk\n",
       "    <span style=\"font-size: 0.8em; font-weight: bold; line-height: 1; border-radius: 0.35em; text-transform: uppercase; vertical-align: middle; margin-left: 0.5rem\">TOOL</span>\n",
       "</mark>\n",
       " \n",
       "<mark class=\"entity\" style=\"background: #e4e7d2; padding: 0.45em 0.6em; margin: 0 0.25em; line-height: 1; border-radius: 0.35em; box-decoration-break: clone; -webkit-box-decoration-break: clone\">\n",
       "    first\n",
       "    <span style=\"font-size: 0.8em; font-weight: bold; line-height: 1; border-radius: 0.35em; text-transform: uppercase; vertical-align: middle; margin-left: 0.5rem\">ORDINAL</span>\n",
       "</mark>\n",
       " \n",
       "<mark class=\"entity\" style=\"background: #e4e7d2; padding: 0.45em 0.6em; margin: 0 0.25em; line-height: 1; border-radius: 0.35em; box-decoration-break: clone; -webkit-box-decoration-break: clone\">\n",
       "    3\n",
       "    <span style=\"font-size: 0.8em; font-weight: bold; line-height: 1; border-radius: 0.35em; text-transform: uppercase; vertical-align: middle; margin-left: 0.5rem\">CARDINAL</span>\n",
       "</mark>\n",
       " \n",
       "<mark class=\"entity\" style=\"background: #ddd; padding: 0.45em 0.6em; margin: 0 0.25em; line-height: 1; border-radius: 0.35em; box-decoration-break: clone; -webkit-box-decoration-break: clone\">\n",
       "    ingredients\n",
       "    <span style=\"font-size: 0.8em; font-weight: bold; line-height: 1; border-radius: 0.35em; text-transform: uppercase; vertical-align: middle; margin-left: 0.5rem\">INGRD</span>\n",
       "</mark>\n",
       " in large bowl.</div>"
      ],
      "text/plain": [
       "<IPython.core.display.HTML object>"
      ]
     },
     "metadata": {},
     "output_type": "display_data"
    },
    {
     "data": {
      "text/html": [
       "<div class=\"entities\" style=\"line-height: 2.5\">\n",
       "<mark class=\"entity\" style=\"background: #ddd; padding: 0.45em 0.6em; margin: 0 0.25em; line-height: 1; border-radius: 0.35em; box-decoration-break: clone; -webkit-box-decoration-break: clone\">\n",
       "    Mix\n",
       "    <span style=\"font-size: 0.8em; font-weight: bold; line-height: 1; border-radius: 0.35em; text-transform: uppercase; vertical-align: middle; margin-left: 0.5rem\">INGRD</span>\n",
       "</mark>\n",
       " in remaining \n",
       "<mark class=\"entity\" style=\"background: #ddd; padding: 0.45em 0.6em; margin: 0 0.25em; line-height: 1; border-radius: 0.35em; box-decoration-break: clone; -webkit-box-decoration-break: clone\">\n",
       "    ingredients\n",
       "    <span style=\"font-size: 0.8em; font-weight: bold; line-height: 1; border-radius: 0.35em; text-transform: uppercase; vertical-align: middle; margin-left: 0.5rem\">INGRD</span>\n",
       "</mark>\n",
       ".</div>"
      ],
      "text/plain": [
       "<IPython.core.display.HTML object>"
      ]
     },
     "metadata": {},
     "output_type": "display_data"
    },
    {
     "data": {
      "text/html": [
       "<div class=\"entities\" style=\"line-height: 2.5\">\n",
       "<mark class=\"entity\" style=\"background: #ddd; padding: 0.45em 0.6em; margin: 0 0.25em; line-height: 1; border-radius: 0.35em; box-decoration-break: clone; -webkit-box-decoration-break: clone\">\n",
       "    Cover\n",
       "    <span style=\"font-size: 0.8em; font-weight: bold; line-height: 1; border-radius: 0.35em; text-transform: uppercase; vertical-align: middle; margin-left: 0.5rem\">ACTION</span>\n",
       "</mark>\n",
       " and chill \n",
       "<mark class=\"entity\" style=\"background: #bfe1d9; padding: 0.45em 0.6em; margin: 0 0.25em; line-height: 1; border-radius: 0.35em; box-decoration-break: clone; -webkit-box-decoration-break: clone\">\n",
       "    at least 1 hour\n",
       "    <span style=\"font-size: 0.8em; font-weight: bold; line-height: 1; border-radius: 0.35em; text-transform: uppercase; vertical-align: middle; margin-left: 0.5rem\">TIME</span>\n",
       "</mark>\n",
       " to \n",
       "<mark class=\"entity\" style=\"background: #ddd; padding: 0.45em 0.6em; margin: 0 0.25em; line-height: 1; border-radius: 0.35em; box-decoration-break: clone; -webkit-box-decoration-break: clone\">\n",
       "    blend\n",
       "    <span style=\"font-size: 0.8em; font-weight: bold; line-height: 1; border-radius: 0.35em; text-transform: uppercase; vertical-align: middle; margin-left: 0.5rem\">ACTION</span>\n",
       "</mark>\n",
       " flavors.</div>"
      ],
      "text/plain": [
       "<IPython.core.display.HTML object>"
      ]
     },
     "metadata": {},
     "output_type": "display_data"
    },
    {
     "data": {
      "text/html": [
       "<div class=\"entities\" style=\"line-height: 2.5\">(\n",
       "<mark class=\"entity\" style=\"background: #ddd; padding: 0.45em 0.6em; margin: 0 0.25em; line-height: 1; border-radius: 0.35em; box-decoration-break: clone; -webkit-box-decoration-break: clone\">\n",
       "    Dressing\n",
       "    <span style=\"font-size: 0.8em; font-weight: bold; line-height: 1; border-radius: 0.35em; text-transform: uppercase; vertical-align: middle; margin-left: 0.5rem\">INGRD</span>\n",
       "</mark>\n",
       " can be prepared \n",
       "<mark class=\"entity\" style=\"background: #bfe1d9; padding: 0.45em 0.6em; margin: 0 0.25em; line-height: 1; border-radius: 0.35em; box-decoration-break: clone; -webkit-box-decoration-break: clone\">\n",
       "    5 days ahead\n",
       "    <span style=\"font-size: 0.8em; font-weight: bold; line-height: 1; border-radius: 0.35em; text-transform: uppercase; vertical-align: middle; margin-left: 0.5rem\">DATE</span>\n",
       "</mark>\n",
       ".</div>"
      ],
      "text/plain": [
       "<IPython.core.display.HTML object>"
      ]
     },
     "metadata": {},
     "output_type": "display_data"
    },
    {
     "name": "stderr",
     "output_type": "stream",
     "text": [
      "/opt/conda/lib/python3.6/runpy.py:193: UserWarning: [W006] No entities to visualize found in Doc object. If this is surprising to you, make sure the Doc was processed using a model that supports named entity recognition, and check the `doc.ents` property manually if necessary.\n",
      "  \"__main__\", mod_spec)\n"
     ]
    },
    {
     "data": {
      "text/html": [
       "<div class=\"entities\" style=\"line-height: 2.5\">Keep refrigerated.)</div>"
      ],
      "text/plain": [
       "<IPython.core.display.HTML object>"
      ]
     },
     "metadata": {},
     "output_type": "display_data"
    },
    {
     "name": "stdout",
     "output_type": "stream",
     "text": [
      "\n",
      "BUBBAS BEER BISCUITS\n",
      "\n"
     ]
    },
    {
     "data": {
      "text/html": [
       "<div class=\"entities\" style=\"line-height: 2.5\">Preheat oven to \n",
       "<mark class=\"entity\" style=\"background: #e4e7d2; padding: 0.45em 0.6em; margin: 0 0.25em; line-height: 1; border-radius: 0.35em; box-decoration-break: clone; -webkit-box-decoration-break: clone\">\n",
       "    400 degrees\n",
       "    <span style=\"font-size: 0.8em; font-weight: bold; line-height: 1; border-radius: 0.35em; text-transform: uppercase; vertical-align: middle; margin-left: 0.5rem\">QUANTITY</span>\n",
       "</mark>\n",
       ".</div>"
      ],
      "text/plain": [
       "<IPython.core.display.HTML object>"
      ]
     },
     "metadata": {},
     "output_type": "display_data"
    },
    {
     "data": {
      "text/html": [
       "<div class=\"entities\" style=\"line-height: 2.5\">\n",
       "<mark class=\"entity\" style=\"background: #ddd; padding: 0.45em 0.6em; margin: 0 0.25em; line-height: 1; border-radius: 0.35em; box-decoration-break: clone; -webkit-box-decoration-break: clone\">\n",
       "    Mix\n",
       "    <span style=\"font-size: 0.8em; font-weight: bold; line-height: 1; border-radius: 0.35em; text-transform: uppercase; vertical-align: middle; margin-left: 0.5rem\">INGRD</span>\n",
       "</mark>\n",
       " all \n",
       "<mark class=\"entity\" style=\"background: #ddd; padding: 0.45em 0.6em; margin: 0 0.25em; line-height: 1; border-radius: 0.35em; box-decoration-break: clone; -webkit-box-decoration-break: clone\">\n",
       "    ingredients\n",
       "    <span style=\"font-size: 0.8em; font-weight: bold; line-height: 1; border-radius: 0.35em; text-transform: uppercase; vertical-align: middle; margin-left: 0.5rem\">INGRD</span>\n",
       "</mark>\n",
       " well, adjusting the \n",
       "<mark class=\"entity\" style=\"background: #ddd; padding: 0.45em 0.6em; margin: 0 0.25em; line-height: 1; border-radius: 0.35em; box-decoration-break: clone; -webkit-box-decoration-break: clone\">\n",
       "    sugar\n",
       "    <span style=\"font-size: 0.8em; font-weight: bold; line-height: 1; border-radius: 0.35em; text-transform: uppercase; vertical-align: middle; margin-left: 0.5rem\">INGRD</span>\n",
       "</mark>\n",
       " according to how sweet a biscuit you prefer.</div>"
      ],
      "text/plain": [
       "<IPython.core.display.HTML object>"
      ]
     },
     "metadata": {},
     "output_type": "display_data"
    },
    {
     "data": {
      "text/html": [
       "<div class=\"entities\" style=\"line-height: 2.5\">\n",
       "<mark class=\"entity\" style=\"background: #ddd; padding: 0.45em 0.6em; margin: 0 0.25em; line-height: 1; border-radius: 0.35em; box-decoration-break: clone; -webkit-box-decoration-break: clone\">\n",
       "    Pour\n",
       "    <span style=\"font-size: 0.8em; font-weight: bold; line-height: 1; border-radius: 0.35em; text-transform: uppercase; vertical-align: middle; margin-left: 0.5rem\">ACTION</span>\n",
       "</mark>\n",
       " into wellgreased muffin tins.</div>"
      ],
      "text/plain": [
       "<IPython.core.display.HTML object>"
      ]
     },
     "metadata": {},
     "output_type": "display_data"
    },
    {
     "data": {
      "text/html": [
       "<div class=\"entities\" style=\"line-height: 2.5\">Bake for \n",
       "<mark class=\"entity\" style=\"background: #bfe1d9; padding: 0.45em 0.6em; margin: 0 0.25em; line-height: 1; border-radius: 0.35em; box-decoration-break: clone; -webkit-box-decoration-break: clone\">\n",
       "    15 to 20 minutes\n",
       "    <span style=\"font-size: 0.8em; font-weight: bold; line-height: 1; border-radius: 0.35em; text-transform: uppercase; vertical-align: middle; margin-left: 0.5rem\">TIME</span>\n",
       "</mark>\n",
       ".</div>"
      ],
      "text/plain": [
       "<IPython.core.display.HTML object>"
      ]
     },
     "metadata": {},
     "output_type": "display_data"
    },
    {
     "data": {
      "text/html": [
       "<div class=\"entities\" style=\"line-height: 2.5\">Serve with \n",
       "<mark class=\"entity\" style=\"background: #ddd; padding: 0.45em 0.6em; margin: 0 0.25em; line-height: 1; border-radius: 0.35em; box-decoration-break: clone; -webkit-box-decoration-break: clone\">\n",
       "    honey\n",
       "    <span style=\"font-size: 0.8em; font-weight: bold; line-height: 1; border-radius: 0.35em; text-transform: uppercase; vertical-align: middle; margin-left: 0.5rem\">INGRD</span>\n",
       "</mark>\n",
       " \n",
       "<mark class=\"entity\" style=\"background: #ddd; padding: 0.45em 0.6em; margin: 0 0.25em; line-height: 1; border-radius: 0.35em; box-decoration-break: clone; -webkit-box-decoration-break: clone\">\n",
       "    butter\n",
       "    <span style=\"font-size: 0.8em; font-weight: bold; line-height: 1; border-radius: 0.35em; text-transform: uppercase; vertical-align: middle; margin-left: 0.5rem\">INGRD</span>\n",
       "</mark>\n",
       ".</div>"
      ],
      "text/plain": [
       "<IPython.core.display.HTML object>"
      ]
     },
     "metadata": {},
     "output_type": "display_data"
    },
    {
     "name": "stdout",
     "output_type": "stream",
     "text": [
      "\n",
      "APPLE SORBET\n",
      "\n"
     ]
    },
    {
     "data": {
      "text/html": [
       "<div class=\"entities\" style=\"line-height: 2.5\">In a large saucepan combine all \n",
       "<mark class=\"entity\" style=\"background: #ddd; padding: 0.45em 0.6em; margin: 0 0.25em; line-height: 1; border-radius: 0.35em; box-decoration-break: clone; -webkit-box-decoration-break: clone\">\n",
       "    ingredients\n",
       "    <span style=\"font-size: 0.8em; font-weight: bold; line-height: 1; border-radius: 0.35em; text-transform: uppercase; vertical-align: middle; margin-left: 0.5rem\">INGRD</span>\n",
       "</mark>\n",
       " and a pinch \n",
       "<mark class=\"entity\" style=\"background: #ddd; padding: 0.45em 0.6em; margin: 0 0.25em; line-height: 1; border-radius: 0.35em; box-decoration-break: clone; -webkit-box-decoration-break: clone\">\n",
       "    salt\n",
       "    <span style=\"font-size: 0.8em; font-weight: bold; line-height: 1; border-radius: 0.35em; text-transform: uppercase; vertical-align: middle; margin-left: 0.5rem\">INGRD</span>\n",
       "</mark>\n",
       " and \n",
       "<mark class=\"entity\" style=\"background: #ddd; padding: 0.45em 0.6em; margin: 0 0.25em; line-height: 1; border-radius: 0.35em; box-decoration-break: clone; -webkit-box-decoration-break: clone\">\n",
       "    simmer\n",
       "    <span style=\"font-size: 0.8em; font-weight: bold; line-height: 1; border-radius: 0.35em; text-transform: uppercase; vertical-align: middle; margin-left: 0.5rem\">ACTION</span>\n",
       "</mark>\n",
       ", uncovered, \n",
       "<mark class=\"entity\" style=\"background: #bfe1d9; padding: 0.45em 0.6em; margin: 0 0.25em; line-height: 1; border-radius: 0.35em; box-decoration-break: clone; -webkit-box-decoration-break: clone\">\n",
       "    10 minutes\n",
       "    <span style=\"font-size: 0.8em; font-weight: bold; line-height: 1; border-radius: 0.35em; text-transform: uppercase; vertical-align: middle; margin-left: 0.5rem\">TIME</span>\n",
       "</mark>\n",
       ", or until \n",
       "<mark class=\"entity\" style=\"background: #ddd; padding: 0.45em 0.6em; margin: 0 0.25em; line-height: 1; border-radius: 0.35em; box-decoration-break: clone; -webkit-box-decoration-break: clone\">\n",
       "    apples\n",
       "    <span style=\"font-size: 0.8em; font-weight: bold; line-height: 1; border-radius: 0.35em; text-transform: uppercase; vertical-align: middle; margin-left: 0.5rem\">INGRD</span>\n",
       "</mark>\n",
       " are very tender.</div>"
      ],
      "text/plain": [
       "<IPython.core.display.HTML object>"
      ]
     },
     "metadata": {},
     "output_type": "display_data"
    },
    {
     "data": {
      "text/html": [
       "<div class=\"entities\" style=\"line-height: 2.5\">\n",
       "<mark class=\"entity\" style=\"background: #ddd; padding: 0.45em 0.6em; margin: 0 0.25em; line-height: 1; border-radius: 0.35em; box-decoration-break: clone; -webkit-box-decoration-break: clone\">\n",
       "    Strain\n",
       "    <span style=\"font-size: 0.8em; font-weight: bold; line-height: 1; border-radius: 0.35em; text-transform: uppercase; vertical-align: middle; margin-left: 0.5rem\">ACTION</span>\n",
       "</mark>\n",
       " mixture through a sieve into a \n",
       "<mark class=\"entity\" style=\"background: #ddd; padding: 0.45em 0.6em; margin: 0 0.25em; line-height: 1; border-radius: 0.35em; box-decoration-break: clone; -webkit-box-decoration-break: clone\">\n",
       "    blender\n",
       "    <span style=\"font-size: 0.8em; font-weight: bold; line-height: 1; border-radius: 0.35em; text-transform: uppercase; vertical-align: middle; margin-left: 0.5rem\">TOOL</span>\n",
       "</mark>\n",
       " and add \n",
       "<mark class=\"entity\" style=\"background: #e4e7d2; padding: 0.45em 0.6em; margin: 0 0.25em; line-height: 1; border-radius: 0.35em; box-decoration-break: clone; -webkit-box-decoration-break: clone\">\n",
       "    half\n",
       "    <span style=\"font-size: 0.8em; font-weight: bold; line-height: 1; border-radius: 0.35em; text-transform: uppercase; vertical-align: middle; margin-left: 0.5rem\">CARDINAL</span>\n",
       "</mark>\n",
       " of solids in sieve to \n",
       "<mark class=\"entity\" style=\"background: #ddd; padding: 0.45em 0.6em; margin: 0 0.25em; line-height: 1; border-radius: 0.35em; box-decoration-break: clone; -webkit-box-decoration-break: clone\">\n",
       "    blender\n",
       "    <span style=\"font-size: 0.8em; font-weight: bold; line-height: 1; border-radius: 0.35em; text-transform: uppercase; vertical-align: middle; margin-left: 0.5rem\">TOOL</span>\n",
       "</mark>\n",
       ", discarding remaining solids.</div>"
      ],
      "text/plain": [
       "<IPython.core.display.HTML object>"
      ]
     },
     "metadata": {},
     "output_type": "display_data"
    },
    {
     "data": {
      "text/html": [
       "<div class=\"entities\" style=\"line-height: 2.5\">\n",
       "<mark class=\"entity\" style=\"background: #ddd; padding: 0.45em 0.6em; margin: 0 0.25em; line-height: 1; border-radius: 0.35em; box-decoration-break: clone; -webkit-box-decoration-break: clone\">\n",
       "    Puree\n",
       "    <span style=\"font-size: 0.8em; font-weight: bold; line-height: 1; border-radius: 0.35em; text-transform: uppercase; vertical-align: middle; margin-left: 0.5rem\">ACTION</span>\n",
       "</mark>\n",
       " \n",
       "<mark class=\"entity\" style=\"background: #ddd; padding: 0.45em 0.6em; margin: 0 0.25em; line-height: 1; border-radius: 0.35em; box-decoration-break: clone; -webkit-box-decoration-break: clone\">\n",
       "    apple\n",
       "    <span style=\"font-size: 0.8em; font-weight: bold; line-height: 1; border-radius: 0.35em; text-transform: uppercase; vertical-align: middle; margin-left: 0.5rem\">INGRD</span>\n",
       "</mark>\n",
       " mixture and chill until cold.</div>"
      ],
      "text/plain": [
       "<IPython.core.display.HTML object>"
      ]
     },
     "metadata": {},
     "output_type": "display_data"
    },
    {
     "data": {
      "text/html": [
       "<div class=\"entities\" style=\"line-height: 2.5\">Freeze sorbet in an ice-\n",
       "<mark class=\"entity\" style=\"background: #ddd; padding: 0.45em 0.6em; margin: 0 0.25em; line-height: 1; border-radius: 0.35em; box-decoration-break: clone; -webkit-box-decoration-break: clone\">\n",
       "    cream\n",
       "    <span style=\"font-size: 0.8em; font-weight: bold; line-height: 1; border-radius: 0.35em; text-transform: uppercase; vertical-align: middle; margin-left: 0.5rem\">INGRD</span>\n",
       "</mark>\n",
       " maker.</div>"
      ],
      "text/plain": [
       "<IPython.core.display.HTML object>"
      ]
     },
     "metadata": {},
     "output_type": "display_data"
    },
    {
     "data": {
      "text/html": [
       "<div class=\"entities\" style=\"line-height: 2.5\">\n",
       "<mark class=\"entity\" style=\"background: #7aecec; padding: 0.45em 0.6em; margin: 0 0.25em; line-height: 1; border-radius: 0.35em; box-decoration-break: clone; -webkit-box-decoration-break: clone\">\n",
       "    Sorbet\n",
       "    <span style=\"font-size: 0.8em; font-weight: bold; line-height: 1; border-radius: 0.35em; text-transform: uppercase; vertical-align: middle; margin-left: 0.5rem\">ORG</span>\n",
       "</mark>\n",
       " may be made \n",
       "<mark class=\"entity\" style=\"background: #bfe1d9; padding: 0.45em 0.6em; margin: 0 0.25em; line-height: 1; border-radius: 0.35em; box-decoration-break: clone; -webkit-box-decoration-break: clone\">\n",
       "    1 week ahead\n",
       "    <span style=\"font-size: 0.8em; font-weight: bold; line-height: 1; border-radius: 0.35em; text-transform: uppercase; vertical-align: middle; margin-left: 0.5rem\">DATE</span>\n",
       "</mark>\n",
       ".</div>"
      ],
      "text/plain": [
       "<IPython.core.display.HTML object>"
      ]
     },
     "metadata": {},
     "output_type": "display_data"
    },
    {
     "name": "stdout",
     "output_type": "stream",
     "text": [
      "\n",
      "COCONUT SORBET\n",
      "\n"
     ]
    },
    {
     "data": {
      "text/html": [
       "<div class=\"entities\" style=\"line-height: 2.5\">Combine the \n",
       "<mark class=\"entity\" style=\"background: #ddd; padding: 0.45em 0.6em; margin: 0 0.25em; line-height: 1; border-radius: 0.35em; box-decoration-break: clone; -webkit-box-decoration-break: clone\">\n",
       "    coconut\n",
       "    <span style=\"font-size: 0.8em; font-weight: bold; line-height: 1; border-radius: 0.35em; text-transform: uppercase; vertical-align: middle; margin-left: 0.5rem\">INGRD</span>\n",
       "</mark>\n",
       " \n",
       "<mark class=\"entity\" style=\"background: #ddd; padding: 0.45em 0.6em; margin: 0 0.25em; line-height: 1; border-radius: 0.35em; box-decoration-break: clone; -webkit-box-decoration-break: clone\">\n",
       "    milk\n",
       "    <span style=\"font-size: 0.8em; font-weight: bold; line-height: 1; border-radius: 0.35em; text-transform: uppercase; vertical-align: middle; margin-left: 0.5rem\">INGRD</span>\n",
       "</mark>\n",
       " with the \n",
       "<mark class=\"entity\" style=\"background: #ddd; padding: 0.45em 0.6em; margin: 0 0.25em; line-height: 1; border-radius: 0.35em; box-decoration-break: clone; -webkit-box-decoration-break: clone\">\n",
       "    sugar\n",
       "    <span style=\"font-size: 0.8em; font-weight: bold; line-height: 1; border-radius: 0.35em; text-transform: uppercase; vertical-align: middle; margin-left: 0.5rem\">INGRD</span>\n",
       "</mark>\n",
       " and \n",
       "<mark class=\"entity\" style=\"background: #ddd; padding: 0.45em 0.6em; margin: 0 0.25em; line-height: 1; border-radius: 0.35em; box-decoration-break: clone; -webkit-box-decoration-break: clone\">\n",
       "    taste\n",
       "    <span style=\"font-size: 0.8em; font-weight: bold; line-height: 1; border-radius: 0.35em; text-transform: uppercase; vertical-align: middle; margin-left: 0.5rem\">ACTION</span>\n",
       "</mark>\n",
       "; add more \n",
       "<mark class=\"entity\" style=\"background: #ddd; padding: 0.45em 0.6em; margin: 0 0.25em; line-height: 1; border-radius: 0.35em; box-decoration-break: clone; -webkit-box-decoration-break: clone\">\n",
       "    sugar\n",
       "    <span style=\"font-size: 0.8em; font-weight: bold; line-height: 1; border-radius: 0.35em; text-transform: uppercase; vertical-align: middle; margin-left: 0.5rem\">INGRD</span>\n",
       "</mark>\n",
       " if you like.</div>"
      ],
      "text/plain": [
       "<IPython.core.display.HTML object>"
      ]
     },
     "metadata": {},
     "output_type": "display_data"
    },
    {
     "data": {
      "text/html": [
       "<div class=\"entities\" style=\"line-height: 2.5\">Add the \n",
       "<mark class=\"entity\" style=\"background: #ddd; padding: 0.45em 0.6em; margin: 0 0.25em; line-height: 1; border-radius: 0.35em; box-decoration-break: clone; -webkit-box-decoration-break: clone\">\n",
       "    vanilla\n",
       "    <span style=\"font-size: 0.8em; font-weight: bold; line-height: 1; border-radius: 0.35em; text-transform: uppercase; vertical-align: middle; margin-left: 0.5rem\">INGRD</span>\n",
       "</mark>\n",
       " and \n",
       "<mark class=\"entity\" style=\"background: #ddd; padding: 0.45em 0.6em; margin: 0 0.25em; line-height: 1; border-radius: 0.35em; box-decoration-break: clone; -webkit-box-decoration-break: clone\">\n",
       "    stir\n",
       "    <span style=\"font-size: 0.8em; font-weight: bold; line-height: 1; border-radius: 0.35em; text-transform: uppercase; vertical-align: middle; margin-left: 0.5rem\">ACTION</span>\n",
       "</mark>\n",
       ".</div>"
      ],
      "text/plain": [
       "<IPython.core.display.HTML object>"
      ]
     },
     "metadata": {},
     "output_type": "display_data"
    },
    {
     "data": {
      "text/html": [
       "<div class=\"entities\" style=\"line-height: 2.5\">Freeze in an \n",
       "<mark class=\"entity\" style=\"background: #ddd; padding: 0.45em 0.6em; margin: 0 0.25em; line-height: 1; border-radius: 0.35em; box-decoration-break: clone; -webkit-box-decoration-break: clone\">\n",
       "    ice cream\n",
       "    <span style=\"font-size: 0.8em; font-weight: bold; line-height: 1; border-radius: 0.35em; text-transform: uppercase; vertical-align: middle; margin-left: 0.5rem\">INGRD</span>\n",
       "</mark>\n",
       " machine according to the manufacturers instructions.</div>"
      ],
      "text/plain": [
       "<IPython.core.display.HTML object>"
      ]
     },
     "metadata": {},
     "output_type": "display_data"
    },
    {
     "data": {
      "text/html": [
       "<div class=\"entities\" style=\"line-height: 2.5\">Serve as soon as possible after making or freeze and let \n",
       "<mark class=\"entity\" style=\"background: #ddd; padding: 0.45em 0.6em; margin: 0 0.25em; line-height: 1; border-radius: 0.35em; box-decoration-break: clone; -webkit-box-decoration-break: clone\">\n",
       "    warm\n",
       "    <span style=\"font-size: 0.8em; font-weight: bold; line-height: 1; border-radius: 0.35em; text-transform: uppercase; vertical-align: middle; margin-left: 0.5rem\">ACTION</span>\n",
       "</mark>\n",
       " in the refrigerator for \n",
       "<mark class=\"entity\" style=\"background: #bfe1d9; padding: 0.45em 0.6em; margin: 0 0.25em; line-height: 1; border-radius: 0.35em; box-decoration-break: clone; -webkit-box-decoration-break: clone\">\n",
       "    30 minutes\n",
       "    <span style=\"font-size: 0.8em; font-weight: bold; line-height: 1; border-radius: 0.35em; text-transform: uppercase; vertical-align: middle; margin-left: 0.5rem\">TIME</span>\n",
       "</mark>\n",
       " before serving.</div>"
      ],
      "text/plain": [
       "<IPython.core.display.HTML object>"
      ]
     },
     "metadata": {},
     "output_type": "display_data"
    },
    {
     "data": {
      "text/html": [
       "<div class=\"entities\" style=\"line-height: 2.5\">Best \n",
       "<mark class=\"entity\" style=\"background: #bfe1d9; padding: 0.45em 0.6em; margin: 0 0.25em; line-height: 1; border-radius: 0.35em; box-decoration-break: clone; -webkit-box-decoration-break: clone\">\n",
       "    the day\n",
       "    <span style=\"font-size: 0.8em; font-weight: bold; line-height: 1; border-radius: 0.35em; text-transform: uppercase; vertical-align: middle; margin-left: 0.5rem\">DATE</span>\n",
       "</mark>\n",
       " it is made.</div>"
      ],
      "text/plain": [
       "<IPython.core.display.HTML object>"
      ]
     },
     "metadata": {},
     "output_type": "display_data"
    },
    {
     "name": "stdout",
     "output_type": "stream",
     "text": [
      "\n",
      "ICE CREAM SUNDAES WITH CHOCOLATE-COFFEE SAUCE\n",
      "\n"
     ]
    },
    {
     "data": {
      "text/html": [
       "<div class=\"entities\" style=\"line-height: 2.5\">Combine \n",
       "<mark class=\"entity\" style=\"background: #ddd; padding: 0.45em 0.6em; margin: 0 0.25em; line-height: 1; border-radius: 0.35em; box-decoration-break: clone; -webkit-box-decoration-break: clone\">\n",
       "    chocolate\n",
       "    <span style=\"font-size: 0.8em; font-weight: bold; line-height: 1; border-radius: 0.35em; text-transform: uppercase; vertical-align: middle; margin-left: 0.5rem\">INGRD</span>\n",
       "</mark>\n",
       ", liqueur, and whipping \n",
       "<mark class=\"entity\" style=\"background: #ddd; padding: 0.45em 0.6em; margin: 0 0.25em; line-height: 1; border-radius: 0.35em; box-decoration-break: clone; -webkit-box-decoration-break: clone\">\n",
       "    cream\n",
       "    <span style=\"font-size: 0.8em; font-weight: bold; line-height: 1; border-radius: 0.35em; text-transform: uppercase; vertical-align: middle; margin-left: 0.5rem\">INGRD</span>\n",
       "</mark>\n",
       " in heavy small saucepan.</div>"
      ],
      "text/plain": [
       "<IPython.core.display.HTML object>"
      ]
     },
     "metadata": {},
     "output_type": "display_data"
    },
    {
     "data": {
      "text/html": [
       "<div class=\"entities\" style=\"line-height: 2.5\">\n",
       "<mark class=\"entity\" style=\"background: #ddd; padding: 0.45em 0.6em; margin: 0 0.25em; line-height: 1; border-radius: 0.35em; box-decoration-break: clone; -webkit-box-decoration-break: clone\">\n",
       "    Whisk\n",
       "    <span style=\"font-size: 0.8em; font-weight: bold; line-height: 1; border-radius: 0.35em; text-transform: uppercase; vertical-align: middle; margin-left: 0.5rem\">TOOL</span>\n",
       "</mark>\n",
       " over medium heat until melted and smooth.</div>"
      ],
      "text/plain": [
       "<IPython.core.display.HTML object>"
      ]
     },
     "metadata": {},
     "output_type": "display_data"
    },
    {
     "data": {
      "text/html": [
       "<div class=\"entities\" style=\"line-height: 2.5\">\n",
       "<mark class=\"entity\" style=\"background: #ddd; padding: 0.45em 0.6em; margin: 0 0.25em; line-height: 1; border-radius: 0.35em; box-decoration-break: clone; -webkit-box-decoration-break: clone\">\n",
       "    Scoop\n",
       "    <span style=\"font-size: 0.8em; font-weight: bold; line-height: 1; border-radius: 0.35em; text-transform: uppercase; vertical-align: middle; margin-left: 0.5rem\">ACTION</span>\n",
       "</mark>\n",
       " \n",
       "<mark class=\"entity\" style=\"background: #ddd; padding: 0.45em 0.6em; margin: 0 0.25em; line-height: 1; border-radius: 0.35em; box-decoration-break: clone; -webkit-box-decoration-break: clone\">\n",
       "    ice cream\n",
       "    <span style=\"font-size: 0.8em; font-weight: bold; line-height: 1; border-radius: 0.35em; text-transform: uppercase; vertical-align: middle; margin-left: 0.5rem\">INGRD</span>\n",
       "</mark>\n",
       " into dessert dishes or goblets.</div>"
      ],
      "text/plain": [
       "<IPython.core.display.HTML object>"
      ]
     },
     "metadata": {},
     "output_type": "display_data"
    },
    {
     "data": {
      "text/html": [
       "<div class=\"entities\" style=\"line-height: 2.5\">\n",
       "<mark class=\"entity\" style=\"background: #ddd; padding: 0.45em 0.6em; margin: 0 0.25em; line-height: 1; border-radius: 0.35em; box-decoration-break: clone; -webkit-box-decoration-break: clone\">\n",
       "    Spoon\n",
       "    <span style=\"font-size: 0.8em; font-weight: bold; line-height: 1; border-radius: 0.35em; text-transform: uppercase; vertical-align: middle; margin-left: 0.5rem\">ACTION</span>\n",
       "</mark>\n",
       " \n",
       "<mark class=\"entity\" style=\"background: #ddd; padding: 0.45em 0.6em; margin: 0 0.25em; line-height: 1; border-radius: 0.35em; box-decoration-break: clone; -webkit-box-decoration-break: clone\">\n",
       "    warm\n",
       "    <span style=\"font-size: 0.8em; font-weight: bold; line-height: 1; border-radius: 0.35em; text-transform: uppercase; vertical-align: middle; margin-left: 0.5rem\">ACTION</span>\n",
       "</mark>\n",
       " \n",
       "<mark class=\"entity\" style=\"background: #ddd; padding: 0.45em 0.6em; margin: 0 0.25em; line-height: 1; border-radius: 0.35em; box-decoration-break: clone; -webkit-box-decoration-break: clone\">\n",
       "    sauce\n",
       "    <span style=\"font-size: 0.8em; font-weight: bold; line-height: 1; border-radius: 0.35em; text-transform: uppercase; vertical-align: middle; margin-left: 0.5rem\">INGRD</span>\n",
       "</mark>\n",
       " over.</div>"
      ],
      "text/plain": [
       "<IPython.core.display.HTML object>"
      ]
     },
     "metadata": {},
     "output_type": "display_data"
    },
    {
     "name": "stderr",
     "output_type": "stream",
     "text": [
      "/opt/conda/lib/python3.6/runpy.py:193: UserWarning: [W006] No entities to visualize found in Doc object. If this is surprising to you, make sure the Doc was processed using a model that supports named entity recognition, and check the `doc.ents` property manually if necessary.\n",
      "  \"__main__\", mod_spec)\n"
     ]
    },
    {
     "data": {
      "text/html": [
       "<div class=\"entities\" style=\"line-height: 2.5\">Serve, passing additional liqueur.</div>"
      ],
      "text/plain": [
       "<IPython.core.display.HTML object>"
      ]
     },
     "metadata": {},
     "output_type": "display_data"
    },
    {
     "name": "stdout",
     "output_type": "stream",
     "text": [
      "\n",
      "SPICED MUSHROOMS WITH HERBS\n",
      "\n"
     ]
    },
    {
     "data": {
      "text/html": [
       "<div class=\"entities\" style=\"line-height: 2.5\">Finely grind \n",
       "<mark class=\"entity\" style=\"background: #ddd; padding: 0.45em 0.6em; margin: 0 0.25em; line-height: 1; border-radius: 0.35em; box-decoration-break: clone; -webkit-box-decoration-break: clone\">\n",
       "    coriander\n",
       "    <span style=\"font-size: 0.8em; font-weight: bold; line-height: 1; border-radius: 0.35em; text-transform: uppercase; vertical-align: middle; margin-left: 0.5rem\">INGRD</span>\n",
       "</mark>\n",
       " and \n",
       "<mark class=\"entity\" style=\"background: #ddd; padding: 0.45em 0.6em; margin: 0 0.25em; line-height: 1; border-radius: 0.35em; box-decoration-break: clone; -webkit-box-decoration-break: clone\">\n",
       "    allspice\n",
       "    <span style=\"font-size: 0.8em; font-weight: bold; line-height: 1; border-radius: 0.35em; text-transform: uppercase; vertical-align: middle; margin-left: 0.5rem\">INGRD</span>\n",
       "</mark>\n",
       " in an electric coffee/\n",
       "<mark class=\"entity\" style=\"background: #ddd; padding: 0.45em 0.6em; margin: 0 0.25em; line-height: 1; border-radius: 0.35em; box-decoration-break: clone; -webkit-box-decoration-break: clone\">\n",
       "    spice\n",
       "    <span style=\"font-size: 0.8em; font-weight: bold; line-height: 1; border-radius: 0.35em; text-transform: uppercase; vertical-align: middle; margin-left: 0.5rem\">INGRD</span>\n",
       "</mark>\n",
       " grinder or with a mortar and pestle.</div>"
      ],
      "text/plain": [
       "<IPython.core.display.HTML object>"
      ]
     },
     "metadata": {},
     "output_type": "display_data"
    },
    {
     "data": {
      "text/html": [
       "<div class=\"entities\" style=\"line-height: 2.5\">Heat \n",
       "<mark class=\"entity\" style=\"background: #ddd; padding: 0.45em 0.6em; margin: 0 0.25em; line-height: 1; border-radius: 0.35em; box-decoration-break: clone; -webkit-box-decoration-break: clone\">\n",
       "    oil\n",
       "    <span style=\"font-size: 0.8em; font-weight: bold; line-height: 1; border-radius: 0.35em; text-transform: uppercase; vertical-align: middle; margin-left: 0.5rem\">INGRD</span>\n",
       "</mark>\n",
       " in a 12-inch heavy skillet over moderately high heat until hot but not smoking, then \n",
       "<mark class=\"entity\" style=\"background: #ddd; padding: 0.45em 0.6em; margin: 0 0.25em; line-height: 1; border-radius: 0.35em; box-decoration-break: clone; -webkit-box-decoration-break: clone\">\n",
       "    saute\n",
       "    <span style=\"font-size: 0.8em; font-weight: bold; line-height: 1; border-radius: 0.35em; text-transform: uppercase; vertical-align: middle; margin-left: 0.5rem\">ACTION</span>\n",
       "</mark>\n",
       " \n",
       "<mark class=\"entity\" style=\"background: #ddd; padding: 0.45em 0.6em; margin: 0 0.25em; line-height: 1; border-radius: 0.35em; box-decoration-break: clone; -webkit-box-decoration-break: clone\">\n",
       "    mushrooms\n",
       "    <span style=\"font-size: 0.8em; font-weight: bold; line-height: 1; border-radius: 0.35em; text-transform: uppercase; vertical-align: middle; margin-left: 0.5rem\">INGRD</span>\n",
       "</mark>\n",
       " with \n",
       "<mark class=\"entity\" style=\"background: #ddd; padding: 0.45em 0.6em; margin: 0 0.25em; line-height: 1; border-radius: 0.35em; box-decoration-break: clone; -webkit-box-decoration-break: clone\">\n",
       "    spices\n",
       "    <span style=\"font-size: 0.8em; font-weight: bold; line-height: 1; border-radius: 0.35em; text-transform: uppercase; vertical-align: middle; margin-left: 0.5rem\">INGRD</span>\n",
       "</mark>\n",
       ", stirring occasionally, just until tender, \n",
       "<mark class=\"entity\" style=\"background: #bfe1d9; padding: 0.45em 0.6em; margin: 0 0.25em; line-height: 1; border-radius: 0.35em; box-decoration-break: clone; -webkit-box-decoration-break: clone\">\n",
       "    10 to 12 minutes\n",
       "    <span style=\"font-size: 0.8em; font-weight: bold; line-height: 1; border-radius: 0.35em; text-transform: uppercase; vertical-align: middle; margin-left: 0.5rem\">TIME</span>\n",
       "</mark>\n",
       ".</div>"
      ],
      "text/plain": [
       "<IPython.core.display.HTML object>"
      ]
     },
     "metadata": {},
     "output_type": "display_data"
    },
    {
     "data": {
      "text/html": [
       "<div class=\"entities\" style=\"line-height: 2.5\">\n",
       "<mark class=\"entity\" style=\"background: #ddd; padding: 0.45em 0.6em; margin: 0 0.25em; line-height: 1; border-radius: 0.35em; box-decoration-break: clone; -webkit-box-decoration-break: clone\">\n",
       "    Stir\n",
       "    <span style=\"font-size: 0.8em; font-weight: bold; line-height: 1; border-radius: 0.35em; text-transform: uppercase; vertical-align: middle; margin-left: 0.5rem\">ACTION</span>\n",
       "</mark>\n",
       " in \n",
       "<mark class=\"entity\" style=\"background: #ddd; padding: 0.45em 0.6em; margin: 0 0.25em; line-height: 1; border-radius: 0.35em; box-decoration-break: clone; -webkit-box-decoration-break: clone\">\n",
       "    lemon juice\n",
       "    <span style=\"font-size: 0.8em; font-weight: bold; line-height: 1; border-radius: 0.35em; text-transform: uppercase; vertical-align: middle; margin-left: 0.5rem\">INGRD</span>\n",
       "</mark>\n",
       ", \n",
       "<mark class=\"entity\" style=\"background: #e4e7d2; padding: 0.45em 0.6em; margin: 0 0.25em; line-height: 1; border-radius: 0.35em; box-decoration-break: clone; -webkit-box-decoration-break: clone\">\n",
       "    1\n",
       "    <span style=\"font-size: 0.8em; font-weight: bold; line-height: 1; border-radius: 0.35em; text-transform: uppercase; vertical-align: middle; margin-left: 0.5rem\">CARDINAL</span>\n",
       "</mark>\n",
       " teaspoon of each \n",
       "<mark class=\"entity\" style=\"background: #ddd; padding: 0.45em 0.6em; margin: 0 0.25em; line-height: 1; border-radius: 0.35em; box-decoration-break: clone; -webkit-box-decoration-break: clone\">\n",
       "    herb\n",
       "    <span style=\"font-size: 0.8em; font-weight: bold; line-height: 1; border-radius: 0.35em; text-transform: uppercase; vertical-align: middle; margin-left: 0.5rem\">INGRD</span>\n",
       "</mark>\n",
       ", and \n",
       "<mark class=\"entity\" style=\"background: #ddd; padding: 0.45em 0.6em; margin: 0 0.25em; line-height: 1; border-radius: 0.35em; box-decoration-break: clone; -webkit-box-decoration-break: clone\">\n",
       "    salt\n",
       "    <span style=\"font-size: 0.8em; font-weight: bold; line-height: 1; border-radius: 0.35em; text-transform: uppercase; vertical-align: middle; margin-left: 0.5rem\">INGRD</span>\n",
       "</mark>\n",
       " and \n",
       "<mark class=\"entity\" style=\"background: #ddd; padding: 0.45em 0.6em; margin: 0 0.25em; line-height: 1; border-radius: 0.35em; box-decoration-break: clone; -webkit-box-decoration-break: clone\">\n",
       "    pepper\n",
       "    <span style=\"font-size: 0.8em; font-weight: bold; line-height: 1; border-radius: 0.35em; text-transform: uppercase; vertical-align: middle; margin-left: 0.5rem\">INGRD</span>\n",
       "</mark>\n",
       ".</div>"
      ],
      "text/plain": [
       "<IPython.core.display.HTML object>"
      ]
     },
     "metadata": {},
     "output_type": "display_data"
    },
    {
     "data": {
      "text/html": [
       "<div class=\"entities\" style=\"line-height: 2.5\">Remove from heat and \n",
       "<mark class=\"entity\" style=\"background: #ddd; padding: 0.45em 0.6em; margin: 0 0.25em; line-height: 1; border-radius: 0.35em; box-decoration-break: clone; -webkit-box-decoration-break: clone\">\n",
       "    cool\n",
       "    <span style=\"font-size: 0.8em; font-weight: bold; line-height: 1; border-radius: 0.35em; text-transform: uppercase; vertical-align: middle; margin-left: 0.5rem\">ACTION</span>\n",
       "</mark>\n",
       " to \n",
       "<mark class=\"entity\" style=\"background: #ddd; padding: 0.45em 0.6em; margin: 0 0.25em; line-height: 1; border-radius: 0.35em; box-decoration-break: clone; -webkit-box-decoration-break: clone\">\n",
       "    warm\n",
       "    <span style=\"font-size: 0.8em; font-weight: bold; line-height: 1; border-radius: 0.35em; text-transform: uppercase; vertical-align: middle; margin-left: 0.5rem\">ACTION</span>\n",
       "</mark>\n",
       " or room temperature.</div>"
      ],
      "text/plain": [
       "<IPython.core.display.HTML object>"
      ]
     },
     "metadata": {},
     "output_type": "display_data"
    },
    {
     "data": {
      "text/html": [
       "<div class=\"entities\" style=\"line-height: 2.5\">\n",
       "<mark class=\"entity\" style=\"background: #ddd; padding: 0.45em 0.6em; margin: 0 0.25em; line-height: 1; border-radius: 0.35em; box-decoration-break: clone; -webkit-box-decoration-break: clone\">\n",
       "    Stir\n",
       "    <span style=\"font-size: 0.8em; font-weight: bold; line-height: 1; border-radius: 0.35em; text-transform: uppercase; vertical-align: middle; margin-left: 0.5rem\">ACTION</span>\n",
       "</mark>\n",
       " in remaining \n",
       "<mark class=\"entity\" style=\"background: #ddd; padding: 0.45em 0.6em; margin: 0 0.25em; line-height: 1; border-radius: 0.35em; box-decoration-break: clone; -webkit-box-decoration-break: clone\">\n",
       "    herbs\n",
       "    <span style=\"font-size: 0.8em; font-weight: bold; line-height: 1; border-radius: 0.35em; text-transform: uppercase; vertical-align: middle; margin-left: 0.5rem\">INGRD</span>\n",
       "</mark>\n",
       ".</div>"
      ],
      "text/plain": [
       "<IPython.core.display.HTML object>"
      ]
     },
     "metadata": {},
     "output_type": "display_data"
    },
    {
     "name": "stdout",
     "output_type": "stream",
     "text": [
      "\n",
      "APPLE CIDER PUNCH\n",
      "\n"
     ]
    },
    {
     "data": {
      "text/html": [
       "<div class=\"entities\" style=\"line-height: 2.5\">In a punch bowl, combine applejack, whiskey, \n",
       "<mark class=\"entity\" style=\"background: #ddd; padding: 0.45em 0.6em; margin: 0 0.25em; line-height: 1; border-radius: 0.35em; box-decoration-break: clone; -webkit-box-decoration-break: clone\">\n",
       "    lime\n",
       "    <span style=\"font-size: 0.8em; font-weight: bold; line-height: 1; border-radius: 0.35em; text-transform: uppercase; vertical-align: middle; margin-left: 0.5rem\">INGRD</span>\n",
       "</mark>\n",
       " juice and \n",
       "<mark class=\"entity\" style=\"background: #ddd; padding: 0.45em 0.6em; margin: 0 0.25em; line-height: 1; border-radius: 0.35em; box-decoration-break: clone; -webkit-box-decoration-break: clone\">\n",
       "    apple\n",
       "    <span style=\"font-size: 0.8em; font-weight: bold; line-height: 1; border-radius: 0.35em; text-transform: uppercase; vertical-align: middle; margin-left: 0.5rem\">INGRD</span>\n",
       "</mark>\n",
       " cider.</div>"
      ],
      "text/plain": [
       "<IPython.core.display.HTML object>"
      ]
     },
     "metadata": {},
     "output_type": "display_data"
    },
    {
     "data": {
      "text/html": [
       "<div class=\"entities\" style=\"line-height: 2.5\">\n",
       "<mark class=\"entity\" style=\"background: #ddd; padding: 0.45em 0.6em; margin: 0 0.25em; line-height: 1; border-radius: 0.35em; box-decoration-break: clone; -webkit-box-decoration-break: clone\">\n",
       "    Stir\n",
       "    <span style=\"font-size: 0.8em; font-weight: bold; line-height: 1; border-radius: 0.35em; text-transform: uppercase; vertical-align: middle; margin-left: 0.5rem\">ACTION</span>\n",
       "</mark>\n",
       " in \n",
       "<mark class=\"entity\" style=\"background: #ddd; padding: 0.45em 0.6em; margin: 0 0.25em; line-height: 1; border-radius: 0.35em; box-decoration-break: clone; -webkit-box-decoration-break: clone\">\n",
       "    cloves\n",
       "    <span style=\"font-size: 0.8em; font-weight: bold; line-height: 1; border-radius: 0.35em; text-transform: uppercase; vertical-align: middle; margin-left: 0.5rem\">INGRD</span>\n",
       "</mark>\n",
       ".</div>"
      ],
      "text/plain": [
       "<IPython.core.display.HTML object>"
      ]
     },
     "metadata": {},
     "output_type": "display_data"
    },
    {
     "data": {
      "text/html": [
       "<div class=\"entities\" style=\"line-height: 2.5\">\n",
       "<mark class=\"entity\" style=\"background: #feca74; padding: 0.45em 0.6em; margin: 0 0.25em; line-height: 1; border-radius: 0.35em; box-decoration-break: clone; -webkit-box-decoration-break: clone\">\n",
       "    Chill\n",
       "    <span style=\"font-size: 0.8em; font-weight: bold; line-height: 1; border-radius: 0.35em; text-transform: uppercase; vertical-align: middle; margin-left: 0.5rem\">GPE</span>\n",
       "</mark>\n",
       " for \n",
       "<mark class=\"entity\" style=\"background: #bfe1d9; padding: 0.45em 0.6em; margin: 0 0.25em; line-height: 1; border-radius: 0.35em; box-decoration-break: clone; -webkit-box-decoration-break: clone\">\n",
       "    1 hour\n",
       "    <span style=\"font-size: 0.8em; font-weight: bold; line-height: 1; border-radius: 0.35em; text-transform: uppercase; vertical-align: middle; margin-left: 0.5rem\">TIME</span>\n",
       "</mark>\n",
       ".</div>"
      ],
      "text/plain": [
       "<IPython.core.display.HTML object>"
      ]
     },
     "metadata": {},
     "output_type": "display_data"
    },
    {
     "name": "stderr",
     "output_type": "stream",
     "text": [
      "/opt/conda/lib/python3.6/runpy.py:193: UserWarning: [W006] No entities to visualize found in Doc object. If this is surprising to you, make sure the Doc was processed using a model that supports named entity recognition, and check the `doc.ents` property manually if necessary.\n",
      "  \"__main__\", mod_spec)\n"
     ]
    },
    {
     "data": {
      "text/html": [
       "<div class=\"entities\" style=\"line-height: 2.5\">Add a block of ice or ice cubes.</div>"
      ],
      "text/plain": [
       "<IPython.core.display.HTML object>"
      ]
     },
     "metadata": {},
     "output_type": "display_data"
    },
    {
     "data": {
      "text/html": [
       "<div class=\"entities\" style=\"line-height: 2.5\">\n",
       "<mark class=\"entity\" style=\"background: #c887fb; padding: 0.45em 0.6em; margin: 0 0.25em; line-height: 1; border-radius: 0.35em; box-decoration-break: clone; -webkit-box-decoration-break: clone\">\n",
       "    Garnish\n",
       "    <span style=\"font-size: 0.8em; font-weight: bold; line-height: 1; border-radius: 0.35em; text-transform: uppercase; vertical-align: middle; margin-left: 0.5rem\">NORP</span>\n",
       "</mark>\n",
       " the punch with \n",
       "<mark class=\"entity\" style=\"background: #ddd; padding: 0.45em 0.6em; margin: 0 0.25em; line-height: 1; border-radius: 0.35em; box-decoration-break: clone; -webkit-box-decoration-break: clone\">\n",
       "    apple\n",
       "    <span style=\"font-size: 0.8em; font-weight: bold; line-height: 1; border-radius: 0.35em; text-transform: uppercase; vertical-align: middle; margin-left: 0.5rem\">INGRD</span>\n",
       "</mark>\n",
       " and \n",
       "<mark class=\"entity\" style=\"background: #ddd; padding: 0.45em 0.6em; margin: 0 0.25em; line-height: 1; border-radius: 0.35em; box-decoration-break: clone; -webkit-box-decoration-break: clone\">\n",
       "    lime\n",
       "    <span style=\"font-size: 0.8em; font-weight: bold; line-height: 1; border-radius: 0.35em; text-transform: uppercase; vertical-align: middle; margin-left: 0.5rem\">INGRD</span>\n",
       "</mark>\n",
       " slices.</div>"
      ],
      "text/plain": [
       "<IPython.core.display.HTML object>"
      ]
     },
     "metadata": {},
     "output_type": "display_data"
    },
    {
     "name": "stdout",
     "output_type": "stream",
     "text": [
      "\n",
      "MANGO JICAMA CHOPPED SALAD\n",
      "\n"
     ]
    },
    {
     "data": {
      "text/html": [
       "<div class=\"entities\" style=\"line-height: 2.5\">\n",
       "<mark class=\"entity\" style=\"background: #ddd; padding: 0.45em 0.6em; margin: 0 0.25em; line-height: 1; border-radius: 0.35em; box-decoration-break: clone; -webkit-box-decoration-break: clone\">\n",
       "    Whisk\n",
       "    <span style=\"font-size: 0.8em; font-weight: bold; line-height: 1; border-radius: 0.35em; text-transform: uppercase; vertical-align: middle; margin-left: 0.5rem\">TOOL</span>\n",
       "</mark>\n",
       " together juice, \n",
       "<mark class=\"entity\" style=\"background: #ddd; padding: 0.45em 0.6em; margin: 0 0.25em; line-height: 1; border-radius: 0.35em; box-decoration-break: clone; -webkit-box-decoration-break: clone\">\n",
       "    honey\n",
       "    <span style=\"font-size: 0.8em; font-weight: bold; line-height: 1; border-radius: 0.35em; text-transform: uppercase; vertical-align: middle; margin-left: 0.5rem\">INGRD</span>\n",
       "</mark>\n",
       ", \n",
       "<mark class=\"entity\" style=\"background: #ddd; padding: 0.45em 0.6em; margin: 0 0.25em; line-height: 1; border-radius: 0.35em; box-decoration-break: clone; -webkit-box-decoration-break: clone\">\n",
       "    vinegar\n",
       "    <span style=\"font-size: 0.8em; font-weight: bold; line-height: 1; border-radius: 0.35em; text-transform: uppercase; vertical-align: middle; margin-left: 0.5rem\">INGRD</span>\n",
       "</mark>\n",
       ", and \n",
       "<mark class=\"entity\" style=\"background: #ddd; padding: 0.45em 0.6em; margin: 0 0.25em; line-height: 1; border-radius: 0.35em; box-decoration-break: clone; -webkit-box-decoration-break: clone\">\n",
       "    garlic\n",
       "    <span style=\"font-size: 0.8em; font-weight: bold; line-height: 1; border-radius: 0.35em; text-transform: uppercase; vertical-align: middle; margin-left: 0.5rem\">INGRD</span>\n",
       "</mark>\n",
       ".</div>"
      ],
      "text/plain": [
       "<IPython.core.display.HTML object>"
      ]
     },
     "metadata": {},
     "output_type": "display_data"
    },
    {
     "data": {
      "text/html": [
       "<div class=\"entities\" style=\"line-height: 2.5\">Add \n",
       "<mark class=\"entity\" style=\"background: #ddd; padding: 0.45em 0.6em; margin: 0 0.25em; line-height: 1; border-radius: 0.35em; box-decoration-break: clone; -webkit-box-decoration-break: clone\">\n",
       "    oil\n",
       "    <span style=\"font-size: 0.8em; font-weight: bold; line-height: 1; border-radius: 0.35em; text-transform: uppercase; vertical-align: middle; margin-left: 0.5rem\">INGRD</span>\n",
       "</mark>\n",
       " in a slow stream, whisking until emulsified.</div>"
      ],
      "text/plain": [
       "<IPython.core.display.HTML object>"
      ]
     },
     "metadata": {},
     "output_type": "display_data"
    },
    {
     "data": {
      "text/html": [
       "<div class=\"entities\" style=\"line-height: 2.5\">\n",
       "<mark class=\"entity\" style=\"background: #ddd; padding: 0.45em 0.6em; margin: 0 0.25em; line-height: 1; border-radius: 0.35em; box-decoration-break: clone; -webkit-box-decoration-break: clone\">\n",
       "    Season\n",
       "    <span style=\"font-size: 0.8em; font-weight: bold; line-height: 1; border-radius: 0.35em; text-transform: uppercase; vertical-align: middle; margin-left: 0.5rem\">ACTION</span>\n",
       "</mark>\n",
       " with \n",
       "<mark class=\"entity\" style=\"background: #ddd; padding: 0.45em 0.6em; margin: 0 0.25em; line-height: 1; border-radius: 0.35em; box-decoration-break: clone; -webkit-box-decoration-break: clone\">\n",
       "    salt\n",
       "    <span style=\"font-size: 0.8em; font-weight: bold; line-height: 1; border-radius: 0.35em; text-transform: uppercase; vertical-align: middle; margin-left: 0.5rem\">INGRD</span>\n",
       "</mark>\n",
       " and \n",
       "<mark class=\"entity\" style=\"background: #ddd; padding: 0.45em 0.6em; margin: 0 0.25em; line-height: 1; border-radius: 0.35em; box-decoration-break: clone; -webkit-box-decoration-break: clone\">\n",
       "    pepper\n",
       "    <span style=\"font-size: 0.8em; font-weight: bold; line-height: 1; border-radius: 0.35em; text-transform: uppercase; vertical-align: middle; margin-left: 0.5rem\">INGRD</span>\n",
       "</mark>\n",
       ".</div>"
      ],
      "text/plain": [
       "<IPython.core.display.HTML object>"
      ]
     },
     "metadata": {},
     "output_type": "display_data"
    },
    {
     "data": {
      "text/html": [
       "<div class=\"entities\" style=\"line-height: 2.5\">\n",
       "<mark class=\"entity\" style=\"background: #ddd; padding: 0.45em 0.6em; margin: 0 0.25em; line-height: 1; border-radius: 0.35em; box-decoration-break: clone; -webkit-box-decoration-break: clone\">\n",
       "    Toss\n",
       "    <span style=\"font-size: 0.8em; font-weight: bold; line-height: 1; border-radius: 0.35em; text-transform: uppercase; vertical-align: middle; margin-left: 0.5rem\">ACTION</span>\n",
       "</mark>\n",
       " together jicama, mangoes, \n",
       "<mark class=\"entity\" style=\"background: #ddd; padding: 0.45em 0.6em; margin: 0 0.25em; line-height: 1; border-radius: 0.35em; box-decoration-break: clone; -webkit-box-decoration-break: clone\">\n",
       "    cabbage\n",
       "    <span style=\"font-size: 0.8em; font-weight: bold; line-height: 1; border-radius: 0.35em; text-transform: uppercase; vertical-align: middle; margin-left: 0.5rem\">INGRD</span>\n",
       "</mark>\n",
       ", romaine, and \n",
       "<mark class=\"entity\" style=\"background: #ddd; padding: 0.45em 0.6em; margin: 0 0.25em; line-height: 1; border-radius: 0.35em; box-decoration-break: clone; -webkit-box-decoration-break: clone\">\n",
       "    cucumber\n",
       "    <span style=\"font-size: 0.8em; font-weight: bold; line-height: 1; border-radius: 0.35em; text-transform: uppercase; vertical-align: middle; margin-left: 0.5rem\">INGRD</span>\n",
       "</mark>\n",
       " with \n",
       "<mark class=\"entity\" style=\"background: #ddd; padding: 0.45em 0.6em; margin: 0 0.25em; line-height: 1; border-radius: 0.35em; box-decoration-break: clone; -webkit-box-decoration-break: clone\">\n",
       "    dressing\n",
       "    <span style=\"font-size: 0.8em; font-weight: bold; line-height: 1; border-radius: 0.35em; text-transform: uppercase; vertical-align: middle; margin-left: 0.5rem\">INGRD</span>\n",
       "</mark>\n",
       " to \n",
       "<mark class=\"entity\" style=\"background: #ddd; padding: 0.45em 0.6em; margin: 0 0.25em; line-height: 1; border-radius: 0.35em; box-decoration-break: clone; -webkit-box-decoration-break: clone\">\n",
       "    taste\n",
       "    <span style=\"font-size: 0.8em; font-weight: bold; line-height: 1; border-radius: 0.35em; text-transform: uppercase; vertical-align: middle; margin-left: 0.5rem\">ACTION</span>\n",
       "</mark>\n",
       ".</div>"
      ],
      "text/plain": [
       "<IPython.core.display.HTML object>"
      ]
     },
     "metadata": {},
     "output_type": "display_data"
    },
    {
     "data": {
      "text/html": [
       "<div class=\"entities\" style=\"line-height: 2.5\">Serve \n",
       "<mark class=\"entity\" style=\"background: #ddd; padding: 0.45em 0.6em; margin: 0 0.25em; line-height: 1; border-radius: 0.35em; box-decoration-break: clone; -webkit-box-decoration-break: clone\">\n",
       "    salad\n",
       "    <span style=\"font-size: 0.8em; font-weight: bold; line-height: 1; border-radius: 0.35em; text-transform: uppercase; vertical-align: middle; margin-left: 0.5rem\">INGRD</span>\n",
       "</mark>\n",
       " sprinkled with \n",
       "<mark class=\"entity\" style=\"background: #ddd; padding: 0.45em 0.6em; margin: 0 0.25em; line-height: 1; border-radius: 0.35em; box-decoration-break: clone; -webkit-box-decoration-break: clone\">\n",
       "    pumpkin\n",
       "    <span style=\"font-size: 0.8em; font-weight: bold; line-height: 1; border-radius: 0.35em; text-transform: uppercase; vertical-align: middle; margin-left: 0.5rem\">INGRD</span>\n",
       "</mark>\n",
       " \n",
       "<mark class=\"entity\" style=\"background: #ddd; padding: 0.45em 0.6em; margin: 0 0.25em; line-height: 1; border-radius: 0.35em; box-decoration-break: clone; -webkit-box-decoration-break: clone\">\n",
       "    seeds\n",
       "    <span style=\"font-size: 0.8em; font-weight: bold; line-height: 1; border-radius: 0.35em; text-transform: uppercase; vertical-align: middle; margin-left: 0.5rem\">INGRD</span>\n",
       "</mark>\n",
       ".</div>"
      ],
      "text/plain": [
       "<IPython.core.display.HTML object>"
      ]
     },
     "metadata": {},
     "output_type": "display_data"
    },
    {
     "name": "stdout",
     "output_type": "stream",
     "text": [
      "\n",
      "GRILLED PEACHES WITH PECORINO AND PROSCIUTTO\n",
      "\n"
     ]
    },
    {
     "data": {
      "text/html": [
       "<div class=\"entities\" style=\"line-height: 2.5\">Spray grill rack with nonstick spray; \n",
       "<mark class=\"entity\" style=\"background: #ddd; padding: 0.45em 0.6em; margin: 0 0.25em; line-height: 1; border-radius: 0.35em; box-decoration-break: clone; -webkit-box-decoration-break: clone\">\n",
       "    prepare\n",
       "    <span style=\"font-size: 0.8em; font-weight: bold; line-height: 1; border-radius: 0.35em; text-transform: uppercase; vertical-align: middle; margin-left: 0.5rem\">ACTION</span>\n",
       "</mark>\n",
       " barbecue (high heat).</div>"
      ],
      "text/plain": [
       "<IPython.core.display.HTML object>"
      ]
     },
     "metadata": {},
     "output_type": "display_data"
    },
    {
     "data": {
      "text/html": [
       "<div class=\"entities\" style=\"line-height: 2.5\">\n",
       "<mark class=\"entity\" style=\"background: #aa9cfc; padding: 0.45em 0.6em; margin: 0 0.25em; line-height: 1; border-radius: 0.35em; box-decoration-break: clone; -webkit-box-decoration-break: clone\">\n",
       "    Brush\n",
       "    <span style=\"font-size: 0.8em; font-weight: bold; line-height: 1; border-radius: 0.35em; text-transform: uppercase; vertical-align: middle; margin-left: 0.5rem\">PERSON</span>\n",
       "</mark>\n",
       " \n",
       "<mark class=\"entity\" style=\"background: #ddd; padding: 0.45em 0.6em; margin: 0 0.25em; line-height: 1; border-radius: 0.35em; box-decoration-break: clone; -webkit-box-decoration-break: clone\">\n",
       "    peach\n",
       "    <span style=\"font-size: 0.8em; font-weight: bold; line-height: 1; border-radius: 0.35em; text-transform: uppercase; vertical-align: middle; margin-left: 0.5rem\">INGRD</span>\n",
       "</mark>\n",
       " halves with \n",
       "<mark class=\"entity\" style=\"background: #ddd; padding: 0.45em 0.6em; margin: 0 0.25em; line-height: 1; border-radius: 0.35em; box-decoration-break: clone; -webkit-box-decoration-break: clone\">\n",
       "    oil\n",
       "    <span style=\"font-size: 0.8em; font-weight: bold; line-height: 1; border-radius: 0.35em; text-transform: uppercase; vertical-align: middle; margin-left: 0.5rem\">INGRD</span>\n",
       "</mark>\n",
       " and \n",
       "<mark class=\"entity\" style=\"background: #ddd; padding: 0.45em 0.6em; margin: 0 0.25em; line-height: 1; border-radius: 0.35em; box-decoration-break: clone; -webkit-box-decoration-break: clone\">\n",
       "    sprinkle\n",
       "    <span style=\"font-size: 0.8em; font-weight: bold; line-height: 1; border-radius: 0.35em; text-transform: uppercase; vertical-align: middle; margin-left: 0.5rem\">ACTION</span>\n",
       "</mark>\n",
       " with \n",
       "<mark class=\"entity\" style=\"background: #ddd; padding: 0.45em 0.6em; margin: 0 0.25em; line-height: 1; border-radius: 0.35em; box-decoration-break: clone; -webkit-box-decoration-break: clone\">\n",
       "    salt\n",
       "    <span style=\"font-size: 0.8em; font-weight: bold; line-height: 1; border-radius: 0.35em; text-transform: uppercase; vertical-align: middle; margin-left: 0.5rem\">INGRD</span>\n",
       "</mark>\n",
       " and \n",
       "<mark class=\"entity\" style=\"background: #ddd; padding: 0.45em 0.6em; margin: 0 0.25em; line-height: 1; border-radius: 0.35em; box-decoration-break: clone; -webkit-box-decoration-break: clone\">\n",
       "    pepper\n",
       "    <span style=\"font-size: 0.8em; font-weight: bold; line-height: 1; border-radius: 0.35em; text-transform: uppercase; vertical-align: middle; margin-left: 0.5rem\">INGRD</span>\n",
       "</mark>\n",
       ".</div>"
      ],
      "text/plain": [
       "<IPython.core.display.HTML object>"
      ]
     },
     "metadata": {},
     "output_type": "display_data"
    },
    {
     "data": {
      "text/html": [
       "<div class=\"entities\" style=\"line-height: 2.5\">Grill \n",
       "<mark class=\"entity\" style=\"background: #ddd; padding: 0.45em 0.6em; margin: 0 0.25em; line-height: 1; border-radius: 0.35em; box-decoration-break: clone; -webkit-box-decoration-break: clone\">\n",
       "    peaches\n",
       "    <span style=\"font-size: 0.8em; font-weight: bold; line-height: 1; border-radius: 0.35em; text-transform: uppercase; vertical-align: middle; margin-left: 0.5rem\">INGRD</span>\n",
       "</mark>\n",
       " until lightly charred, \n",
       "<mark class=\"entity\" style=\"background: #bfe1d9; padding: 0.45em 0.6em; margin: 0 0.25em; line-height: 1; border-radius: 0.35em; box-decoration-break: clone; -webkit-box-decoration-break: clone\">\n",
       "    about 2 minutes\n",
       "    <span style=\"font-size: 0.8em; font-weight: bold; line-height: 1; border-radius: 0.35em; text-transform: uppercase; vertical-align: middle; margin-left: 0.5rem\">TIME</span>\n",
       "</mark>\n",
       " per side.</div>"
      ],
      "text/plain": [
       "<IPython.core.display.HTML object>"
      ]
     },
     "metadata": {},
     "output_type": "display_data"
    },
    {
     "data": {
      "text/html": [
       "<div class=\"entities\" style=\"line-height: 2.5\">Place on large plate, skin side down; \n",
       "<mark class=\"entity\" style=\"background: #ddd; padding: 0.45em 0.6em; margin: 0 0.25em; line-height: 1; border-radius: 0.35em; box-decoration-break: clone; -webkit-box-decoration-break: clone\">\n",
       "    top\n",
       "    <span style=\"font-size: 0.8em; font-weight: bold; line-height: 1; border-radius: 0.35em; text-transform: uppercase; vertical-align: middle; margin-left: 0.5rem\">ACTION</span>\n",
       "</mark>\n",
       " each with \n",
       "<mark class=\"entity\" style=\"background: #ddd; padding: 0.45em 0.6em; margin: 0 0.25em; line-height: 1; border-radius: 0.35em; box-decoration-break: clone; -webkit-box-decoration-break: clone\">\n",
       "    cheese\n",
       "    <span style=\"font-size: 0.8em; font-weight: bold; line-height: 1; border-radius: 0.35em; text-transform: uppercase; vertical-align: middle; margin-left: 0.5rem\">INGRD</span>\n",
       "</mark>\n",
       " \n",
       "<mark class=\"entity\" style=\"background: #ddd; padding: 0.45em 0.6em; margin: 0 0.25em; line-height: 1; border-radius: 0.35em; box-decoration-break: clone; -webkit-box-decoration-break: clone\">\n",
       "    slice\n",
       "    <span style=\"font-size: 0.8em; font-weight: bold; line-height: 1; border-radius: 0.35em; text-transform: uppercase; vertical-align: middle; margin-left: 0.5rem\">ACTION</span>\n",
       "</mark>\n",
       " and \n",
       "<mark class=\"entity\" style=\"background: #ddd; padding: 0.45em 0.6em; margin: 0 0.25em; line-height: 1; border-radius: 0.35em; box-decoration-break: clone; -webkit-box-decoration-break: clone\">\n",
       "    drape\n",
       "    <span style=\"font-size: 0.8em; font-weight: bold; line-height: 1; border-radius: 0.35em; text-transform: uppercase; vertical-align: middle; margin-left: 0.5rem\">ACTION</span>\n",
       "</mark>\n",
       " with prosciutto.</div>"
      ],
      "text/plain": [
       "<IPython.core.display.HTML object>"
      ]
     },
     "metadata": {},
     "output_type": "display_data"
    },
    {
     "name": "stderr",
     "output_type": "stream",
     "text": [
      "/opt/conda/lib/python3.6/runpy.py:193: UserWarning: [W006] No entities to visualize found in Doc object. If this is surprising to you, make sure the Doc was processed using a model that supports named entity recognition, and check the `doc.ents` property manually if necessary.\n",
      "  \"__main__\", mod_spec)\n"
     ]
    },
    {
     "data": {
      "text/html": [
       "<div class=\"entities\" style=\"line-height: 2.5\">Serve immediately.</div>"
      ],
      "text/plain": [
       "<IPython.core.display.HTML object>"
      ]
     },
     "metadata": {},
     "output_type": "display_data"
    }
   ],
   "source": [
    "# spaCy parameters under Token:\n",
    "# Text: The original word text.\n",
    "# Lemma: The base form of the word.\n",
    "# POS: The simple part-of-speech tag.\n",
    "# Tag: The detailed part-of-speech tag.\n",
    "# Dep: Syntactic dependency, i.e. the relation between tokens.\n",
    "# Shape: The word shape – capitalisation, punctuation, digits.\n",
    "# is alpha: Is the token an alpha character?\n",
    "# is stop: Is the token part of a stop list, i.e. the most common words of the language?\n",
    "\n",
    "for recipe in train_recipes[0:10]:\n",
    "    # title\n",
    "    print('\\n' + epicurious['title'][recipe].upper() + '\\n')\n",
    "\n",
    "    # ingredients    \n",
    "#     for each in epicurious['ingredients'][recipe]:\n",
    "#         ingredient = list(each.values())[0]\n",
    "#         displacy.render(nlp(ingredient), style='ent', jupyter=True)\n",
    "    \n",
    "    # instructoins    \n",
    "    for each in epicurious['instructions'][recipe]:\n",
    "        instruction = list(each.values())[0]\n",
    "        displacy.render(nlp(instruction), style='ent', jupyter=True)\n",
    "        # print parser tree for each step\n",
    "        #explacy.print_parse_info(nlp, instruction)"
   ]
  },
  {
   "cell_type": "code",
   "execution_count": null,
   "metadata": {},
   "outputs": [],
   "source": [
    "# for each in (epicurious['ingredients'].head(1)):\n",
    "#     for k, v in enumerate(each):\n",
    "#         doc = nlp(list(v.values())[0])\n",
    "#         print(list(v.values())[0])\n",
    "#         for chunk in doc.noun_chunks:\n",
    "#             print(chunk.root)"
   ]
  },
  {
   "cell_type": "code",
   "execution_count": null,
   "metadata": {},
   "outputs": [],
   "source": [
    "# import benepar\n",
    "# benepar.download('benepar_en')"
   ]
  },
  {
   "cell_type": "code",
   "execution_count": null,
   "metadata": {},
   "outputs": [],
   "source": [
    "# from benepar.spacy_plugin import BeneparComponent"
   ]
  },
  {
   "cell_type": "code",
   "execution_count": null,
   "metadata": {},
   "outputs": [],
   "source": [
    "# nlp = spacy.load('en')\n",
    "# nlp.add_pipe(BeneparComponent('benepar_en'))"
   ]
  },
  {
   "cell_type": "code",
   "execution_count": null,
   "metadata": {},
   "outputs": [],
   "source": [
    "# doc = nlp(\"Bring some light chicken broth to a boil with a few leaves of fresh sage.\")\n",
    "# sent = list(doc.sents)[0]"
   ]
  },
  {
   "cell_type": "code",
   "execution_count": null,
   "metadata": {},
   "outputs": [],
   "source": [
    "# for each in enumerate (sent._.children):\n",
    "#     print(each)"
   ]
  },
  {
   "cell_type": "code",
   "execution_count": null,
   "metadata": {},
   "outputs": [],
   "source": [
    "# type(sent._.children)"
   ]
  },
  {
   "cell_type": "code",
   "execution_count": null,
   "metadata": {},
   "outputs": [],
   "source": [
    "# for each in enumerate (sent._.children):\n",
    "#     # go from the start to the end of each span, returning each token in the sentence\n",
    "#     # combine each token using join()\n",
    "#     print(each.parse_string)"
   ]
  },
  {
   "cell_type": "code",
   "execution_count": 14,
   "metadata": {},
   "outputs": [
    {
     "data": {
      "text/plain": [
       "50"
      ]
     },
     "execution_count": 14,
     "metadata": {},
     "output_type": "execute_result"
    }
   ],
   "source": [
    "test_all_recipes = epicurious[(epicurious.partition=='test')].index\n",
    "\n",
    "test_recipes = test_all_recipes[0:50]\n",
    "\n",
    "len(test_recipes)"
   ]
  },
  {
   "cell_type": "code",
   "execution_count": 15,
   "metadata": {},
   "outputs": [],
   "source": [
    "import json\n",
    "exclude_these = [\n",
    "'PERSON',\n",
    "'NORP',\n",
    "'FAC',\n",
    "'ORG',\n",
    "'GPE',\n",
    "'LOC',\n",
    "'PRODUCT',\n",
    "'EVENT',\n",
    "'WORK_OF_ART',\n",
    "'LAW',\n",
    "'LANGUAGE',\n",
    "'MONEY',\n",
    "'ORDINAL', \n",
    "'DATE',\n",
    "'PERCENT',    \n",
    "'CARDINAL'    \n",
    "]\n",
    "\n",
    "nlp = spacy.load('en')\n",
    "\n",
    "ingredients_e = Entity(keywords_list=ingredients, label='INGRD')\n",
    "tools_e = Entity(keywords_list=tools, label='TOOL')\n",
    "actions_e = Entity(keywords_list=actions, label='ACTION')\n",
    "\n",
    "nlp.add_pipe(actions_e, last=True, name=\"Action\")\n",
    "nlp.add_pipe(ingredients_e, last=True, name=\"Ingredient\")\n",
    "nlp.add_pipe(tools_e, last=True, name=\"Tool\")\n",
    "\n",
    "jsonl = open(\"test_100_KH.jsonl\", \"w\")\n",
    "line = {}\n",
    "\n",
    "counter = 0\n",
    "for recipe in test_recipes: \n",
    "    for each in epicurious['instructions'][recipe]:\n",
    "        for instruction in list(each.values()):\n",
    "            if counter <100:\n",
    "                doc = nlp(instruction)\n",
    "                \n",
    "                line['text'] = doc.text\n",
    "                entities = []\n",
    "                \n",
    "                for i in range(len(doc.ents)):\n",
    "                    if doc.ents[i].label_ not in exclude_these:\n",
    "                        entities.append({\"start\" : doc.ents[i].start_char,\n",
    "                                         \"end\" : doc.ents[i].end_char,\n",
    "                                         'label': doc.ents[i].label_ \n",
    "                                        })\n",
    "                line['spans'] = entities\n",
    "                line['answer'] = 'reject'\n",
    "                \n",
    "                jsonl.writelines(json.dumps(line) + \"\\n\")\n",
    "                counter = counter+1\n",
    "jsonl.close()"
   ]
  },
  {
   "cell_type": "code",
   "execution_count": null,
   "metadata": {},
   "outputs": [],
   "source": [
    "# from prodigy.components.db import connect\n",
    "# db = connect()\n",
    "#dataset = db.get_dataset('test_100_KH')"
   ]
  }
 ],
 "metadata": {
  "kernelspec": {
   "display_name": "Python 3",
   "language": "python",
   "name": "python3"
  },
  "language_info": {
   "codemirror_mode": {
    "name": "ipython",
    "version": 3
   },
   "file_extension": ".py",
   "mimetype": "text/x-python",
   "name": "python",
   "nbconvert_exporter": "python",
   "pygments_lexer": "ipython3",
   "version": "3.6.5"
  }
 },
 "nbformat": 4,
 "nbformat_minor": 2
}
