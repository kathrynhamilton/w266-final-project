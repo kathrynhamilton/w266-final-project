{
 "cells": [
  {
   "cell_type": "code",
   "execution_count": 1,
   "metadata": {},
   "outputs": [],
   "source": [
    "import pandas as pd\n",
    "import glob"
   ]
  },
  {
   "cell_type": "code",
   "execution_count": 2,
   "metadata": {},
   "outputs": [],
   "source": [
    "# loading 10 files together will kill the kernel, so use smaller number ...\n",
    "# realistically, it's enough recipes... even with just one pickle (100k)... \n",
    "\n",
    "files = sorted(glob.glob('layer1.json.[0-2].valid.gz'))\n",
    "df = pd.concat([pd.read_pickle(fp) for fp in files], ignore_index=True)"
   ]
  },
  {
   "cell_type": "code",
   "execution_count": 3,
   "metadata": {},
   "outputs": [
    {
     "data": {
      "text/plain": [
       "(299999, 9)"
      ]
     },
     "execution_count": 3,
     "metadata": {},
     "output_type": "execute_result"
    }
   ],
   "source": [
    "df.shape"
   ]
  },
  {
   "cell_type": "code",
   "execution_count": 4,
   "metadata": {},
   "outputs": [
    {
     "data": {
      "text/plain": [
       "partition\n",
       "test      44829\n",
       "train    209738\n",
       "val       45432\n",
       "dtype: int64"
      ]
     },
     "execution_count": 4,
     "metadata": {},
     "output_type": "execute_result"
    }
   ],
   "source": [
    "df.groupby('partition').size()"
   ]
  },
  {
   "cell_type": "code",
   "execution_count": 8,
   "metadata": {},
   "outputs": [
    {
     "data": {
      "text/plain": [
       "collection\n",
       "allrecipes.com              14252\n",
       "cookeatshare.com            17544\n",
       "cooking.nytimes.com          4906\n",
       "cookpad.com                 17890\n",
       "online-cookbook.com          1711\n",
       "recipeland.com               7956\n",
       "tastykitchen.com            22134\n",
       "www.chowhound.com            1843\n",
       "www.cookstr.com              2676\n",
       "www.delish.com               1233\n",
       "www.epicurious.com          14301\n",
       "www.food.com               147985\n",
       "www.foodandwine.com          5206\n",
       "www.foodgeeks.com            3040\n",
       "www.foodnetwork.com         16959\n",
       "www.foodrepublic.com          685\n",
       "www.kraftrecipes.com        14933\n",
       "www.landolakes.com            704\n",
       "www.lovefood.com              578\n",
       "www.myrecipes.com            2104\n",
       "www.vegetariantimes.com      1359\n",
       "dtype: int64"
      ]
     },
     "execution_count": 8,
     "metadata": {},
     "output_type": "execute_result"
    }
   ],
   "source": [
    "df.groupby(['collection']).size()"
   ]
  },
  {
   "cell_type": "markdown",
   "metadata": {},
   "source": [
    "#### Distribution of number of ingredients in the recipes"
   ]
  },
  {
   "cell_type": "code",
   "execution_count": 33,
   "metadata": {},
   "outputs": [
    {
     "data": {
      "text/plain": [
       "<matplotlib.axes._subplots.AxesSubplot at 0x7fa3a1f36400>"
      ]
     },
     "execution_count": 33,
     "metadata": {},
     "output_type": "execute_result"
    },
    {
     "data": {
      "image/png": "[encoded data removed]",
      "text/plain": [
       "<matplotlib.figure.Figure at 0x7fa3a1f367f0>"
      ]
     },
     "metadata": {},
     "output_type": "display_data"
    }
   ],
   "source": [
    "import matplotlib.pyplot as plt\n",
    "\n",
    "plt.figure()\n",
    "df.ingr_count.hist()"
   ]
  },
  {
   "cell_type": "markdown",
   "metadata": {},
   "source": [
    "#### Distribution of number of instructions in the recipes"
   ]
  },
  {
   "cell_type": "code",
   "execution_count": 35,
   "metadata": {},
   "outputs": [
    {
     "data": {
      "text/plain": [
       "<matplotlib.axes._subplots.AxesSubplot at 0x7fa3a1ddd6a0>"
      ]
     },
     "execution_count": 35,
     "metadata": {},
     "output_type": "execute_result"
    },
    {
     "data": {
      "image/png": "[encoded data removed]",
      "text/plain": [
       "<matplotlib.figure.Figure at 0x7fa3a1e3ca58>"
      ]
     },
     "metadata": {},
     "output_type": "display_data"
    }
   ],
   "source": [
    "plt.figure()\n",
    "\n",
    "df.instr_count.hist()"
   ]
  },
  {
   "cell_type": "code",
   "execution_count": 22,
   "metadata": {},
   "outputs": [
    {
     "data": {
      "text/plain": [
       "partition\n",
       "test      879\n",
       "train    4214\n",
       "val       948\n",
       "dtype: int64"
      ]
     },
     "execution_count": 22,
     "metadata": {},
     "output_type": "execute_result"
    }
   ],
   "source": [
    "# let's filter out epicurious recipes with less than 10 steps\n",
    "keep_columns = ['id', 'partition', \n",
    "                'collection', 'title', \n",
    "                'ingr_count', 'instr_count', \n",
    "                'ingredients', 'instructions']\n",
    "\n",
    "epicurious = df[(df.collection == 'www.epicurious.com') \n",
    "   & (df.instr_count<=10)][keep_columns].sort_values(by=['instr_count'], ascending=False)\n",
    "\n",
    "# train, val, test counts\n",
    "epicurious.groupby('partition').size()"
   ]
  },
  {
   "cell_type": "markdown",
   "metadata": {},
   "source": [
    "#### Distribution of ingredients in the <= 10 steps Epicurious recipes"
   ]
  },
  {
   "cell_type": "code",
   "execution_count": 37,
   "metadata": {},
   "outputs": [
    {
     "data": {
      "text/plain": [
       "<matplotlib.axes._subplots.AxesSubplot at 0x7fa3a0c6d6d8>"
      ]
     },
     "execution_count": 37,
     "metadata": {},
     "output_type": "execute_result"
    },
    {
     "data": {
      "image/png": "[encoded data removed]",
      "text/plain": [
       "<matplotlib.figure.Figure at 0x7fa3a0c6d550>"
      ]
     },
     "metadata": {},
     "output_type": "display_data"
    }
   ],
   "source": [
    "plt.figure()\n",
    "epicurious.ingr_count.hist()"
   ]
  },
  {
   "cell_type": "markdown",
   "metadata": {},
   "source": [
    "#### Distribution of steps in the <= 10 steps Epicurious recipes"
   ]
  },
  {
   "cell_type": "code",
   "execution_count": 38,
   "metadata": {},
   "outputs": [
    {
     "data": {
      "text/plain": [
       "<matplotlib.axes._subplots.AxesSubplot at 0x7fa3a0c90240>"
      ]
     },
     "execution_count": 38,
     "metadata": {},
     "output_type": "execute_result"
    },
    {
     "data": {
      "image/png": "[encoded data removed]",
      "text/plain": [
       "<matplotlib.figure.Figure at 0x7fa3a0c61e80>"
      ]
     },
     "metadata": {},
     "output_type": "display_data"
    }
   ],
   "source": [
    "plt.figure()\n",
    "epicurious.instr_count.hist()"
   ]
  },
  {
   "cell_type": "code",
   "execution_count": 31,
   "metadata": {},
   "outputs": [
    {
     "name": "stdout",
     "output_type": "stream",
     "text": [
      "Ingredients:\n",
      "[{'text': '1/2 pound lean beef, preferably sirloin, sliced as thinly as possible'}, {'text': '2 garlic cloves, minced'}, {'text': '3 tablespoons soy sauce'}, {'text': '1 tablespoon dark sesame oil'}, {'text': '3 ounces miyuk (wakame) seaweed, broken into bits'}, {'text': '2 tablespoons corn, grapeseed, or other neutral oil'}, {'text': '2 scallions, cut into 2-inch lengths, plus chopped scallion for garnish'}, {'text': 'Salt and black pepper to taste'}]\n",
      "\n",
      "\n",
      "Instructions:\n",
      "[{'text': 'Mix the beef with the garlic, soy sauce, and sesame oil and marinate for a few minutes.'}, {'text': 'Meanwhile, thoroughly wash the seaweed under cold running water.'}, {'text': 'Heat the oil in a large saucepan over medium-high heat.'}, {'text': 'Add the beef with its marinade and brown, about 2 minutes, then add the seaweed and cook, stirring, for another 2 minutes.'}, {'text': 'Add the scallions and 5 cups water to the saucepan and bring to a boil.'}, {'text': 'Lower the heat and simmer, partially covered, until the seaweed is soft, about 1 hour.'}, {'text': 'Season with salt and pepper, garnish with chopped scallion, and serve.'}, {'text': 'Cook through step 2, then cool.'}, {'text': 'Meanwhile, seed and thinly slice 1 cucumber and peel and thinly slice one 2-inch piece of daikon radish.'}, {'text': 'Add to the cooled soup, along with 6 ice cubes, and serve.'}]\n"
     ]
    }
   ],
   "source": [
    "# one example of ingredients and instructions\n",
    "print('Ingredients:')\n",
    "print(epicurious['ingredients'][142598])\n",
    "print('\\n')\n",
    "print('Instructions:')\n",
    "print(epicurious['instructions'][142598])"
   ]
  }
 ],
 "metadata": {
  "kernelspec": {
   "display_name": "Python 3",
   "language": "python",
   "name": "python3"
  },
  "language_info": {
   "codemirror_mode": {
    "name": "ipython",
    "version": 3
   },
   "file_extension": ".py",
   "mimetype": "text/x-python",
   "name": "python",
   "nbconvert_exporter": "python",
   "pygments_lexer": "ipython3",
   "version": "3.6.4"
  }
 },
 "nbformat": 4,
 "nbformat_minor": 2
}
